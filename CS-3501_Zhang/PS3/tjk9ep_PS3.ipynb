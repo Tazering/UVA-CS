{
  "cells": [
    {
      "cell_type": "markdown",
      "metadata": {
        "id": "d5yMKoZCug7H"
      },
      "source": [
        "# **Homework 3: Linear Regression & SVD**"
      ]
    },
    {
      "cell_type": "markdown",
      "metadata": {
        "id": "Iu7kjwxWuqQ6"
      },
      "source": [
        "## **1**\n",
        "\n"
      ]
    },
    {
      "cell_type": "code",
      "execution_count": 21,
      "metadata": {
        "id": "BZECt2uLuBER"
      },
      "outputs": [],
      "source": [
        "import numpy as np\n",
        "import pandas as pd\n",
        "import seaborn as sns\n",
        "\n",
        "data_path = \"./faithful.csv\"\n",
        "\n",
        "faithful_data = pd.read_csv(data_path)"
      ]
    },
    {
      "cell_type": "markdown",
      "metadata": {
        "id": "tXlnuOPivFZ0"
      },
      "source": [
        "### **a**"
      ]
    },
    {
      "cell_type": "code",
      "execution_count": 22,
      "metadata": {
        "colab": {
          "base_uri": "https://localhost:8080/",
          "height": 466
        },
        "id": "iQfxwzYRvqGI",
        "outputId": "fee44411-efea-4fe2-ae93-115f46af6ad0"
      },
      "outputs": [
        {
          "output_type": "execute_result",
          "data": {
            "text/plain": [
              "<Axes: xlabel='eruptions', ylabel='waiting'>"
            ]
          },
          "metadata": {},
          "execution_count": 22
        },
        {
          "output_type": "display_data",
          "data": {
            "text/plain": [
              "<Figure size 640x480 with 1 Axes>"
            ],
            "image/png": "[encoded data removed]"
          },
          "metadata": {}
        }
      ],
      "source": [
        "x_eruptions = faithful_data[\"eruptions\"]\n",
        "y_waiting = faithful_data[\"waiting\"]\n",
        "\n",
        "sns.scatterplot(x = x_eruptions, y = y_waiting)"
      ]
    },
    {
      "cell_type": "markdown",
      "metadata": {
        "id": "Y0I-pHmjx9lk"
      },
      "source": [
        "There seems to be a positive linear relationship between the eruption duration and wait times."
      ]
    },
    {
      "cell_type": "markdown",
      "metadata": {
        "id": "xS07sYxOyG_O"
      },
      "source": [
        "### **b**"
      ]
    },
    {
      "cell_type": "code",
      "execution_count": 23,
      "metadata": {
        "colab": {
          "base_uri": "https://localhost:8080/"
        },
        "id": "-BDo7Z5zyGcj",
        "outputId": "8f91fa8d-0a09-4b15-b15a-e98b16dd70a8"
      },
      "outputs": [
        {
          "output_type": "stream",
          "name": "stdout",
          "text": [
            "Eruption Time Mean: 3.4877830882352936\n",
            "Waiting Time Mean: 70.8970588235294\n"
          ]
        }
      ],
      "source": [
        "\"\"\"\n",
        "Calculates the mean of a given dataset\n",
        "@data : of type pandas.Series\n",
        "\"\"\"\n",
        "def calculate_mean(data):\n",
        "  n = 0\n",
        "  sum = 0\n",
        "\n",
        "  for val in data:\n",
        "    sum += val\n",
        "    n += 1\n",
        "\n",
        "  return sum/n\n",
        "\n",
        "x_mean = calculate_mean(x_eruptions)\n",
        "y_mean = calculate_mean(y_waiting)\n",
        "\n",
        "print(\"Eruption Time Mean:\", x_mean)\n",
        "print(\"Waiting Time Mean:\", y_mean)"
      ]
    },
    {
      "cell_type": "code",
      "execution_count": 24,
      "metadata": {
        "id": "49qTtIcb1EQr"
      },
      "outputs": [],
      "source": [
        "# center the data\n",
        "centered_eruptions = x_eruptions - [x_mean] * x_eruptions.size\n",
        "centered_waiting = y_waiting - [y_mean] * y_waiting.size"
      ]
    },
    {
      "cell_type": "markdown",
      "metadata": {
        "id": "0MCT3UJk2ida"
      },
      "source": [
        "### **c**"
      ]
    },
    {
      "cell_type": "code",
      "execution_count": 25,
      "metadata": {
        "colab": {
          "base_uri": "https://localhost:8080/"
        },
        "id": "nAtroPrv2vGL",
        "outputId": "baece73b-69a4-4277-c2f1-0f6c6819ced2"
      },
      "outputs": [
        {
          "output_type": "stream",
          "name": "stdout",
          "text": [
            "Correlation: 0.9862066493738285\n"
          ]
        }
      ],
      "source": [
        "# manually calculates the dot product\n",
        "def calculate_dot_product(dataset1, dataset2):\n",
        "  n = dataset1.size\n",
        "  i = 0\n",
        "  dot_product = 0\n",
        "\n",
        "  for i in range(n):\n",
        "    dot_product += (dataset1[i] * dataset2[i])\n",
        "\n",
        "  return dot_product\n",
        "\n",
        "# calculate the correlation\n",
        "def calculate_correlation(dataset1, dataset2):\n",
        "  numerator = calculate_dot_product(dataset1, dataset2)\n",
        "  denominator = np.sqrt(calculate_dot_product(dataset1, dataset1)) * np.sqrt(calculate_dot_product(dataset2, dataset2))\n",
        "\n",
        "  return numerator / denominator\n",
        "\n",
        "correlation = calculate_correlation(x_eruptions, y_waiting)\n",
        "\n",
        "print(\"Correlation:\", correlation)"
      ]
    },
    {
      "cell_type": "markdown",
      "metadata": {
        "id": "MIDAqyT76Zqj"
      },
      "source": [
        "The correlation value and sign match what I expected because the scatterplot does indicate that the variables have a strong positive relationship with each other."
      ]
    },
    {
      "cell_type": "markdown",
      "metadata": {
        "id": "ZD94JIgiA5Na"
      },
      "source": [
        "### **d**"
      ]
    },
    {
      "cell_type": "code",
      "execution_count": 26,
      "metadata": {
        "colab": {
          "base_uri": "https://localhost:8080/"
        },
        "id": "4V1zyh7UA9p7",
        "outputId": "3d5cd3b8-e5ac-4a60-c919-61a26a01174b"
      },
      "outputs": [
        {
          "output_type": "stream",
          "name": "stdout",
          "text": [
            "Beta: 10.729641395133527 Alpha: 33.47439702275335\n"
          ]
        }
      ],
      "source": [
        "from numpy import linalg as la\n",
        "import math\n",
        "\n",
        "# calculates the beta\n",
        "def calculate_beta(centered_x, centered_y):\n",
        "  numerator = np.dot(centered_x, centered_y)\n",
        "  denominator = np.dot(centered_x, centered_x.T)\n",
        "  # denominator = math.pow(la.norm(centered_x), 2)\n",
        "\n",
        "  return numerator / denominator\n",
        "\n",
        "\n",
        "# calculate the alpha\n",
        "def calculate_alpha(x_data, y_data, beta_hat):\n",
        "  y_mean = calculate_mean(y_data)\n",
        "  x_mean = calculate_mean(x_data)\n",
        "\n",
        "  return (y_mean - beta_hat * x_mean)\n",
        "\n",
        "beta_hat = calculate_beta(centered_eruptions, centered_waiting)\n",
        "\n",
        "alpha_hat = calculate_alpha(x_eruptions, y_waiting, beta_hat)\n",
        "\n",
        "print(\"Beta:\", beta_hat, \"Alpha:\", alpha_hat)"
      ]
    },
    {
      "cell_type": "code",
      "execution_count": 27,
      "metadata": {
        "colab": {
          "base_uri": "https://localhost:8080/",
          "height": 466
        },
        "id": "GK3fjs_sGK6T",
        "outputId": "6cfbce45-7023-4e49-efeb-f4e7507743a6"
      },
      "outputs": [
        {
          "output_type": "execute_result",
          "data": {
            "text/plain": [
              "<matplotlib.lines._AxLine at 0x7ece0f16e410>"
            ]
          },
          "metadata": {},
          "execution_count": 27
        },
        {
          "output_type": "display_data",
          "data": {
            "text/plain": [
              "<Figure size 640x480 with 1 Axes>"
            ],
            "image/png": "[encoded data removed]"
          },
          "metadata": {}
        }
      ],
      "source": [
        "import matplotlib.pyplot as plt\n",
        "import matplotlib.axes as ax\n",
        "\n",
        "x_eruptions = faithful_data[\"eruptions\"]\n",
        "y_waiting = faithful_data[\"waiting\"]\n",
        "\n",
        "sns.scatterplot(x = x_eruptions, y = y_waiting)\n",
        "plt.axline(xy1 = (0, alpha_hat), slope = beta_hat, color = 'r') # creates the line on top of the scatterplot"
      ]
    },
    {
      "cell_type": "markdown",
      "metadata": {
        "id": "1twcEhPoLAQr"
      },
      "source": [
        "The value of the correlation and the slope are seem to match in that the slope seems to accurately closely match with the trend between the eruptions time and wait which reflects a higher correlation. In other words, the slope value seems to indicate a strong correlation between eruptions time and the waiting time. The sign for both the correlation and the slope are the same in the sense that the slope indicates a positive relationship between the eruption time and wait time just as the correlation indicates a positive relationship between the two variables."
      ]
    },
    {
      "cell_type": "markdown",
      "metadata": {
        "id": "robjc3GxMDmp"
      },
      "source": [
        "### **e**"
      ]
    },
    {
      "cell_type": "code",
      "execution_count": 28,
      "metadata": {
        "id": "7miPtjI0ISC4"
      },
      "outputs": [],
      "source": [
        "def calculate_y_hat(x, beta_hat, alpha_hat):\n",
        "  return alpha_hat + x * beta_hat"
      ]
    },
    {
      "cell_type": "code",
      "execution_count": 29,
      "metadata": {
        "colab": {
          "base_uri": "https://localhost:8080/"
        },
        "id": "-nVUNCeIMFxv",
        "outputId": "84147824-5c55-49a2-c711-829199c2804f"
      },
      "outputs": [
        {
          "output_type": "stream",
          "name": "stdout",
          "text": [
            "57.07960809204711\n"
          ]
        }
      ],
      "source": [
        "print(calculate_y_hat(2.2, beta_hat, alpha_hat))"
      ]
    },
    {
      "cell_type": "markdown",
      "metadata": {
        "id": "LPtNUPGXMzqn"
      },
      "source": [
        "I expect to wait about 57 minutes for the next eruption."
      ]
    },
    {
      "cell_type": "markdown",
      "metadata": {
        "id": "rlE4zmkyM7u5"
      },
      "source": [
        "### **f**"
      ]
    },
    {
      "cell_type": "code",
      "execution_count": 30,
      "metadata": {
        "colab": {
          "base_uri": "https://localhost:8080/"
        },
        "id": "Tx-BYAVezgK-",
        "outputId": "f675d4fc-89f8-4f8e-a494-825bdf2450a7"
      },
      "outputs": [
        {
          "output_type": "stream",
          "name": "stdout",
          "text": [
            "6.898893954765953\n"
          ]
        }
      ],
      "source": [
        "# calculates a single instance of epsilon\n",
        "def get_epsilon(x_val, y_true_val, beta_hat, alpha_hat):\n",
        "  return y_true_val - alpha_hat - beta_hat * x_val\n",
        "\n",
        "epsilon_test = get_epsilon(x_eruptions[0], y_waiting[0], beta_hat, alpha_hat)\n",
        "print(epsilon_test)"
      ]
    },
    {
      "cell_type": "code",
      "execution_count": 31,
      "metadata": {
        "colab": {
          "base_uri": "https://localhost:8080/"
        },
        "id": "od8Wz21HM9jj",
        "outputId": "7a9c7925-d8e5-4a6f-ceb5-1d2069f17048"
      },
      "outputs": [
        {
          "output_type": "stream",
          "name": "stdout",
          "text": [
            "[[  6.89889395]\n",
            " [  1.21224847]\n",
            " [  4.76370821]\n",
            " [  4.02983167]\n",
            " [  2.88813853]\n",
            " [ -9.40795316]\n",
            " [  4.09628842]\n",
            " [ 12.89889395]\n",
            " [ -3.39719774]\n",
            " [  4.85166291]\n",
            " [  0.8581703 ]\n",
            " [  8.49759763]\n",
            " [ -0.53889088]\n",
            " [ -5.25126946]\n",
            " [ -0.90371158]\n",
            " [ -4.72552993]\n",
            " [  9.74873054]\n",
            " [ -0.97667572]\n",
            " [  1.35817675]\n",
            " [ -0.07537295]\n",
            " [ -1.78775153]\n",
            " [ -5.25126946]\n",
            " [  7.50834016]\n",
            " [  2.61779282]\n",
            " [ -8.11186147]\n",
            " [ 10.89889395]\n",
            " [  0.42039835]\n",
            " [ -1.28352284]\n",
            " [  3.21648361]\n",
            " [ -2.03889733]\n",
            " [ -6.61185502]\n",
            " [ -4.40370513]\n",
            " [ -3.6010996 ]\n",
            " [  3.25295923]\n",
            " [ -0.60111249]\n",
            " [ -3.11608372]\n",
            " [ -5.50663751]\n",
            " [ -5.33075389]\n",
            " [  5.8581703 ]\n",
            " [  5.20572818]\n",
            " [ -0.14833709]\n",
            " [  4.32168823]\n",
            " [  1.52333073]\n",
            " [  5.74873054]\n",
            " [ -9.11186147]\n",
            " [ 13.93538247]\n",
            " [-10.60111249]\n",
            " [ -3.00664395]\n",
            " [ -1.18482561]\n",
            " [  4.06632019]\n",
            " [ -9.97667572]\n",
            " [  5.92461416]\n",
            " [  0.8581703 ]\n",
            " [ -5.33075389]\n",
            " [  1.93113444]\n",
            " [ -2.86723596]\n",
            " [ -2.35647409]\n",
            " [ 12.63929077]\n",
            " [ -5.47666927]\n",
            " [  1.20574107]\n",
            " [  1.56631374]\n",
            " [  2.2422167 ]\n",
            " [ -4.25126946]\n",
            " [ -2.97667572]\n",
            " [  7.02984456]\n",
            " [ 11.31518084]\n",
            " [ -0.18481272]\n",
            " [ -5.90371158]\n",
            " [  9.34743421]\n",
            " [-10.90371158]\n",
            " [  5.25295923]\n",
            " [  1.42039835]\n",
            " [ -2.7577833 ]\n",
            " [ -5.3929626 ]\n",
            " [  7.24872409]\n",
            " [-11.84148997]\n",
            " [  4.88391628]\n",
            " [ -4.47666927]\n",
            " [  0.86240544]\n",
            " [ 10.89889395]\n",
            " [ -2.82000491]\n",
            " [  2.03406681]\n",
            " [ -7.46592674]\n",
            " [  3.27445718]\n",
            " [ -4.11184858]\n",
            " [  1.59628198]\n",
            " [  0.14351947]\n",
            " [ -1.9401872 ]\n",
            " [ -8.72552993]\n",
            " [  9.6070374 ]\n",
            " [  2.92039191]\n",
            " [ 10.03406681]\n",
            " [ -3.50663751]\n",
            " [ -7.15907962]\n",
            " [  9.8581703 ]\n",
            " [ -7.61185502]\n",
            " [  0.45036659]\n",
            " [  1.28944775]\n",
            " [ -2.50663751]\n",
            " [ -4.04963986]\n",
            " [  1.88390339]\n",
            " [  7.669259  ]\n",
            " [ -7.00664395]\n",
            " [  1.2422167 ]\n",
            " [  4.07055533]\n",
            " [ -6.50663751]\n",
            " [  0.09628842]\n",
            " [ -0.60534763]\n",
            " [  0.48684221]\n",
            " [  8.00833372]\n",
            " [ -9.25778975]\n",
            " [  0.84742777]\n",
            " [  2.95036014]\n",
            " [ -1.86722307]\n",
            " [  7.28521261]\n",
            " [ -2.18482561]\n",
            " [ -8.33497614]\n",
            " [  2.16925256]\n",
            " [  6.02984456]\n",
            " [  6.13277693]\n",
            " [ -8.55386855]\n",
            " [ -8.11184858]\n",
            " [ -2.07537295]\n",
            " [  1.42039835]\n",
            " [  5.16925256]\n",
            " [  7.10704384]\n",
            " [ -9.04311958]\n",
            " [  0.2422167 ]\n",
            " [ -2.79849407]\n",
            " [  6.63277049]\n",
            " [ -8.50663751]\n",
            " [  4.81518728]\n",
            " [ -7.51739293]\n",
            " [  9.03406681]\n",
            " [ -7.1418297 ]\n",
            " [  1.49758474]\n",
            " [ -2.67831177]\n",
            " [ -0.40371802]\n",
            " [ -2.28775798]\n",
            " [  5.47185165]\n",
            " [  2.10703095]\n",
            " [  2.56631374]\n",
            " [ -0.11186147]\n",
            " [ -8.15907962]\n",
            " [ -3.96593319]\n",
            " [  4.24872409]\n",
            " [ -3.18482561]\n",
            " [ -6.11608372]\n",
            " [  7.80443186]\n",
            " [  0.21224847]\n",
            " [-10.47668216]\n",
            " [  0.6070374 ]\n",
            " [  5.77446363]\n",
            " [ -1.83074744]\n",
            " [ -0.74702788]\n",
            " [ -6.3929626 ]\n",
            " [ -0.7577833 ]\n",
            " [ 15.71647716]\n",
            " [  0.21224847]\n",
            " [ 12.96111556]\n",
            " [-12.07960809]\n",
            " [  7.99759119]\n",
            " [  3.06632019]\n",
            " [  3.39888751]\n",
            " [ -5.02814191]\n",
            " [ -6.64834354]\n",
            " [  4.12854179]\n",
            " [  0.877396  ]\n",
            " [ -2.21479384]\n",
            " [  9.98684866]\n",
            " [ -5.04311958]\n",
            " [  1.17575995]\n",
            " [ -5.64834354]\n",
            " [ -1.23629179]\n",
            " [  2.81518728]\n",
            " [  1.03406681]\n",
            " [ -8.7577833 ]\n",
            " [ -9.40794027]\n",
            " [  8.6070374 ]\n",
            " [ -4.18481272]\n",
            " [  1.32168823]\n",
            " [ -5.64834354]\n",
            " [  3.92462705]\n",
            " [  9.10704384]\n",
            " [ -4.28775798]\n",
            " [ -3.03889733]\n",
            " [  6.71647716]\n",
            " [ -7.1418297 ]\n",
            " [  2.13277693]\n",
            " [ -1.89720419]\n",
            " [ -3.97667572]\n",
            " [  3.8581703 ]\n",
            " [ -8.97667572]\n",
            " [  6.53407326]\n",
            " [  0.9718452 ]\n",
            " [  2.10703095]\n",
            " [ 15.97185809]\n",
            " [ -3.32001135]\n",
            " [ -6.61609016]\n",
            " [ -5.54963341]\n",
            " [  3.99335605]\n",
            " [  1.85166291]\n",
            " [ 13.17999509]\n",
            " [ -0.50663751]\n",
            " [ -4.83074744]\n",
            " [ -6.60534763]\n",
            " [ -3.330741  ]\n",
            " [  9.21648361]\n",
            " [ -5.21479384]\n",
            " [  1.2422167 ]\n",
            " [ 11.95686753]\n",
            " [ -3.90371158]\n",
            " [ -4.50663751]\n",
            " [  0.39888751]\n",
            " [ -6.13758167]\n",
            " [ -2.89296905]\n",
            " [ -6.22553637]\n",
            " [  9.02332428]\n",
            " [  0.06632019]\n",
            " [ -2.00240881]\n",
            " [ -3.50663751]\n",
            " [  2.74222314]\n",
            " [  1.74873054]\n",
            " [ -6.5753794 ]\n",
            " [  1.6070374 ]\n",
            " [  1.35166935]\n",
            " [  0.71647716]\n",
            " [ -1.25777686]\n",
            " [ -5.50240237]\n",
            " [ -3.29426537]\n",
            " [ -7.28352284]\n",
            " [ -5.40794027]\n",
            " [  7.64351302]\n",
            " [ -7.262012  ]\n",
            " [  8.77869877]\n",
            " [  0.32168823]\n",
            " [  0.6757664 ]\n",
            " [ -2.42945112]\n",
            " [  3.14351947]\n",
            " [  5.4933496 ]\n",
            " [ -3.00240881]\n",
            " [-11.6890543 ]\n",
            " [ -0.40371802]\n",
            " [ -1.59035707]\n",
            " [  2.35165646]\n",
            " [  7.39888751]\n",
            " [  1.17575995]\n",
            " [  1.669259  ]\n",
            " [ 10.63927788]\n",
            " [ -6.14833709]\n",
            " [ -3.07960809]\n",
            " [  1.77869877]\n",
            " [  1.25297212]\n",
            " [ -8.7577833 ]\n",
            " [  9.99759119]\n",
            " [  5.57056177]\n",
            " [ -4.50240237]\n",
            " [  1.77869877]\n",
            " [  1.06632019]\n",
            " [ -0.42945112]\n",
            " [ -6.62259755]\n",
            " [  1.88813853]\n",
            " [  4.6757664 ]\n",
            " [  3.92462705]\n",
            " [-11.75127591]\n",
            " [  2.38390984]\n",
            " [ -9.44019365]\n",
            " [  3.35166935]\n",
            " [-10.54312602]\n",
            " [  9.13277693]\n",
            " [ -6.97015544]\n",
            " [ -7.40370513]]\n"
          ]
        }
      ],
      "source": [
        "# calculates the variance\n",
        "def calculate_variance(x, y, beta_hat, alpha_hat):\n",
        "  n = x.shape[0]\n",
        "  variance = np.ndarray(shape = (n, 1))\n",
        "\n",
        "  for i in range(n):\n",
        "    epsilon_val = get_epsilon(x[i], y[i], beta_hat, alpha_hat)\n",
        "    variance[i] = epsilon_val\n",
        "\n",
        "  return variance\n",
        "\n",
        "variance = calculate_variance(x_eruptions, y_waiting, beta_hat, alpha_hat)\n",
        "print(variance)"
      ]
    },
    {
      "cell_type": "code",
      "execution_count": 32,
      "metadata": {
        "colab": {
          "base_uri": "https://localhost:8080/"
        },
        "id": "3rW0w8kZPamc",
        "outputId": "384b92d4-8db3-4ab8-cef9-55f685bb2f1a"
      },
      "outputs": [
        {
          "output_type": "stream",
          "name": "stdout",
          "text": [
            "[[0.9933369]]\n"
          ]
        }
      ],
      "source": [
        "# calculate the r^2\n",
        "def calculate_r_squared(variance, y):\n",
        "  explained = (np.dot(variance.T, variance)) / (np.dot(y, y.T))\n",
        "\n",
        "  return (1 - explained)\n",
        "\n",
        "r_squared = calculate_r_squared(variance, y_waiting)\n",
        "print(r_squared)"
      ]
    },
    {
      "cell_type": "markdown",
      "metadata": {
        "id": "P6EBWPKG3VgM"
      },
      "source": [
        "About $99$% of variance is explained by the regression model."
      ]
    },
    {
      "cell_type": "markdown",
      "metadata": {
        "id": "6pwrl3GlRS59"
      },
      "source": [
        "## **2**"
      ]
    },
    {
      "cell_type": "code",
      "execution_count": 33,
      "metadata": {
        "colab": {
          "base_uri": "https://localhost:8080/",
          "height": 206
        },
        "id": "aat-sT8pRWjH",
        "outputId": "814e746e-3f0f-423b-c81c-2baf005bb2d6"
      },
      "outputs": [
        {
          "output_type": "execute_result",
          "data": {
            "text/plain": [
              "     x    y\n",
              "0  301  509\n",
              "1  314  489\n",
              "2  333  473\n",
              "3  350  455\n",
              "4  366  436"
            ],
            "text/html": [
              "\n",
              "  <div id=\"df-91b9b4fb-0905-453e-aa2b-5b21247d8789\" class=\"colab-df-container\">\n",
              "    <div>\n",
              "<style scoped>\n",
              "    .dataframe tbody tr th:only-of-type {\n",
              "        vertical-align: middle;\n",
              "    }\n",
              "\n",
              "    .dataframe tbody tr th {\n",
              "        vertical-align: top;\n",
              "    }\n",
              "\n",
              "    .dataframe thead th {\n",
              "        text-align: right;\n",
              "    }\n",
              "</style>\n",
              "<table border=\"1\" class=\"dataframe\">\n",
              "  <thead>\n",
              "    <tr style=\"text-align: right;\">\n",
              "      <th></th>\n",
              "      <th>x</th>\n",
              "      <th>y</th>\n",
              "    </tr>\n",
              "  </thead>\n",
              "  <tbody>\n",
              "    <tr>\n",
              "      <th>0</th>\n",
              "      <td>301</td>\n",
              "      <td>509</td>\n",
              "    </tr>\n",
              "    <tr>\n",
              "      <th>1</th>\n",
              "      <td>314</td>\n",
              "      <td>489</td>\n",
              "    </tr>\n",
              "    <tr>\n",
              "      <th>2</th>\n",
              "      <td>333</td>\n",
              "      <td>473</td>\n",
              "    </tr>\n",
              "    <tr>\n",
              "      <th>3</th>\n",
              "      <td>350</td>\n",
              "      <td>455</td>\n",
              "    </tr>\n",
              "    <tr>\n",
              "      <th>4</th>\n",
              "      <td>366</td>\n",
              "      <td>436</td>\n",
              "    </tr>\n",
              "  </tbody>\n",
              "</table>\n",
              "</div>\n",
              "    <div class=\"colab-df-buttons\">\n",
              "\n",
              "  <div class=\"colab-df-container\">\n",
              "    <button class=\"colab-df-convert\" onclick=\"convertToInteractive('df-91b9b4fb-0905-453e-aa2b-5b21247d8789')\"\n",
              "            title=\"Convert this dataframe to an interactive table.\"\n",
              "            style=\"display:none;\">\n",
              "\n",
              "  <svg xmlns=\"http://www.w3.org/2000/svg\" height=\"24px\" viewBox=\"0 -960 960 960\">\n",
              "    <path d=\"M120-120v-720h720v720H120Zm60-500h600v-160H180v160Zm220 220h160v-160H400v160Zm0 220h160v-160H400v160ZM180-400h160v-160H180v160Zm440 0h160v-160H620v160ZM180-180h160v-160H180v160Zm440 0h160v-160H620v160Z\"/>\n",
              "  </svg>\n",
              "    </button>\n",
              "\n",
              "  <style>\n",
              "    .colab-df-container {\n",
              "      display:flex;\n",
              "      gap: 12px;\n",
              "    }\n",
              "\n",
              "    .colab-df-convert {\n",
              "      background-color: #E8F0FE;\n",
              "      border: none;\n",
              "      border-radius: 50%;\n",
              "      cursor: pointer;\n",
              "      display: none;\n",
              "      fill: #1967D2;\n",
              "      height: 32px;\n",
              "      padding: 0 0 0 0;\n",
              "      width: 32px;\n",
              "    }\n",
              "\n",
              "    .colab-df-convert:hover {\n",
              "      background-color: #E2EBFA;\n",
              "      box-shadow: 0px 1px 2px rgba(60, 64, 67, 0.3), 0px 1px 3px 1px rgba(60, 64, 67, 0.15);\n",
              "      fill: #174EA6;\n",
              "    }\n",
              "\n",
              "    .colab-df-buttons div {\n",
              "      margin-bottom: 4px;\n",
              "    }\n",
              "\n",
              "    [theme=dark] .colab-df-convert {\n",
              "      background-color: #3B4455;\n",
              "      fill: #D2E3FC;\n",
              "    }\n",
              "\n",
              "    [theme=dark] .colab-df-convert:hover {\n",
              "      background-color: #434B5C;\n",
              "      box-shadow: 0px 1px 3px 1px rgba(0, 0, 0, 0.15);\n",
              "      filter: drop-shadow(0px 1px 2px rgba(0, 0, 0, 0.3));\n",
              "      fill: #FFFFFF;\n",
              "    }\n",
              "  </style>\n",
              "\n",
              "    <script>\n",
              "      const buttonEl =\n",
              "        document.querySelector('#df-91b9b4fb-0905-453e-aa2b-5b21247d8789 button.colab-df-convert');\n",
              "      buttonEl.style.display =\n",
              "        google.colab.kernel.accessAllowed ? 'block' : 'none';\n",
              "\n",
              "      async function convertToInteractive(key) {\n",
              "        const element = document.querySelector('#df-91b9b4fb-0905-453e-aa2b-5b21247d8789');\n",
              "        const dataTable =\n",
              "          await google.colab.kernel.invokeFunction('convertToInteractive',\n",
              "                                                    [key], {});\n",
              "        if (!dataTable) return;\n",
              "\n",
              "        const docLinkHtml = 'Like what you see? Visit the ' +\n",
              "          '<a target=\"_blank\" href=https://colab.research.google.com/notebooks/data_table.ipynb>data table notebook</a>'\n",
              "          + ' to learn more about interactive tables.';\n",
              "        element.innerHTML = '';\n",
              "        dataTable['output_type'] = 'display_data';\n",
              "        await google.colab.output.renderOutput(dataTable, element);\n",
              "        const docLink = document.createElement('div');\n",
              "        docLink.innerHTML = docLinkHtml;\n",
              "        element.appendChild(docLink);\n",
              "      }\n",
              "    </script>\n",
              "  </div>\n",
              "\n",
              "\n",
              "<div id=\"df-448623cf-2815-4141-9f21-13c4a0036d14\">\n",
              "  <button class=\"colab-df-quickchart\" onclick=\"quickchart('df-448623cf-2815-4141-9f21-13c4a0036d14')\"\n",
              "            title=\"Suggest charts\"\n",
              "            style=\"display:none;\">\n",
              "\n",
              "<svg xmlns=\"http://www.w3.org/2000/svg\" height=\"24px\"viewBox=\"0 0 24 24\"\n",
              "     width=\"24px\">\n",
              "    <g>\n",
              "        <path d=\"M19 3H5c-1.1 0-2 .9-2 2v14c0 1.1.9 2 2 2h14c1.1 0 2-.9 2-2V5c0-1.1-.9-2-2-2zM9 17H7v-7h2v7zm4 0h-2V7h2v10zm4 0h-2v-4h2v4z\"/>\n",
              "    </g>\n",
              "</svg>\n",
              "  </button>\n",
              "\n",
              "<style>\n",
              "  .colab-df-quickchart {\n",
              "      --bg-color: #E8F0FE;\n",
              "      --fill-color: #1967D2;\n",
              "      --hover-bg-color: #E2EBFA;\n",
              "      --hover-fill-color: #174EA6;\n",
              "      --disabled-fill-color: #AAA;\n",
              "      --disabled-bg-color: #DDD;\n",
              "  }\n",
              "\n",
              "  [theme=dark] .colab-df-quickchart {\n",
              "      --bg-color: #3B4455;\n",
              "      --fill-color: #D2E3FC;\n",
              "      --hover-bg-color: #434B5C;\n",
              "      --hover-fill-color: #FFFFFF;\n",
              "      --disabled-bg-color: #3B4455;\n",
              "      --disabled-fill-color: #666;\n",
              "  }\n",
              "\n",
              "  .colab-df-quickchart {\n",
              "    background-color: var(--bg-color);\n",
              "    border: none;\n",
              "    border-radius: 50%;\n",
              "    cursor: pointer;\n",
              "    display: none;\n",
              "    fill: var(--fill-color);\n",
              "    height: 32px;\n",
              "    padding: 0;\n",
              "    width: 32px;\n",
              "  }\n",
              "\n",
              "  .colab-df-quickchart:hover {\n",
              "    background-color: var(--hover-bg-color);\n",
              "    box-shadow: 0 1px 2px rgba(60, 64, 67, 0.3), 0 1px 3px 1px rgba(60, 64, 67, 0.15);\n",
              "    fill: var(--button-hover-fill-color);\n",
              "  }\n",
              "\n",
              "  .colab-df-quickchart-complete:disabled,\n",
              "  .colab-df-quickchart-complete:disabled:hover {\n",
              "    background-color: var(--disabled-bg-color);\n",
              "    fill: var(--disabled-fill-color);\n",
              "    box-shadow: none;\n",
              "  }\n",
              "\n",
              "  .colab-df-spinner {\n",
              "    border: 2px solid var(--fill-color);\n",
              "    border-color: transparent;\n",
              "    border-bottom-color: var(--fill-color);\n",
              "    animation:\n",
              "      spin 1s steps(1) infinite;\n",
              "  }\n",
              "\n",
              "  @keyframes spin {\n",
              "    0% {\n",
              "      border-color: transparent;\n",
              "      border-bottom-color: var(--fill-color);\n",
              "      border-left-color: var(--fill-color);\n",
              "    }\n",
              "    20% {\n",
              "      border-color: transparent;\n",
              "      border-left-color: var(--fill-color);\n",
              "      border-top-color: var(--fill-color);\n",
              "    }\n",
              "    30% {\n",
              "      border-color: transparent;\n",
              "      border-left-color: var(--fill-color);\n",
              "      border-top-color: var(--fill-color);\n",
              "      border-right-color: var(--fill-color);\n",
              "    }\n",
              "    40% {\n",
              "      border-color: transparent;\n",
              "      border-right-color: var(--fill-color);\n",
              "      border-top-color: var(--fill-color);\n",
              "    }\n",
              "    60% {\n",
              "      border-color: transparent;\n",
              "      border-right-color: var(--fill-color);\n",
              "    }\n",
              "    80% {\n",
              "      border-color: transparent;\n",
              "      border-right-color: var(--fill-color);\n",
              "      border-bottom-color: var(--fill-color);\n",
              "    }\n",
              "    90% {\n",
              "      border-color: transparent;\n",
              "      border-bottom-color: var(--fill-color);\n",
              "    }\n",
              "  }\n",
              "</style>\n",
              "\n",
              "  <script>\n",
              "    async function quickchart(key) {\n",
              "      const quickchartButtonEl =\n",
              "        document.querySelector('#' + key + ' button');\n",
              "      quickchartButtonEl.disabled = true;  // To prevent multiple clicks.\n",
              "      quickchartButtonEl.classList.add('colab-df-spinner');\n",
              "      try {\n",
              "        const charts = await google.colab.kernel.invokeFunction(\n",
              "            'suggestCharts', [key], {});\n",
              "      } catch (error) {\n",
              "        console.error('Error during call to suggestCharts:', error);\n",
              "      }\n",
              "      quickchartButtonEl.classList.remove('colab-df-spinner');\n",
              "      quickchartButtonEl.classList.add('colab-df-quickchart-complete');\n",
              "    }\n",
              "    (() => {\n",
              "      let quickchartButtonEl =\n",
              "        document.querySelector('#df-448623cf-2815-4141-9f21-13c4a0036d14 button');\n",
              "      quickchartButtonEl.style.display =\n",
              "        google.colab.kernel.accessAllowed ? 'block' : 'none';\n",
              "    })();\n",
              "  </script>\n",
              "</div>\n",
              "\n",
              "    </div>\n",
              "  </div>\n"
            ],
            "application/vnd.google.colaboratory.intrinsic+json": {
              "type": "dataframe",
              "variable_name": "hand_1",
              "summary": "{\n  \"name\": \"hand_1\",\n  \"rows\": 72,\n  \"fields\": [\n    {\n      \"column\": \"x\",\n      \"properties\": {\n        \"dtype\": \"number\",\n        \"std\": 104,\n        \"min\": 116,\n        \"max\": 475,\n        \"num_unique_values\": 65,\n        \"samples\": [\n          148,\n          136,\n          301\n        ],\n        \"semantic_type\": \"\",\n        \"description\": \"\"\n      }\n    },\n    {\n      \"column\": \"y\",\n      \"properties\": {\n        \"dtype\": \"number\",\n        \"std\": 130,\n        \"min\": 24,\n        \"max\": 510,\n        \"num_unique_values\": 63,\n        \"samples\": [\n          477,\n          296,\n          509\n        ],\n        \"semantic_type\": \"\",\n        \"description\": \"\"\n      }\n    }\n  ]\n}"
            }
          },
          "metadata": {},
          "execution_count": 33
        }
      ],
      "source": [
        "# load the .dat files\n",
        "hand_1_path = \"./hand1.dat\"\n",
        "hand_2_path = \"./hand2.dat\"\n",
        "\n",
        "hand_1 = pd.read_csv(hand_1_path, header = None)\n",
        "hand_1.columns = [\"x\", \"y\"]\n",
        "hand_2 = pd.read_csv(hand_2_path, header = None)\n",
        "hand_2.columns = [\"x\", \"y\"]\n",
        "\n",
        "hand_1.head()"
      ]
    },
    {
      "cell_type": "markdown",
      "metadata": {
        "id": "1Y0UMwdpTOjK"
      },
      "source": [
        "### **a)**"
      ]
    },
    {
      "cell_type": "code",
      "execution_count": 34,
      "metadata": {
        "colab": {
          "base_uri": "https://localhost:8080/",
          "height": 447
        },
        "id": "_hYS8CB7TN23",
        "outputId": "0bd5112c-3c3d-4727-f907-afa3c90edaad"
      },
      "outputs": [
        {
          "output_type": "execute_result",
          "data": {
            "text/plain": [
              "[<matplotlib.lines.Line2D at 0x7ece0f236ad0>]"
            ]
          },
          "metadata": {},
          "execution_count": 34
        },
        {
          "output_type": "display_data",
          "data": {
            "text/plain": [
              "<Figure size 640x480 with 1 Axes>"
            ],
            "image/png": "[encoded data removed]"
          },
          "metadata": {}
        }
      ],
      "source": [
        "plt.plot(hand_1[\"x\"], hand_1[\"y\"])\n",
        "plt.plot(hand_2[\"x\"], hand_2[\"y\"])"
      ]
    },
    {
      "cell_type": "markdown",
      "metadata": {
        "id": "mg8EDwBhUX86"
      },
      "source": [
        "### **b)**\n",
        "\n",
        "Create Matrix: $A_1^TA_2$\n",
        "\n",
        "Compute the SVD: $USV^T=A_1^TA_2$\n",
        "\n",
        "Optimal Rotation is: $R = UV^T$"
      ]
    },
    {
      "cell_type": "code",
      "execution_count": 35,
      "metadata": {
        "colab": {
          "base_uri": "https://localhost:8080/"
        },
        "id": "UjTplRr8Tl9x",
        "outputId": "f493317d-6350-4875-84ee-dbe0fa8d15bd"
      },
      "outputs": [
        {
          "output_type": "stream",
          "name": "stdout",
          "text": [
            "Shape of the matrix: (2, 2)\n",
            "Matrix:               0             1\n",
            "x  7.314973e+06  3.455143e+05\n",
            "y  6.694258e+06  1.352442e+06\n"
          ]
        },
        {
          "output_type": "stream",
          "name": "stderr",
          "text": [
            "<ipython-input-35-924278459dc0>:3: FutureWarning: Calling a ufunc on non-aligned DataFrames (or DataFrame/Series combination). Currently, the indices are ignored and the result takes the index/columns of the first DataFrame. In the future , the DataFrames/Series will be aligned before applying the ufunc.\n",
            "Convert one of the arguments to a NumPy array (eg 'ufunc(df1, np.asarray(df2)') to keep the current behaviour, or align manually (eg 'df1, df2 = df1.align(df2)') before passing to the ufunc to obtain the future behaviour and silence this warning.\n",
            "  return np.matmul(A1.T, A2)\n"
          ]
        }
      ],
      "source": [
        "# create the matrix\n",
        "def create_matrix(A1, A2):\n",
        "  return np.matmul(A1.T, A2)\n",
        "\n",
        "matrix = create_matrix(hand_1, hand_2)\n",
        "print(\"Shape of the matrix:\", matrix.shape)\n",
        "print(\"Matrix:\", matrix)"
      ]
    },
    {
      "cell_type": "code",
      "execution_count": 36,
      "metadata": {
        "id": "U86CkcO8U3Nv"
      },
      "outputs": [],
      "source": [
        "# compute the SVD\n",
        "U, S, Vt = la.svd(matrix)"
      ]
    },
    {
      "cell_type": "code",
      "execution_count": 37,
      "metadata": {
        "colab": {
          "base_uri": "https://localhost:8080/"
        },
        "id": "CtdR29zIaUJG",
        "outputId": "1847fc03-b072-413c-dbb2-449e30a341dd"
      },
      "outputs": [
        {
          "output_type": "stream",
          "name": "stdout",
          "text": [
            "R matrix shape: (2, 2)\n",
            "R matrix: [[ 0.80673157 -0.59091807]\n",
            " [ 0.59091807  0.80673157]]\n"
          ]
        }
      ],
      "source": [
        "# calculate rotation\n",
        "R = np.matmul(U, Vt)\n",
        "print(\"R matrix shape:\", R.shape)\n",
        "print(\"R matrix:\", R)"
      ]
    },
    {
      "cell_type": "code",
      "execution_count": 38,
      "metadata": {
        "colab": {
          "base_uri": "https://localhost:8080/"
        },
        "id": "hHT_X4p1dbO7",
        "outputId": "d5dedd23-b0a8-47f3-9a24-8dd310fc0c92"
      },
      "outputs": [
        {
          "output_type": "stream",
          "name": "stdout",
          "text": [
            "36.222184483255774\n"
          ]
        }
      ],
      "source": [
        "theta = math.acos(R[0][0]) * (180/math.pi)\n",
        "print(theta)"
      ]
    },
    {
      "cell_type": "markdown",
      "metadata": {
        "id": "4wjJTbbFd8ea"
      },
      "source": [
        "It varies about $36$ deg."
      ]
    },
    {
      "cell_type": "markdown",
      "metadata": {
        "id": "wAdJ8ONMejqd"
      },
      "source": [
        "### **c)**"
      ]
    },
    {
      "cell_type": "code",
      "execution_count": 39,
      "metadata": {
        "colab": {
          "base_uri": "https://localhost:8080/",
          "height": 224
        },
        "id": "U3uYh37bcGJA",
        "outputId": "a644c483-7b66-4692-f8b9-acf43a1ea16d"
      },
      "outputs": [
        {
          "output_type": "stream",
          "name": "stdout",
          "text": [
            "(72, 2)\n"
          ]
        },
        {
          "output_type": "execute_result",
          "data": {
            "text/plain": [
              "            0           1\n",
              "0  314.016047  512.221556\n",
              "1  328.101254  490.276011\n",
              "2  349.170898  472.357581\n",
              "3  363.252227  451.412029\n",
              "4  376.341320  428.462613"
            ],
            "text/html": [
              "\n",
              "  <div id=\"df-f8d41463-c8bc-4b26-a5ea-0d4d92192495\" class=\"colab-df-container\">\n",
              "    <div>\n",
              "<style scoped>\n",
              "    .dataframe tbody tr th:only-of-type {\n",
              "        vertical-align: middle;\n",
              "    }\n",
              "\n",
              "    .dataframe tbody tr th {\n",
              "        vertical-align: top;\n",
              "    }\n",
              "\n",
              "    .dataframe thead th {\n",
              "        text-align: right;\n",
              "    }\n",
              "</style>\n",
              "<table border=\"1\" class=\"dataframe\">\n",
              "  <thead>\n",
              "    <tr style=\"text-align: right;\">\n",
              "      <th></th>\n",
              "      <th>0</th>\n",
              "      <th>1</th>\n",
              "    </tr>\n",
              "  </thead>\n",
              "  <tbody>\n",
              "    <tr>\n",
              "      <th>0</th>\n",
              "      <td>314.016047</td>\n",
              "      <td>512.221556</td>\n",
              "    </tr>\n",
              "    <tr>\n",
              "      <th>1</th>\n",
              "      <td>328.101254</td>\n",
              "      <td>490.276011</td>\n",
              "    </tr>\n",
              "    <tr>\n",
              "      <th>2</th>\n",
              "      <td>349.170898</td>\n",
              "      <td>472.357581</td>\n",
              "    </tr>\n",
              "    <tr>\n",
              "      <th>3</th>\n",
              "      <td>363.252227</td>\n",
              "      <td>451.412029</td>\n",
              "    </tr>\n",
              "    <tr>\n",
              "      <th>4</th>\n",
              "      <td>376.341320</td>\n",
              "      <td>428.462613</td>\n",
              "    </tr>\n",
              "  </tbody>\n",
              "</table>\n",
              "</div>\n",
              "    <div class=\"colab-df-buttons\">\n",
              "\n",
              "  <div class=\"colab-df-container\">\n",
              "    <button class=\"colab-df-convert\" onclick=\"convertToInteractive('df-f8d41463-c8bc-4b26-a5ea-0d4d92192495')\"\n",
              "            title=\"Convert this dataframe to an interactive table.\"\n",
              "            style=\"display:none;\">\n",
              "\n",
              "  <svg xmlns=\"http://www.w3.org/2000/svg\" height=\"24px\" viewBox=\"0 -960 960 960\">\n",
              "    <path d=\"M120-120v-720h720v720H120Zm60-500h600v-160H180v160Zm220 220h160v-160H400v160Zm0 220h160v-160H400v160ZM180-400h160v-160H180v160Zm440 0h160v-160H620v160ZM180-180h160v-160H180v160Zm440 0h160v-160H620v160Z\"/>\n",
              "  </svg>\n",
              "    </button>\n",
              "\n",
              "  <style>\n",
              "    .colab-df-container {\n",
              "      display:flex;\n",
              "      gap: 12px;\n",
              "    }\n",
              "\n",
              "    .colab-df-convert {\n",
              "      background-color: #E8F0FE;\n",
              "      border: none;\n",
              "      border-radius: 50%;\n",
              "      cursor: pointer;\n",
              "      display: none;\n",
              "      fill: #1967D2;\n",
              "      height: 32px;\n",
              "      padding: 0 0 0 0;\n",
              "      width: 32px;\n",
              "    }\n",
              "\n",
              "    .colab-df-convert:hover {\n",
              "      background-color: #E2EBFA;\n",
              "      box-shadow: 0px 1px 2px rgba(60, 64, 67, 0.3), 0px 1px 3px 1px rgba(60, 64, 67, 0.15);\n",
              "      fill: #174EA6;\n",
              "    }\n",
              "\n",
              "    .colab-df-buttons div {\n",
              "      margin-bottom: 4px;\n",
              "    }\n",
              "\n",
              "    [theme=dark] .colab-df-convert {\n",
              "      background-color: #3B4455;\n",
              "      fill: #D2E3FC;\n",
              "    }\n",
              "\n",
              "    [theme=dark] .colab-df-convert:hover {\n",
              "      background-color: #434B5C;\n",
              "      box-shadow: 0px 1px 3px 1px rgba(0, 0, 0, 0.15);\n",
              "      filter: drop-shadow(0px 1px 2px rgba(0, 0, 0, 0.3));\n",
              "      fill: #FFFFFF;\n",
              "    }\n",
              "  </style>\n",
              "\n",
              "    <script>\n",
              "      const buttonEl =\n",
              "        document.querySelector('#df-f8d41463-c8bc-4b26-a5ea-0d4d92192495 button.colab-df-convert');\n",
              "      buttonEl.style.display =\n",
              "        google.colab.kernel.accessAllowed ? 'block' : 'none';\n",
              "\n",
              "      async function convertToInteractive(key) {\n",
              "        const element = document.querySelector('#df-f8d41463-c8bc-4b26-a5ea-0d4d92192495');\n",
              "        const dataTable =\n",
              "          await google.colab.kernel.invokeFunction('convertToInteractive',\n",
              "                                                    [key], {});\n",
              "        if (!dataTable) return;\n",
              "\n",
              "        const docLinkHtml = 'Like what you see? Visit the ' +\n",
              "          '<a target=\"_blank\" href=https://colab.research.google.com/notebooks/data_table.ipynb>data table notebook</a>'\n",
              "          + ' to learn more about interactive tables.';\n",
              "        element.innerHTML = '';\n",
              "        dataTable['output_type'] = 'display_data';\n",
              "        await google.colab.output.renderOutput(dataTable, element);\n",
              "        const docLink = document.createElement('div');\n",
              "        docLink.innerHTML = docLinkHtml;\n",
              "        element.appendChild(docLink);\n",
              "      }\n",
              "    </script>\n",
              "  </div>\n",
              "\n",
              "\n",
              "<div id=\"df-f9501f3a-88ab-4a0f-a6d4-77d7935422bf\">\n",
              "  <button class=\"colab-df-quickchart\" onclick=\"quickchart('df-f9501f3a-88ab-4a0f-a6d4-77d7935422bf')\"\n",
              "            title=\"Suggest charts\"\n",
              "            style=\"display:none;\">\n",
              "\n",
              "<svg xmlns=\"http://www.w3.org/2000/svg\" height=\"24px\"viewBox=\"0 0 24 24\"\n",
              "     width=\"24px\">\n",
              "    <g>\n",
              "        <path d=\"M19 3H5c-1.1 0-2 .9-2 2v14c0 1.1.9 2 2 2h14c1.1 0 2-.9 2-2V5c0-1.1-.9-2-2-2zM9 17H7v-7h2v7zm4 0h-2V7h2v10zm4 0h-2v-4h2v4z\"/>\n",
              "    </g>\n",
              "</svg>\n",
              "  </button>\n",
              "\n",
              "<style>\n",
              "  .colab-df-quickchart {\n",
              "      --bg-color: #E8F0FE;\n",
              "      --fill-color: #1967D2;\n",
              "      --hover-bg-color: #E2EBFA;\n",
              "      --hover-fill-color: #174EA6;\n",
              "      --disabled-fill-color: #AAA;\n",
              "      --disabled-bg-color: #DDD;\n",
              "  }\n",
              "\n",
              "  [theme=dark] .colab-df-quickchart {\n",
              "      --bg-color: #3B4455;\n",
              "      --fill-color: #D2E3FC;\n",
              "      --hover-bg-color: #434B5C;\n",
              "      --hover-fill-color: #FFFFFF;\n",
              "      --disabled-bg-color: #3B4455;\n",
              "      --disabled-fill-color: #666;\n",
              "  }\n",
              "\n",
              "  .colab-df-quickchart {\n",
              "    background-color: var(--bg-color);\n",
              "    border: none;\n",
              "    border-radius: 50%;\n",
              "    cursor: pointer;\n",
              "    display: none;\n",
              "    fill: var(--fill-color);\n",
              "    height: 32px;\n",
              "    padding: 0;\n",
              "    width: 32px;\n",
              "  }\n",
              "\n",
              "  .colab-df-quickchart:hover {\n",
              "    background-color: var(--hover-bg-color);\n",
              "    box-shadow: 0 1px 2px rgba(60, 64, 67, 0.3), 0 1px 3px 1px rgba(60, 64, 67, 0.15);\n",
              "    fill: var(--button-hover-fill-color);\n",
              "  }\n",
              "\n",
              "  .colab-df-quickchart-complete:disabled,\n",
              "  .colab-df-quickchart-complete:disabled:hover {\n",
              "    background-color: var(--disabled-bg-color);\n",
              "    fill: var(--disabled-fill-color);\n",
              "    box-shadow: none;\n",
              "  }\n",
              "\n",
              "  .colab-df-spinner {\n",
              "    border: 2px solid var(--fill-color);\n",
              "    border-color: transparent;\n",
              "    border-bottom-color: var(--fill-color);\n",
              "    animation:\n",
              "      spin 1s steps(1) infinite;\n",
              "  }\n",
              "\n",
              "  @keyframes spin {\n",
              "    0% {\n",
              "      border-color: transparent;\n",
              "      border-bottom-color: var(--fill-color);\n",
              "      border-left-color: var(--fill-color);\n",
              "    }\n",
              "    20% {\n",
              "      border-color: transparent;\n",
              "      border-left-color: var(--fill-color);\n",
              "      border-top-color: var(--fill-color);\n",
              "    }\n",
              "    30% {\n",
              "      border-color: transparent;\n",
              "      border-left-color: var(--fill-color);\n",
              "      border-top-color: var(--fill-color);\n",
              "      border-right-color: var(--fill-color);\n",
              "    }\n",
              "    40% {\n",
              "      border-color: transparent;\n",
              "      border-right-color: var(--fill-color);\n",
              "      border-top-color: var(--fill-color);\n",
              "    }\n",
              "    60% {\n",
              "      border-color: transparent;\n",
              "      border-right-color: var(--fill-color);\n",
              "    }\n",
              "    80% {\n",
              "      border-color: transparent;\n",
              "      border-right-color: var(--fill-color);\n",
              "      border-bottom-color: var(--fill-color);\n",
              "    }\n",
              "    90% {\n",
              "      border-color: transparent;\n",
              "      border-bottom-color: var(--fill-color);\n",
              "    }\n",
              "  }\n",
              "</style>\n",
              "\n",
              "  <script>\n",
              "    async function quickchart(key) {\n",
              "      const quickchartButtonEl =\n",
              "        document.querySelector('#' + key + ' button');\n",
              "      quickchartButtonEl.disabled = true;  // To prevent multiple clicks.\n",
              "      quickchartButtonEl.classList.add('colab-df-spinner');\n",
              "      try {\n",
              "        const charts = await google.colab.kernel.invokeFunction(\n",
              "            'suggestCharts', [key], {});\n",
              "      } catch (error) {\n",
              "        console.error('Error during call to suggestCharts:', error);\n",
              "      }\n",
              "      quickchartButtonEl.classList.remove('colab-df-spinner');\n",
              "      quickchartButtonEl.classList.add('colab-df-quickchart-complete');\n",
              "    }\n",
              "    (() => {\n",
              "      let quickchartButtonEl =\n",
              "        document.querySelector('#df-f9501f3a-88ab-4a0f-a6d4-77d7935422bf button');\n",
              "      quickchartButtonEl.style.display =\n",
              "        google.colab.kernel.accessAllowed ? 'block' : 'none';\n",
              "    })();\n",
              "  </script>\n",
              "</div>\n",
              "\n",
              "    </div>\n",
              "  </div>\n"
            ],
            "application/vnd.google.colaboratory.intrinsic+json": {
              "type": "dataframe",
              "variable_name": "hand_2_rotate",
              "summary": "{\n  \"name\": \"hand_2_rotate\",\n  \"rows\": 72,\n  \"fields\": [\n    {\n      \"column\": 0,\n      \"properties\": {\n        \"dtype\": \"number\",\n        \"std\": 104.6449397404766,\n        \"min\": 99.3400151342976,\n        \"max\": 456.00383657223495,\n        \"num_unique_values\": 72,\n        \"samples\": [\n          376.34131974032204,\n          105.20424558405114,\n          358.6982164572732\n        ],\n        \"semantic_type\": \"\",\n        \"description\": \"\"\n      }\n    },\n    {\n      \"column\": 1,\n      \"properties\": {\n        \"dtype\": \"number\",\n        \"std\": 124.94136248386883,\n        \"min\": 29.97312005946098,\n        \"max\": 512.2215556408174,\n        \"num_unique_values\": 72,\n        \"samples\": [\n          428.4626133703064,\n          205.40950978737692,\n          336.3935039657748\n        ],\n        \"semantic_type\": \"\",\n        \"description\": \"\"\n      }\n    }\n  ]\n}"
            }
          },
          "metadata": {},
          "execution_count": 39
        }
      ],
      "source": [
        "hand_2_rotate = np.matmul(R, hand_2.T).T\n",
        "print(hand_2_rotate.shape)\n",
        "hand_2_rotate.head()"
      ]
    },
    {
      "cell_type": "code",
      "execution_count": 40,
      "metadata": {
        "colab": {
          "base_uri": "https://localhost:8080/",
          "height": 447
        },
        "id": "9AZ5v5_Heh0d",
        "outputId": "7468ba30-60c5-4526-ed7d-b8e1039a2bf0"
      },
      "outputs": [
        {
          "output_type": "execute_result",
          "data": {
            "text/plain": [
              "[<matplotlib.lines.Line2D at 0x7ece0f2750f0>]"
            ]
          },
          "metadata": {},
          "execution_count": 40
        },
        {
          "output_type": "display_data",
          "data": {
            "text/plain": [
              "<Figure size 640x480 with 1 Axes>"
            ],
            "image/png": "[encoded data removed]"
          },
          "metadata": {}
        }
      ],
      "source": [
        "plt.plot(hand_1[\"x\"], hand_1[\"y\"])\n",
        "plt.plot(hand_2_rotate[0], hand_2_rotate[1])"
      ]
    },
    {
      "cell_type": "markdown",
      "source": [
        "The two hands do align."
      ],
      "metadata": {
        "id": "L8hKJTbsFW08"
      }
    },
    {
      "cell_type": "markdown",
      "source": [
        "## **3**"
      ],
      "metadata": {
        "id": "4wulstJLFZpT"
      }
    },
    {
      "cell_type": "markdown",
      "source": [
        "### **a)**"
      ],
      "metadata": {
        "id": "ZXS0R8EuFjI7"
      }
    },
    {
      "cell_type": "markdown",
      "source": [
        "The second equation $y_i = ax_i^2+bx_i+c+\\epsilon_i$ would fit the best the data sample seems to be quadratic. Using the first equation would simply underfit the data (unless some trick was used)."
      ],
      "metadata": {
        "id": "zJSj0bMFFluy"
      }
    },
    {
      "cell_type": "markdown",
      "source": [
        "### **b)**"
      ],
      "metadata": {
        "id": "7iUUcUGMHlwJ"
      }
    },
    {
      "cell_type": "markdown",
      "source": [
        "Given model: $y_i = ax_i^2+bx_i+c+\\epsilon_i$\n",
        "\n",
        "Isolating $\\epsilon_i$\n",
        "$$-\\epsilon_i = ax_i^2+bx_i+c- y_i$$\n",
        "$$\\epsilon_i = -ax_i^2-bx_i-c+y_i$$\n",
        "$$\\epsilon_i = y_i-ax_i^2-bx_i-c$$\n",
        "\n",
        "$$\\text{energy function} = \\min SSE(a, b, c) = \\min \\sum_{i=1}^{n}(\\epsilon_i)^2 = \\min \\sum_{i=1}^{n}(y_i - ax_i^2-bx_i-c)^2$$\n",
        "\n",
        "$\\text{energy} = \\min \\sum_{i=1}^{n}(\\epsilon_i)^2 = \\min \\sum_{i=1}^{n}(y_i - ax_i^2-bx_i-c)^2$"
      ],
      "metadata": {
        "id": "cPrqjVyzHn-Q"
      }
    },
    {
      "cell_type": "markdown",
      "source": [
        "Solve for $a$:\n",
        "\n",
        "First, subtract all values by their mean.\n",
        "\n",
        "$$\\tilde{y}_i = y_i - \\bar{y}$$\n",
        "$$\\tilde{x}_i = x_i - \\bar{x}$$\n",
        "\n",
        "Calculate $a$ using derivation:\n",
        "\n",
        "$$0 = \\frac{\\partial}{\\partial a}\\sum(\\tilde{y}_i - a\\tilde{x}_i^2-b\\tilde{x}_i-c)^2$$\n",
        "\n",
        "$$0 = -2\\sum(\\tilde{y}_i-a\\tilde{x}_i^2-b\\tilde{x}_i-c)\\tilde{x}_i^2$$\n",
        "\n",
        "$$0 = -2\\sum(\\tilde{y}_i\\tilde{x}_i^2-a\\tilde{x}_i^4-b\\tilde{x}_i^3-c\\tilde{x}_i^2)$$\n",
        "\n",
        "$$0 = -2\\sum\\tilde{y}_i\\tilde{x}_i^2+2a\\sum\\tilde{x}_i^4+2b\\sum\\tilde{x}_i^3+2c\\sum\\tilde{x}_i^2$$\n",
        "\n",
        "$$a = \\frac{\\sum\\tilde{y}_i\\tilde{x}_i^2-b\\sum\\tilde{x}_i^3-c\\sum\\tilde{x}_i^2}{\\sum\\tilde{x}_i^4}$$\n",
        "\n",
        "$$a = \\frac{\\sum\\tilde{y}_i-b\\sum\\tilde{x}_i-c}{\\sum\\tilde{x}_i^2}$$\n",
        "\n",
        "$$a = \\frac{-c}{\\sum\\tilde{x}_i^2}$$\n",
        "\n",
        "Therefore, the optimal value of $a$ is found via equation: $a = \\frac{-c}{\\sum\\tilde{x}_i^2}$"
      ],
      "metadata": {
        "id": "QWOzBxA2K2dT"
      }
    },
    {
      "cell_type": "markdown",
      "source": [
        "## **4**\n",
        "\n"
      ],
      "metadata": {
        "id": "YUOUVwWPFf-1"
      }
    },
    {
      "cell_type": "markdown",
      "metadata": {
        "id": "bA8KhsAsxZ-k"
      },
      "source": [
        "## **Resources**\n",
        "\n",
        "https://seaborn.pydata.org/\n",
        "\n",
        "https://numpy.org/doc/stable/\n",
        "\n",
        "https://www.statology.org/seaborn-add-line-to-scatterplot/\n",
        "\n",
        "https://stackoverflow.com/questions/6745464/inverse-cosine-in-python\n",
        "\n",
        "\n",
        "\n",
        "\n"
      ]
    },
    {
      "cell_type": "code",
      "execution_count": 40,
      "metadata": {
        "id": "wD_DQMVQxV_Y"
      },
      "outputs": [],
      "source": []
    }
  ],
  "metadata": {
    "colab": {
      "provenance": [],
      "collapsed_sections": [
        "Iu7kjwxWuqQ6"
      ]
    },
    "kernelspec": {
      "display_name": "Python 3",
      "name": "python3"
    },
    "language_info": {
      "name": "python"
    }
  },
  "nbformat": 4,
  "nbformat_minor": 0
}