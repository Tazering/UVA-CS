{
  "nbformat": 4,
  "nbformat_minor": 0,
  "metadata": {
    "colab": {
      "provenance": []
    },
    "kernelspec": {
      "name": "python3",
      "display_name": "Python 3"
    },
    "language_info": {
      "name": "python"
    }
  },
  "cells": [
    {
      "cell_type": "markdown",
      "source": [
        "# **Homework 3: Linear Regression & SVD**"
      ],
      "metadata": {
        "id": "d5yMKoZCug7H"
      }
    },
    {
      "cell_type": "markdown",
      "source": [
        "## **1**\n",
        "\n"
      ],
      "metadata": {
        "id": "Iu7kjwxWuqQ6"
      }
    },
    {
      "cell_type": "code",
      "execution_count": 1,
      "metadata": {
        "id": "BZECt2uLuBER"
      },
      "outputs": [],
      "source": [
        "import numpy as np\n",
        "import pandas as pd\n",
        "import seaborn as sns\n",
        "\n",
        "data_path = \"./faithful.csv\"\n",
        "\n",
        "faithful_data = pd.read_csv(data_path)"
      ]
    },
    {
      "cell_type": "markdown",
      "source": [
        "### **a**"
      ],
      "metadata": {
        "id": "tXlnuOPivFZ0"
      }
    },
    {
      "cell_type": "code",
      "source": [
        "x_eruptions = faithful_data[\"eruptions\"]\n",
        "y_waiting = faithful_data[\"waiting\"]\n",
        "\n",
        "sns.scatterplot(x = x_eruptions, y = y_waiting)"
      ],
      "metadata": {
        "colab": {
          "base_uri": "https://localhost:8080/",
          "height": 466
        },
        "id": "iQfxwzYRvqGI",
        "outputId": "c62c91b7-e0bd-4648-f53c-6e9deb80cf49"
      },
      "execution_count": 2,
      "outputs": [
        {
          "output_type": "execute_result",
          "data": {
            "text/plain": [
              "<Axes: xlabel='eruptions', ylabel='waiting'>"
            ]
          },
          "metadata": {},
          "execution_count": 2
        },
        {
          "output_type": "display_data",
          "data": {
            "text/plain": [
              "<Figure size 640x480 with 1 Axes>"
            ],
            "image/png": "[encoded data removed]"
          },
          "metadata": {}
        }
      ]
    },
    {
      "cell_type": "markdown",
      "source": [
        "There seems to be a positive linear relationship between the eruption duration and wait times."
      ],
      "metadata": {
        "id": "Y0I-pHmjx9lk"
      }
    },
    {
      "cell_type": "markdown",
      "source": [
        "### **b**"
      ],
      "metadata": {
        "id": "xS07sYxOyG_O"
      }
    },
    {
      "cell_type": "code",
      "source": [
        "\"\"\"\n",
        "Calculates the mean of a given dataset\n",
        "@data : of type pandas.Series\n",
        "\"\"\"\n",
        "def calculate_mean(data):\n",
        "  n = 0\n",
        "  sum = 0\n",
        "\n",
        "  for val in data:\n",
        "    sum += val\n",
        "    n += 1\n",
        "\n",
        "  return sum/n\n",
        "\n",
        "x_mean = calculate_mean(x_eruptions)\n",
        "y_mean = calculate_mean(y_waiting)\n",
        "\n",
        "print(\"Eruption Time Mean:\", x_mean)\n",
        "print(\"Waiting Time Mean:\", y_mean)"
      ],
      "metadata": {
        "colab": {
          "base_uri": "https://localhost:8080/"
        },
        "id": "-BDo7Z5zyGcj",
        "outputId": "5b3b521d-7215-403e-b976-3765bb5ab498"
      },
      "execution_count": 3,
      "outputs": [
        {
          "output_type": "stream",
          "name": "stdout",
          "text": [
            "Eruption Time Mean: 3.4877830882352936\n",
            "Waiting Time Mean: 70.8970588235294\n"
          ]
        }
      ]
    },
    {
      "cell_type": "code",
      "source": [
        "# center the data\n",
        "centered_eruptions = x_eruptions - [x_mean] * x_eruptions.size\n",
        "centered_waiting = y_waiting - [y_mean] * y_waiting.size"
      ],
      "metadata": {
        "id": "49qTtIcb1EQr"
      },
      "execution_count": 4,
      "outputs": []
    },
    {
      "cell_type": "markdown",
      "source": [
        "### **c**"
      ],
      "metadata": {
        "id": "0MCT3UJk2ida"
      }
    },
    {
      "cell_type": "code",
      "source": [
        "# manually calculates the dot product\n",
        "def calculate_dot_product(dataset1, dataset2):\n",
        "  n = dataset1.size\n",
        "  i = 0\n",
        "  dot_product = 0\n",
        "\n",
        "  for i in range(n):\n",
        "    dot_product += (dataset1[i] * dataset2[i])\n",
        "\n",
        "  return dot_product\n",
        "\n",
        "# calculate the correlation\n",
        "def calculate_correlation(dataset1, dataset2):\n",
        "  numerator = calculate_dot_product(dataset1, dataset2)\n",
        "  denominator = np.sqrt(calculate_dot_product(dataset1, dataset1)) * np.sqrt(calculate_dot_product(dataset2, dataset2))\n",
        "\n",
        "  return numerator / denominator\n",
        "\n",
        "correlation = calculate_correlation(x_eruptions, y_waiting)\n",
        "\n",
        "print(\"Correlation:\", correlation)"
      ],
      "metadata": {
        "colab": {
          "base_uri": "https://localhost:8080/"
        },
        "id": "nAtroPrv2vGL",
        "outputId": "7ca83a48-6f80-4380-caa3-6e264d4275e5"
      },
      "execution_count": 5,
      "outputs": [
        {
          "output_type": "stream",
          "name": "stdout",
          "text": [
            "Correlation: 0.9862066493738285\n"
          ]
        }
      ]
    },
    {
      "cell_type": "markdown",
      "source": [
        "The correlation value and sign match what I expected because the scatterplot does indicate that the variables have a strong positive relationship with each other."
      ],
      "metadata": {
        "id": "MIDAqyT76Zqj"
      }
    },
    {
      "cell_type": "markdown",
      "source": [
        "### **d**"
      ],
      "metadata": {
        "id": "ZD94JIgiA5Na"
      }
    },
    {
      "cell_type": "code",
      "source": [
        "from numpy import linalg as la\n",
        "import math\n",
        "\n",
        "# calculates the beta\n",
        "def calculate_beta(centered_x, centered_y):\n",
        "  numerator = np.dot(centered_x, centered_y)\n",
        "  denominator = np.dot(centered_x, centered_x.T)\n",
        "  # denominator = math.pow(la.norm(centered_x), 2)\n",
        "\n",
        "  return numerator / denominator\n",
        "\n",
        "\n",
        "# calculate the alpha\n",
        "def calculate_alpha(x_data, y_data, beta_hat):\n",
        "  y_mean = calculate_mean(y_data)\n",
        "  x_mean = calculate_mean(x_data)\n",
        "\n",
        "  return (y_mean - beta_hat * x_mean)\n",
        "\n",
        "beta_hat = calculate_beta(centered_eruptions, centered_waiting)\n",
        "\n",
        "alpha_hat = calculate_alpha(x_eruptions, y_waiting, beta_hat)\n",
        "\n",
        "print(\"Beta:\", beta_hat, \"Alpha:\", alpha_hat)"
      ],
      "metadata": {
        "colab": {
          "base_uri": "https://localhost:8080/"
        },
        "id": "4V1zyh7UA9p7",
        "outputId": "df6a9da3-4f10-4e01-8e83-12956cbee4f4"
      },
      "execution_count": 6,
      "outputs": [
        {
          "output_type": "stream",
          "name": "stdout",
          "text": [
            "Beta: 10.729641395133527 Alpha: 33.47439702275335\n"
          ]
        }
      ]
    },
    {
      "cell_type": "code",
      "source": [
        "import matplotlib.pyplot as plt\n",
        "import matplotlib.axes as ax\n",
        "\n",
        "x_eruptions = faithful_data[\"eruptions\"]\n",
        "y_waiting = faithful_data[\"waiting\"]\n",
        "\n",
        "sns.scatterplot(x = x_eruptions, y = y_waiting)\n",
        "plt.axline(xy1 = (0, alpha_hat), slope = beta_hat, color = 'r') # creates the line on top of the scatterplot"
      ],
      "metadata": {
        "colab": {
          "base_uri": "https://localhost:8080/",
          "height": 466
        },
        "id": "GK3fjs_sGK6T",
        "outputId": "f5d702ac-826e-40f1-8e21-811c5d517621"
      },
      "execution_count": 7,
      "outputs": [
        {
          "output_type": "execute_result",
          "data": {
            "text/plain": [
              "<matplotlib.lines._AxLine at 0x7ea9ade76a70>"
            ]
          },
          "metadata": {},
          "execution_count": 7
        },
        {
          "output_type": "display_data",
          "data": {
            "text/plain": [
              "<Figure size 640x480 with 1 Axes>"
            ],
            "image/png": "[encoded data removed]"
          },
          "metadata": {}
        }
      ]
    },
    {
      "cell_type": "markdown",
      "source": [
        "The value of the correlation and the slope are seem to match in that the slope seems to accurately closely match with the trend between the eruptions time and wait which reflects a higher correlation. In other words, the slope value seems to indicate a strong correlation between eruptions time and the waiting time. The sign for both the correlation and the slope are the same in the sense that the slope indicates a positive relationship between the eruption time and wait time just as the correlation indicates a positive relationship between the two variables."
      ],
      "metadata": {
        "id": "1twcEhPoLAQr"
      }
    },
    {
      "cell_type": "markdown",
      "source": [
        "### **e**"
      ],
      "metadata": {
        "id": "robjc3GxMDmp"
      }
    },
    {
      "cell_type": "code",
      "source": [
        "def calculate_y_hat(x, beta_hat, alpha_hat):\n",
        "  return alpha_hat + x * beta_hat"
      ],
      "metadata": {
        "id": "7miPtjI0ISC4"
      },
      "execution_count": 8,
      "outputs": []
    },
    {
      "cell_type": "code",
      "source": [
        "print(calculate_y_hat(2.2, beta_hat, alpha_hat))"
      ],
      "metadata": {
        "colab": {
          "base_uri": "https://localhost:8080/"
        },
        "id": "-nVUNCeIMFxv",
        "outputId": "6c8091a3-94c8-402e-c980-1a2bf4f925bd"
      },
      "execution_count": 9,
      "outputs": [
        {
          "output_type": "stream",
          "name": "stdout",
          "text": [
            "57.07960809204711\n"
          ]
        }
      ]
    },
    {
      "cell_type": "markdown",
      "source": [
        "I expect to wait about 57 minutes for the next eruption."
      ],
      "metadata": {
        "id": "LPtNUPGXMzqn"
      }
    },
    {
      "cell_type": "markdown",
      "source": [
        "### **f**"
      ],
      "metadata": {
        "id": "rlE4zmkyM7u5"
      }
    },
    {
      "cell_type": "code",
      "source": [
        "# calculates a single instance of epsilon\n",
        "def get_epsilon(x_val, y_true_val, beta_hat, alpha_hat):\n",
        "  return y_true_val - alpha_hat - beta_hat * x_val\n",
        "\n",
        "epsilon_test = get_epsilon(x_eruptions[0], y_waiting[0], beta_hat, alpha_hat)\n",
        "print(epsilon_test)"
      ],
      "metadata": {
        "colab": {
          "base_uri": "https://localhost:8080/"
        },
        "id": "Tx-BYAVezgK-",
        "outputId": "97d7b388-f042-411c-cccd-8e587101dd10"
      },
      "execution_count": 16,
      "outputs": [
        {
          "output_type": "stream",
          "name": "stdout",
          "text": [
            "6.898893954765953\n"
          ]
        }
      ]
    },
    {
      "cell_type": "code",
      "source": [
        "# calculates the variance\n",
        "def calculate_variance(x, y, beta_hat, alpha_hat):\n",
        "  n = x.shape[0]\n",
        "  variance = np.ndarray(shape = (n, 1))\n",
        "\n",
        "  for i in range(n):\n",
        "    epsilon_val = get_epsilon(x[i], y[i], beta_hat, alpha_hat)\n",
        "    variance[i] = epsilon_val\n",
        "\n",
        "  return variance\n",
        "\n",
        "variance = calculate_variance(x_eruptions, y_waiting, beta_hat, alpha_hat)\n",
        "print(variance)"
      ],
      "metadata": {
        "colab": {
          "base_uri": "https://localhost:8080/"
        },
        "id": "od8Wz21HM9jj",
        "outputId": "926e9650-57e9-46b9-98f5-ca218496be81"
      },
      "execution_count": 21,
      "outputs": [
        {
          "output_type": "stream",
          "name": "stdout",
          "text": [
            "[[  6.89889395]\n",
            " [  1.21224847]\n",
            " [  4.76370821]\n",
            " [  4.02983167]\n",
            " [  2.88813853]\n",
            " [ -9.40795316]\n",
            " [  4.09628842]\n",
            " [ 12.89889395]\n",
            " [ -3.39719774]\n",
            " [  4.85166291]\n",
            " [  0.8581703 ]\n",
            " [  8.49759763]\n",
            " [ -0.53889088]\n",
            " [ -5.25126946]\n",
            " [ -0.90371158]\n",
            " [ -4.72552993]\n",
            " [  9.74873054]\n",
            " [ -0.97667572]\n",
            " [  1.35817675]\n",
            " [ -0.07537295]\n",
            " [ -1.78775153]\n",
            " [ -5.25126946]\n",
            " [  7.50834016]\n",
            " [  2.61779282]\n",
            " [ -8.11186147]\n",
            " [ 10.89889395]\n",
            " [  0.42039835]\n",
            " [ -1.28352284]\n",
            " [  3.21648361]\n",
            " [ -2.03889733]\n",
            " [ -6.61185502]\n",
            " [ -4.40370513]\n",
            " [ -3.6010996 ]\n",
            " [  3.25295923]\n",
            " [ -0.60111249]\n",
            " [ -3.11608372]\n",
            " [ -5.50663751]\n",
            " [ -5.33075389]\n",
            " [  5.8581703 ]\n",
            " [  5.20572818]\n",
            " [ -0.14833709]\n",
            " [  4.32168823]\n",
            " [  1.52333073]\n",
            " [  5.74873054]\n",
            " [ -9.11186147]\n",
            " [ 13.93538247]\n",
            " [-10.60111249]\n",
            " [ -3.00664395]\n",
            " [ -1.18482561]\n",
            " [  4.06632019]\n",
            " [ -9.97667572]\n",
            " [  5.92461416]\n",
            " [  0.8581703 ]\n",
            " [ -5.33075389]\n",
            " [  1.93113444]\n",
            " [ -2.86723596]\n",
            " [ -2.35647409]\n",
            " [ 12.63929077]\n",
            " [ -5.47666927]\n",
            " [  1.20574107]\n",
            " [  1.56631374]\n",
            " [  2.2422167 ]\n",
            " [ -4.25126946]\n",
            " [ -2.97667572]\n",
            " [  7.02984456]\n",
            " [ 11.31518084]\n",
            " [ -0.18481272]\n",
            " [ -5.90371158]\n",
            " [  9.34743421]\n",
            " [-10.90371158]\n",
            " [  5.25295923]\n",
            " [  1.42039835]\n",
            " [ -2.7577833 ]\n",
            " [ -5.3929626 ]\n",
            " [  7.24872409]\n",
            " [-11.84148997]\n",
            " [  4.88391628]\n",
            " [ -4.47666927]\n",
            " [  0.86240544]\n",
            " [ 10.89889395]\n",
            " [ -2.82000491]\n",
            " [  2.03406681]\n",
            " [ -7.46592674]\n",
            " [  3.27445718]\n",
            " [ -4.11184858]\n",
            " [  1.59628198]\n",
            " [  0.14351947]\n",
            " [ -1.9401872 ]\n",
            " [ -8.72552993]\n",
            " [  9.6070374 ]\n",
            " [  2.92039191]\n",
            " [ 10.03406681]\n",
            " [ -3.50663751]\n",
            " [ -7.15907962]\n",
            " [  9.8581703 ]\n",
            " [ -7.61185502]\n",
            " [  0.45036659]\n",
            " [  1.28944775]\n",
            " [ -2.50663751]\n",
            " [ -4.04963986]\n",
            " [  1.88390339]\n",
            " [  7.669259  ]\n",
            " [ -7.00664395]\n",
            " [  1.2422167 ]\n",
            " [  4.07055533]\n",
            " [ -6.50663751]\n",
            " [  0.09628842]\n",
            " [ -0.60534763]\n",
            " [  0.48684221]\n",
            " [  8.00833372]\n",
            " [ -9.25778975]\n",
            " [  0.84742777]\n",
            " [  2.95036014]\n",
            " [ -1.86722307]\n",
            " [  7.28521261]\n",
            " [ -2.18482561]\n",
            " [ -8.33497614]\n",
            " [  2.16925256]\n",
            " [  6.02984456]\n",
            " [  6.13277693]\n",
            " [ -8.55386855]\n",
            " [ -8.11184858]\n",
            " [ -2.07537295]\n",
            " [  1.42039835]\n",
            " [  5.16925256]\n",
            " [  7.10704384]\n",
            " [ -9.04311958]\n",
            " [  0.2422167 ]\n",
            " [ -2.79849407]\n",
            " [  6.63277049]\n",
            " [ -8.50663751]\n",
            " [  4.81518728]\n",
            " [ -7.51739293]\n",
            " [  9.03406681]\n",
            " [ -7.1418297 ]\n",
            " [  1.49758474]\n",
            " [ -2.67831177]\n",
            " [ -0.40371802]\n",
            " [ -2.28775798]\n",
            " [  5.47185165]\n",
            " [  2.10703095]\n",
            " [  2.56631374]\n",
            " [ -0.11186147]\n",
            " [ -8.15907962]\n",
            " [ -3.96593319]\n",
            " [  4.24872409]\n",
            " [ -3.18482561]\n",
            " [ -6.11608372]\n",
            " [  7.80443186]\n",
            " [  0.21224847]\n",
            " [-10.47668216]\n",
            " [  0.6070374 ]\n",
            " [  5.77446363]\n",
            " [ -1.83074744]\n",
            " [ -0.74702788]\n",
            " [ -6.3929626 ]\n",
            " [ -0.7577833 ]\n",
            " [ 15.71647716]\n",
            " [  0.21224847]\n",
            " [ 12.96111556]\n",
            " [-12.07960809]\n",
            " [  7.99759119]\n",
            " [  3.06632019]\n",
            " [  3.39888751]\n",
            " [ -5.02814191]\n",
            " [ -6.64834354]\n",
            " [  4.12854179]\n",
            " [  0.877396  ]\n",
            " [ -2.21479384]\n",
            " [  9.98684866]\n",
            " [ -5.04311958]\n",
            " [  1.17575995]\n",
            " [ -5.64834354]\n",
            " [ -1.23629179]\n",
            " [  2.81518728]\n",
            " [  1.03406681]\n",
            " [ -8.7577833 ]\n",
            " [ -9.40794027]\n",
            " [  8.6070374 ]\n",
            " [ -4.18481272]\n",
            " [  1.32168823]\n",
            " [ -5.64834354]\n",
            " [  3.92462705]\n",
            " [  9.10704384]\n",
            " [ -4.28775798]\n",
            " [ -3.03889733]\n",
            " [  6.71647716]\n",
            " [ -7.1418297 ]\n",
            " [  2.13277693]\n",
            " [ -1.89720419]\n",
            " [ -3.97667572]\n",
            " [  3.8581703 ]\n",
            " [ -8.97667572]\n",
            " [  6.53407326]\n",
            " [  0.9718452 ]\n",
            " [  2.10703095]\n",
            " [ 15.97185809]\n",
            " [ -3.32001135]\n",
            " [ -6.61609016]\n",
            " [ -5.54963341]\n",
            " [  3.99335605]\n",
            " [  1.85166291]\n",
            " [ 13.17999509]\n",
            " [ -0.50663751]\n",
            " [ -4.83074744]\n",
            " [ -6.60534763]\n",
            " [ -3.330741  ]\n",
            " [  9.21648361]\n",
            " [ -5.21479384]\n",
            " [  1.2422167 ]\n",
            " [ 11.95686753]\n",
            " [ -3.90371158]\n",
            " [ -4.50663751]\n",
            " [  0.39888751]\n",
            " [ -6.13758167]\n",
            " [ -2.89296905]\n",
            " [ -6.22553637]\n",
            " [  9.02332428]\n",
            " [  0.06632019]\n",
            " [ -2.00240881]\n",
            " [ -3.50663751]\n",
            " [  2.74222314]\n",
            " [  1.74873054]\n",
            " [ -6.5753794 ]\n",
            " [  1.6070374 ]\n",
            " [  1.35166935]\n",
            " [  0.71647716]\n",
            " [ -1.25777686]\n",
            " [ -5.50240237]\n",
            " [ -3.29426537]\n",
            " [ -7.28352284]\n",
            " [ -5.40794027]\n",
            " [  7.64351302]\n",
            " [ -7.262012  ]\n",
            " [  8.77869877]\n",
            " [  0.32168823]\n",
            " [  0.6757664 ]\n",
            " [ -2.42945112]\n",
            " [  3.14351947]\n",
            " [  5.4933496 ]\n",
            " [ -3.00240881]\n",
            " [-11.6890543 ]\n",
            " [ -0.40371802]\n",
            " [ -1.59035707]\n",
            " [  2.35165646]\n",
            " [  7.39888751]\n",
            " [  1.17575995]\n",
            " [  1.669259  ]\n",
            " [ 10.63927788]\n",
            " [ -6.14833709]\n",
            " [ -3.07960809]\n",
            " [  1.77869877]\n",
            " [  1.25297212]\n",
            " [ -8.7577833 ]\n",
            " [  9.99759119]\n",
            " [  5.57056177]\n",
            " [ -4.50240237]\n",
            " [  1.77869877]\n",
            " [  1.06632019]\n",
            " [ -0.42945112]\n",
            " [ -6.62259755]\n",
            " [  1.88813853]\n",
            " [  4.6757664 ]\n",
            " [  3.92462705]\n",
            " [-11.75127591]\n",
            " [  2.38390984]\n",
            " [ -9.44019365]\n",
            " [  3.35166935]\n",
            " [-10.54312602]\n",
            " [  9.13277693]\n",
            " [ -6.97015544]\n",
            " [ -7.40370513]]\n"
          ]
        }
      ]
    },
    {
      "cell_type": "code",
      "source": [
        "# calculate the r^2\n",
        "def calculate_r_squared(variance, y):\n",
        "  explained = (np.dot(variance.T, variance)) / (np.dot(y, y.T))\n",
        "\n",
        "  return (1 - explained)\n",
        "\n",
        "r_squared = calculate_r_squared(variance, y_waiting)\n",
        "print(r_squared)"
      ],
      "metadata": {
        "colab": {
          "base_uri": "https://localhost:8080/"
        },
        "id": "3rW0w8kZPamc",
        "outputId": "1c85ea83-d747-4452-986b-c89e1c5bf199"
      },
      "execution_count": 25,
      "outputs": [
        {
          "output_type": "stream",
          "name": "stdout",
          "text": [
            "[[0.9933369]]\n"
          ]
        }
      ]
    },
    {
      "cell_type": "markdown",
      "source": [
        "About $99$% of variance is explained by the regression model."
      ],
      "metadata": {
        "id": "P6EBWPKG3VgM"
      }
    },
    {
      "cell_type": "markdown",
      "source": [
        "## **Resources**\n",
        "\n",
        "https://seaborn.pydata.org/\n",
        "\n",
        "https://numpy.org/doc/stable/\n",
        "\n",
        "https://www.statology.org/seaborn-add-line-to-scatterplot/\n",
        "\n",
        "\n"
      ],
      "metadata": {
        "id": "bA8KhsAsxZ-k"
      }
    },
    {
      "cell_type": "code",
      "source": [],
      "metadata": {
        "id": "wD_DQMVQxV_Y"
      },
      "execution_count": 11,
      "outputs": []
    }
  ]
}