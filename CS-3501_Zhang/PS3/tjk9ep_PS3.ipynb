{
  "nbformat": 4,
  "nbformat_minor": 0,
  "metadata": {
    "colab": {
      "provenance": []
    },
    "kernelspec": {
      "name": "python3",
      "display_name": "Python 3"
    },
    "language_info": {
      "name": "python"
    }
  },
  "cells": [
    {
      "cell_type": "markdown",
      "source": [
        "# **Homework 3: Linear Regression & SVD**"
      ],
      "metadata": {
        "id": "d5yMKoZCug7H"
      }
    },
    {
      "cell_type": "markdown",
      "source": [
        "## **1**\n",
        "\n"
      ],
      "metadata": {
        "id": "Iu7kjwxWuqQ6"
      }
    },
    {
      "cell_type": "code",
      "execution_count": 3,
      "metadata": {
        "id": "BZECt2uLuBER"
      },
      "outputs": [],
      "source": [
        "import numpy as np\n",
        "import pandas as pd\n",
        "import seaborn as sns\n",
        "\n",
        "data_path = \"./faithful.csv\"\n",
        "\n",
        "faithful_data = pd.read_csv(data_path)"
      ]
    },
    {
      "cell_type": "markdown",
      "source": [
        "### **a**"
      ],
      "metadata": {
        "id": "tXlnuOPivFZ0"
      }
    },
    {
      "cell_type": "code",
      "source": [
        "x_eruptions = faithful_data[\"eruptions\"]\n",
        "y_waiting = faithful_data[\"waiting\"]\n",
        "\n",
        "sns.scatterplot(x = x_eruptions, y = y_waiting)"
      ],
      "metadata": {
        "colab": {
          "base_uri": "https://localhost:8080/",
          "height": 466
        },
        "id": "iQfxwzYRvqGI",
        "outputId": "3cbb2941-22fe-428e-f501-70faa8642b37"
      },
      "execution_count": 6,
      "outputs": [
        {
          "output_type": "execute_result",
          "data": {
            "text/plain": [
              "<Axes: xlabel='eruptions', ylabel='waiting'>"
            ]
          },
          "metadata": {},
          "execution_count": 6
        },
        {
          "output_type": "display_data",
          "data": {
            "text/plain": [
              "<Figure size 640x480 with 1 Axes>"
            ],
            "image/png": "[encoded data removed]"
          },
          "metadata": {}
        }
      ]
    },
    {
      "cell_type": "markdown",
      "source": [
        "There seems to be a positive linear relationship between the eruption duration and wait times."
      ],
      "metadata": {
        "id": "Y0I-pHmjx9lk"
      }
    },
    {
      "cell_type": "markdown",
      "source": [
        "### **b**"
      ],
      "metadata": {
        "id": "xS07sYxOyG_O"
      }
    },
    {
      "cell_type": "code",
      "source": [
        "\"\"\"\n",
        "Calculates the mean of a given dataset\n",
        "@data : of type pandas.Series\n",
        "\"\"\"\n",
        "def calculate_mean(data):\n",
        "  n = 0\n",
        "  sum = 0\n",
        "\n",
        "  for val in data:\n",
        "    sum += val\n",
        "    n += 1\n",
        "\n",
        "  return sum/n\n",
        "\n",
        "x_mean = calculate_mean(x_eruptions)\n",
        "y_mean = calculate_mean(y_waiting)\n",
        "\n",
        "print(\"Eruption Time Mean:\", x_mean)\n",
        "print(\"Waiting Time Mean:\", y_mean)"
      ],
      "metadata": {
        "colab": {
          "base_uri": "https://localhost:8080/"
        },
        "id": "-BDo7Z5zyGcj",
        "outputId": "9c7df5b2-cda4-445b-f595-6cfbfc62f5ce"
      },
      "execution_count": 16,
      "outputs": [
        {
          "output_type": "stream",
          "name": "stdout",
          "text": [
            "Eruption Time Mean: 3.4877830882352936\n",
            "Waiting Time Mean: 70.8970588235294\n"
          ]
        }
      ]
    },
    {
      "cell_type": "code",
      "source": [
        "# center the data\n",
        "centered_eruptions = x_eruptions - [x_mean] * x_eruptions.size\n",
        "centered_waiting = y_waiting - [y_mean] * y_waiting.size"
      ],
      "metadata": {
        "id": "49qTtIcb1EQr"
      },
      "execution_count": 21,
      "outputs": []
    },
    {
      "cell_type": "markdown",
      "source": [
        "### **c**"
      ],
      "metadata": {
        "id": "0MCT3UJk2ida"
      }
    },
    {
      "cell_type": "code",
      "source": [
        "def calculate_dot_product(dataset1, dataset2):\n",
        "  n = dataset1.size\n",
        "  i = 0\n",
        "  dot_product = 0\n",
        "\n",
        "  for i in range(n):\n",
        "    dot_product += (dataset1[i] * dataset2[i])\n",
        "\n",
        "  return dot_product\n",
        "\n",
        "def calculate_correlation(dataset1, dataset2):\n",
        "  numerator = calculate_dot_product(dataset1, dataset2)\n",
        "  denominator = np.sqrt(calculate_dot_product(dataset1, dataset1)) * np.sqrt(calculate_dot_product(dataset2, dataset2))\n",
        "\n",
        "  return numerator / denominator\n",
        "\n",
        "correlation = calculate_correlation(x_eruptions, y_waiting)\n",
        "\n",
        "print(\"Correlation:\", correlation)"
      ],
      "metadata": {
        "colab": {
          "base_uri": "https://localhost:8080/"
        },
        "id": "nAtroPrv2vGL",
        "outputId": "1be0fd13-c188-47a7-c42f-c7017a660773"
      },
      "execution_count": 28,
      "outputs": [
        {
          "output_type": "stream",
          "name": "stdout",
          "text": [
            "Correlation: 0.9862066493738285\n"
          ]
        }
      ]
    },
    {
      "cell_type": "markdown",
      "source": [
        "The correlation value and sign match what I expected because the scatterplot does indicate that the variables have a strong positive relationship with each other."
      ],
      "metadata": {
        "id": "MIDAqyT76Zqj"
      }
    },
    {
      "cell_type": "markdown",
      "source": [
        "## **Resources**\n",
        "\n",
        "https://seaborn.pydata.org/\n"
      ],
      "metadata": {
        "id": "bA8KhsAsxZ-k"
      }
    },
    {
      "cell_type": "code",
      "source": [],
      "metadata": {
        "id": "wD_DQMVQxV_Y"
      },
      "execution_count": null,
      "outputs": []
    }
  ]
}