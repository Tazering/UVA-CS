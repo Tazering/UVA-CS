{
  "nbformat": 4,
  "nbformat_minor": 0,
  "metadata": {
    "colab": {
      "provenance": [],
      "collapsed_sections": [
        "scE-fkbJRCPZ"
      ]
    },
    "kernelspec": {
      "name": "python3",
      "display_name": "Python 3"
    },
    "language_info": {
      "name": "python"
    }
  },
  "cells": [
    {
      "cell_type": "markdown",
      "source": [
        "# ***CS 3501: PS2***"
      ],
      "metadata": {
        "id": "JoixuXRtQnAz"
      }
    },
    {
      "cell_type": "markdown",
      "source": [
        "## **1. Maximum Likelihood Estimation (MLE)**"
      ],
      "metadata": {
        "id": "-qE-VKeuQ9hP"
      }
    },
    {
      "cell_type": "markdown",
      "source": [
        "$$p(x;\\lambda) = 2 \\lambda x \\text{exp}(- \\lambda x^2)$$\n"
      ],
      "metadata": {
        "id": "ort4bPDmVbdl"
      }
    },
    {
      "cell_type": "markdown",
      "source": [
        "a)\n",
        "\n",
        "Step 1: Likelihood function for $p(x;\\lambda)$\n",
        "$$L( \\lambda ) = \\Pi(2\\lambda\\text{exp}(-\\lambda x^2))$$\n",
        "\n",
        "Step 2: Handle $\\Pi$\n",
        "$$L( \\lambda) = (2\\lambda)^n \\text{exp}(-\\lambda \\Sigma{x_i^2})$$\n",
        "\n",
        "Step 3: Take the natural log of both sides and simplify\n",
        "$$l(\\lambda) = \\text{ln}((2\\lambda)^n \\text{exp}(-\\lambda \\Sigma{x_i^2}))$$\n",
        "$$l(\\lambda) = \\text{ln}((2\\lambda)^n) + -\\lambda \\Sigma{x_i^2}$$\n",
        "$$l(\\lambda) = n\\text{ln}(2) + n\\text{ln}(\\lambda) - \\lambda \\Sigma{x_i^2}$$\n",
        "\n",
        "Step 4: Calculate the derivative\n",
        "$$\\frac{dl}{d \\lambda} = 0 + \\frac{n}{\\lambda} - \\Sigma{x_i^2}$$\n",
        "$$\\frac{dl}{d \\lambda} = \\frac{n}{\\lambda} - \\Sigma{x_i^2}$$\n",
        "\n",
        "Step 5: Solve when the derivative is equal to $0$\n",
        "$$0 = \\frac{n}{\\lambda} - \\Sigma{x_i^2}$$\n",
        "$$\\Sigma{x_i^2} = \\frac{n}{\\lambda}$$\n",
        "$$\\lambda = \\frac{n}{\\Sigma{x_i^2}}$$\n",
        "\n",
        "Therefore, $\\lambda = \\frac{n}{\\Sigma{x_i^2}}$."
      ],
      "metadata": {
        "id": "hgAEhNE2V0pw"
      }
    },
    {
      "cell_type": "markdown",
      "source": [
        "b)\n"
      ],
      "metadata": {
        "id": "5qgHtUksgGao"
      }
    },
    {
      "cell_type": "code",
      "source": [
        "import pandas as pd\n",
        "import math\n",
        "import numpy as np\n",
        "\n",
        "traffic_dataset = pd.read_csv(\"traffic.csv\")"
      ],
      "metadata": {
        "id": "RByDr0Xngq5u"
      },
      "execution_count": 1,
      "outputs": []
    },
    {
      "cell_type": "code",
      "source": [
        "# calculate lambda with equation\n",
        "def calculate_lambda(data):\n",
        "  n = len(data)\n",
        "  denom = 0\n",
        "\n",
        "  for i in range(n):\n",
        "    x = data.iloc[i]\n",
        "    denom += math.pow(x, 2)\n",
        "\n",
        "  return n / denom\n",
        "\n",
        "lambda_val = calculate_lambda(traffic_dataset)\n",
        "print(\"calculated lambda value is:\", lambda_val)"
      ],
      "metadata": {
        "colab": {
          "base_uri": "https://localhost:8080/"
        },
        "id": "9hdMD0KemQ3m",
        "outputId": "b98e43d2-2081-4629-dc67-7178267535d8"
      },
      "execution_count": 2,
      "outputs": [
        {
          "output_type": "stream",
          "name": "stdout",
          "text": [
            "calculated lambda value is: 1.165649493928878\n"
          ]
        }
      ]
    },
    {
      "cell_type": "markdown",
      "source": [
        "c)"
      ],
      "metadata": {
        "id": "70kKTysqgJ_V"
      }
    },
    {
      "cell_type": "code",
      "source": [
        "import seaborn as sns\n",
        "import matplotlib.pyplot as plt\n",
        "\n",
        "# histogram\n",
        "sns.set_style(\"darkgrid\")\n",
        "\n",
        "sns.histplot(data = traffic_dataset)\n",
        "plt.show()"
      ],
      "metadata": {
        "colab": {
          "base_uri": "https://localhost:8080/",
          "height": 430
        },
        "id": "iAj0CArMpT-l",
        "outputId": "450bf1d0-23a5-4a2f-c629-6d2d430e2e42"
      },
      "execution_count": 3,
      "outputs": [
        {
          "output_type": "display_data",
          "data": {
            "text/plain": [
              "<Figure size 640x480 with 1 Axes>"
            ],
            "image/png": "[encoded data removed]"
          },
          "metadata": {}
        }
      ]
    },
    {
      "cell_type": "code",
      "source": [
        "# plot distribution\n",
        "def create_pdf(lambda_param):\n",
        "  x = np.linspace(0, 3, num = 20, axis = 0)\n",
        "  y = []\n",
        "\n",
        "  calc_prob = lambda p : 2 * lambda_param * p * np.exp(- lambda_param * math.pow(p, 2))\n",
        "\n",
        "  for i in x:\n",
        "    y.append(calc_prob(i))\n",
        "\n",
        "  plt.style.use(\"seaborn\")\n",
        "  plt.plot(x, y, color = \"blue\")\n",
        "  plt.title(\"PDF of Distribution\")\n",
        "\n",
        "# create the pdf\n",
        "create_pdf(lambda_val)"
      ],
      "metadata": {
        "colab": {
          "base_uri": "https://localhost:8080/",
          "height": 559
        },
        "id": "cwRa4hlkrDL0",
        "outputId": "e864d826-6a65-4ecd-8818-3ab218f7c611"
      },
      "execution_count": 4,
      "outputs": [
        {
          "output_type": "stream",
          "name": "stderr",
          "text": [
            "<ipython-input-4-b26e3cb69bcc>:11: MatplotlibDeprecationWarning: The seaborn styles shipped by Matplotlib are deprecated since 3.6, as they no longer correspond to the styles shipped by seaborn. However, they will remain available as 'seaborn-v0_8-<style>'. Alternatively, directly use the seaborn API instead.\n",
            "  plt.style.use(\"seaborn\")\n"
          ]
        },
        {
          "output_type": "display_data",
          "data": {
            "text/plain": [
              "<Figure size 800x550 with 1 Axes>"
            ],
            "image/png": "[encoded data removed]"
          },
          "metadata": {}
        }
      ]
    },
    {
      "cell_type": "markdown",
      "source": [
        "I found that both the histogram and the pdf of the distribution with the calculated $\\lambda$ yield similar looking distributions. Both appear as a severely right-skewed gaussian distribution."
      ],
      "metadata": {
        "id": "ofpK0DUgtqIz"
      }
    },
    {
      "cell_type": "markdown",
      "source": [
        "## **2. Hypothesis Testing**"
      ],
      "metadata": {
        "id": "scE-fkbJRCPZ"
      }
    },
    {
      "cell_type": "code",
      "source": [],
      "metadata": {
        "id": "jbniP370RHIl"
      },
      "execution_count": 4,
      "outputs": []
    },
    {
      "cell_type": "markdown",
      "source": [
        "## **3. K-means**"
      ],
      "metadata": {
        "id": "WMjyutNQRHpa"
      }
    },
    {
      "cell_type": "code",
      "source": [
        "# load the 2D txt file\n",
        "dataset_2d_location = \"./2D_data.txt\"\n",
        "\n",
        "dataset_2d = pd.read_csv(dataset_2d_location, header = None, sep = \"  \")\n",
        "\n",
        "dataset_2d.head()"
      ],
      "metadata": {
        "id": "ynh1kBZbRLRt",
        "colab": {
          "base_uri": "https://localhost:8080/",
          "height": 261
        },
        "outputId": "249b29e2-8192-4457-d2b7-8d8d2e7654a6"
      },
      "execution_count": 44,
      "outputs": [
        {
          "output_type": "stream",
          "name": "stderr",
          "text": [
            "<ipython-input-44-52da7d051559>:4: ParserWarning: Falling back to the 'python' engine because the 'c' engine does not support regex separators (separators > 1 char and different from '\\s+' are interpreted as regex); you can avoid this warning by specifying engine='python'.\n",
            "  dataset_2d = pd.read_csv(dataset_2d_location, header = None, sep = \"  \")\n"
          ]
        },
        {
          "output_type": "execute_result",
          "data": {
            "text/plain": [
              "          0         1\n",
              "0  1.043663  1.483404\n",
              "1  1.734390  3.182709\n",
              "2  1.202952  1.305265\n",
              "3  3.352556  3.309276\n",
              "4  1.025740  2.248754"
            ],
            "text/html": [
              "\n",
              "  <div id=\"df-960a8853-cffc-4750-8e12-03423685ac5a\" class=\"colab-df-container\">\n",
              "    <div>\n",
              "<style scoped>\n",
              "    .dataframe tbody tr th:only-of-type {\n",
              "        vertical-align: middle;\n",
              "    }\n",
              "\n",
              "    .dataframe tbody tr th {\n",
              "        vertical-align: top;\n",
              "    }\n",
              "\n",
              "    .dataframe thead th {\n",
              "        text-align: right;\n",
              "    }\n",
              "</style>\n",
              "<table border=\"1\" class=\"dataframe\">\n",
              "  <thead>\n",
              "    <tr style=\"text-align: right;\">\n",
              "      <th></th>\n",
              "      <th>0</th>\n",
              "      <th>1</th>\n",
              "    </tr>\n",
              "  </thead>\n",
              "  <tbody>\n",
              "    <tr>\n",
              "      <th>0</th>\n",
              "      <td>1.043663</td>\n",
              "      <td>1.483404</td>\n",
              "    </tr>\n",
              "    <tr>\n",
              "      <th>1</th>\n",
              "      <td>1.734390</td>\n",
              "      <td>3.182709</td>\n",
              "    </tr>\n",
              "    <tr>\n",
              "      <th>2</th>\n",
              "      <td>1.202952</td>\n",
              "      <td>1.305265</td>\n",
              "    </tr>\n",
              "    <tr>\n",
              "      <th>3</th>\n",
              "      <td>3.352556</td>\n",
              "      <td>3.309276</td>\n",
              "    </tr>\n",
              "    <tr>\n",
              "      <th>4</th>\n",
              "      <td>1.025740</td>\n",
              "      <td>2.248754</td>\n",
              "    </tr>\n",
              "  </tbody>\n",
              "</table>\n",
              "</div>\n",
              "    <div class=\"colab-df-buttons\">\n",
              "\n",
              "  <div class=\"colab-df-container\">\n",
              "    <button class=\"colab-df-convert\" onclick=\"convertToInteractive('df-960a8853-cffc-4750-8e12-03423685ac5a')\"\n",
              "            title=\"Convert this dataframe to an interactive table.\"\n",
              "            style=\"display:none;\">\n",
              "\n",
              "  <svg xmlns=\"http://www.w3.org/2000/svg\" height=\"24px\" viewBox=\"0 -960 960 960\">\n",
              "    <path d=\"M120-120v-720h720v720H120Zm60-500h600v-160H180v160Zm220 220h160v-160H400v160Zm0 220h160v-160H400v160ZM180-400h160v-160H180v160Zm440 0h160v-160H620v160ZM180-180h160v-160H180v160Zm440 0h160v-160H620v160Z\"/>\n",
              "  </svg>\n",
              "    </button>\n",
              "\n",
              "  <style>\n",
              "    .colab-df-container {\n",
              "      display:flex;\n",
              "      gap: 12px;\n",
              "    }\n",
              "\n",
              "    .colab-df-convert {\n",
              "      background-color: #E8F0FE;\n",
              "      border: none;\n",
              "      border-radius: 50%;\n",
              "      cursor: pointer;\n",
              "      display: none;\n",
              "      fill: #1967D2;\n",
              "      height: 32px;\n",
              "      padding: 0 0 0 0;\n",
              "      width: 32px;\n",
              "    }\n",
              "\n",
              "    .colab-df-convert:hover {\n",
              "      background-color: #E2EBFA;\n",
              "      box-shadow: 0px 1px 2px rgba(60, 64, 67, 0.3), 0px 1px 3px 1px rgba(60, 64, 67, 0.15);\n",
              "      fill: #174EA6;\n",
              "    }\n",
              "\n",
              "    .colab-df-buttons div {\n",
              "      margin-bottom: 4px;\n",
              "    }\n",
              "\n",
              "    [theme=dark] .colab-df-convert {\n",
              "      background-color: #3B4455;\n",
              "      fill: #D2E3FC;\n",
              "    }\n",
              "\n",
              "    [theme=dark] .colab-df-convert:hover {\n",
              "      background-color: #434B5C;\n",
              "      box-shadow: 0px 1px 3px 1px rgba(0, 0, 0, 0.15);\n",
              "      filter: drop-shadow(0px 1px 2px rgba(0, 0, 0, 0.3));\n",
              "      fill: #FFFFFF;\n",
              "    }\n",
              "  </style>\n",
              "\n",
              "    <script>\n",
              "      const buttonEl =\n",
              "        document.querySelector('#df-960a8853-cffc-4750-8e12-03423685ac5a button.colab-df-convert');\n",
              "      buttonEl.style.display =\n",
              "        google.colab.kernel.accessAllowed ? 'block' : 'none';\n",
              "\n",
              "      async function convertToInteractive(key) {\n",
              "        const element = document.querySelector('#df-960a8853-cffc-4750-8e12-03423685ac5a');\n",
              "        const dataTable =\n",
              "          await google.colab.kernel.invokeFunction('convertToInteractive',\n",
              "                                                    [key], {});\n",
              "        if (!dataTable) return;\n",
              "\n",
              "        const docLinkHtml = 'Like what you see? Visit the ' +\n",
              "          '<a target=\"_blank\" href=https://colab.research.google.com/notebooks/data_table.ipynb>data table notebook</a>'\n",
              "          + ' to learn more about interactive tables.';\n",
              "        element.innerHTML = '';\n",
              "        dataTable['output_type'] = 'display_data';\n",
              "        await google.colab.output.renderOutput(dataTable, element);\n",
              "        const docLink = document.createElement('div');\n",
              "        docLink.innerHTML = docLinkHtml;\n",
              "        element.appendChild(docLink);\n",
              "      }\n",
              "    </script>\n",
              "  </div>\n",
              "\n",
              "\n",
              "<div id=\"df-1bd2d655-f6fd-4390-9fb0-c7e7e3f60412\">\n",
              "  <button class=\"colab-df-quickchart\" onclick=\"quickchart('df-1bd2d655-f6fd-4390-9fb0-c7e7e3f60412')\"\n",
              "            title=\"Suggest charts\"\n",
              "            style=\"display:none;\">\n",
              "\n",
              "<svg xmlns=\"http://www.w3.org/2000/svg\" height=\"24px\"viewBox=\"0 0 24 24\"\n",
              "     width=\"24px\">\n",
              "    <g>\n",
              "        <path d=\"M19 3H5c-1.1 0-2 .9-2 2v14c0 1.1.9 2 2 2h14c1.1 0 2-.9 2-2V5c0-1.1-.9-2-2-2zM9 17H7v-7h2v7zm4 0h-2V7h2v10zm4 0h-2v-4h2v4z\"/>\n",
              "    </g>\n",
              "</svg>\n",
              "  </button>\n",
              "\n",
              "<style>\n",
              "  .colab-df-quickchart {\n",
              "      --bg-color: #E8F0FE;\n",
              "      --fill-color: #1967D2;\n",
              "      --hover-bg-color: #E2EBFA;\n",
              "      --hover-fill-color: #174EA6;\n",
              "      --disabled-fill-color: #AAA;\n",
              "      --disabled-bg-color: #DDD;\n",
              "  }\n",
              "\n",
              "  [theme=dark] .colab-df-quickchart {\n",
              "      --bg-color: #3B4455;\n",
              "      --fill-color: #D2E3FC;\n",
              "      --hover-bg-color: #434B5C;\n",
              "      --hover-fill-color: #FFFFFF;\n",
              "      --disabled-bg-color: #3B4455;\n",
              "      --disabled-fill-color: #666;\n",
              "  }\n",
              "\n",
              "  .colab-df-quickchart {\n",
              "    background-color: var(--bg-color);\n",
              "    border: none;\n",
              "    border-radius: 50%;\n",
              "    cursor: pointer;\n",
              "    display: none;\n",
              "    fill: var(--fill-color);\n",
              "    height: 32px;\n",
              "    padding: 0;\n",
              "    width: 32px;\n",
              "  }\n",
              "\n",
              "  .colab-df-quickchart:hover {\n",
              "    background-color: var(--hover-bg-color);\n",
              "    box-shadow: 0 1px 2px rgba(60, 64, 67, 0.3), 0 1px 3px 1px rgba(60, 64, 67, 0.15);\n",
              "    fill: var(--button-hover-fill-color);\n",
              "  }\n",
              "\n",
              "  .colab-df-quickchart-complete:disabled,\n",
              "  .colab-df-quickchart-complete:disabled:hover {\n",
              "    background-color: var(--disabled-bg-color);\n",
              "    fill: var(--disabled-fill-color);\n",
              "    box-shadow: none;\n",
              "  }\n",
              "\n",
              "  .colab-df-spinner {\n",
              "    border: 2px solid var(--fill-color);\n",
              "    border-color: transparent;\n",
              "    border-bottom-color: var(--fill-color);\n",
              "    animation:\n",
              "      spin 1s steps(1) infinite;\n",
              "  }\n",
              "\n",
              "  @keyframes spin {\n",
              "    0% {\n",
              "      border-color: transparent;\n",
              "      border-bottom-color: var(--fill-color);\n",
              "      border-left-color: var(--fill-color);\n",
              "    }\n",
              "    20% {\n",
              "      border-color: transparent;\n",
              "      border-left-color: var(--fill-color);\n",
              "      border-top-color: var(--fill-color);\n",
              "    }\n",
              "    30% {\n",
              "      border-color: transparent;\n",
              "      border-left-color: var(--fill-color);\n",
              "      border-top-color: var(--fill-color);\n",
              "      border-right-color: var(--fill-color);\n",
              "    }\n",
              "    40% {\n",
              "      border-color: transparent;\n",
              "      border-right-color: var(--fill-color);\n",
              "      border-top-color: var(--fill-color);\n",
              "    }\n",
              "    60% {\n",
              "      border-color: transparent;\n",
              "      border-right-color: var(--fill-color);\n",
              "    }\n",
              "    80% {\n",
              "      border-color: transparent;\n",
              "      border-right-color: var(--fill-color);\n",
              "      border-bottom-color: var(--fill-color);\n",
              "    }\n",
              "    90% {\n",
              "      border-color: transparent;\n",
              "      border-bottom-color: var(--fill-color);\n",
              "    }\n",
              "  }\n",
              "</style>\n",
              "\n",
              "  <script>\n",
              "    async function quickchart(key) {\n",
              "      const quickchartButtonEl =\n",
              "        document.querySelector('#' + key + ' button');\n",
              "      quickchartButtonEl.disabled = true;  // To prevent multiple clicks.\n",
              "      quickchartButtonEl.classList.add('colab-df-spinner');\n",
              "      try {\n",
              "        const charts = await google.colab.kernel.invokeFunction(\n",
              "            'suggestCharts', [key], {});\n",
              "      } catch (error) {\n",
              "        console.error('Error during call to suggestCharts:', error);\n",
              "      }\n",
              "      quickchartButtonEl.classList.remove('colab-df-spinner');\n",
              "      quickchartButtonEl.classList.add('colab-df-quickchart-complete');\n",
              "    }\n",
              "    (() => {\n",
              "      let quickchartButtonEl =\n",
              "        document.querySelector('#df-1bd2d655-f6fd-4390-9fb0-c7e7e3f60412 button');\n",
              "      quickchartButtonEl.style.display =\n",
              "        google.colab.kernel.accessAllowed ? 'block' : 'none';\n",
              "    })();\n",
              "  </script>\n",
              "</div>\n",
              "\n",
              "    </div>\n",
              "  </div>\n"
            ],
            "application/vnd.google.colaboratory.intrinsic+json": {
              "type": "dataframe",
              "variable_name": "dataset_2d",
              "summary": "{\n  \"name\": \"dataset_2d\",\n  \"rows\": 100,\n  \"fields\": [\n    {\n      \"column\": 0,\n      \"properties\": {\n        \"dtype\": \"number\",\n        \"std\": 1.3187016536771992,\n        \"min\": -2.0437064,\n        \"max\": 3.3525562,\n        \"num_unique_values\": 100,\n        \"samples\": [\n          0.69016886,\n          -0.49729796,\n          0.54866407\n        ],\n        \"semantic_type\": \"\",\n        \"description\": \"\"\n      }\n    },\n    {\n      \"column\": 1,\n      \"properties\": {\n        \"dtype\": \"number\",\n        \"std\": 1.5500437725615137,\n        \"min\": -2.4835737,\n        \"max\": 3.309276,\n        \"num_unique_values\": 100,\n        \"samples\": [\n          -1.0324712,\n          -1.8715819,\n          -0.97654292\n        ],\n        \"semantic_type\": \"\",\n        \"description\": \"\"\n      }\n    }\n  ]\n}"
            }
          },
          "metadata": {},
          "execution_count": 44
        }
      ]
    },
    {
      "cell_type": "code",
      "source": [
        "# dataset_2d = dataset_2d.dropna() # drops the weird nan values\n",
        "print(dataset_2d.shape)\n",
        "print(dataset_2d)"
      ],
      "metadata": {
        "colab": {
          "base_uri": "https://localhost:8080/"
        },
        "id": "5zx4hYO3wnNp",
        "outputId": "aecd283e-e798-48e5-87d8-3a455bfaaa17"
      },
      "execution_count": 85,
      "outputs": [
        {
          "output_type": "stream",
          "name": "stdout",
          "text": [
            "(100, 2)\n",
            "           0         1\n",
            "0   1.043663  1.483404\n",
            "1   1.734390  3.182709\n",
            "2   1.202952  1.305265\n",
            "3   3.352556  3.309276\n",
            "4   1.025740  2.248754\n",
            "..       ...       ...\n",
            "95  0.303323 -0.098668\n",
            "96  1.419543 -0.769057\n",
            "97  0.647652 -0.493660\n",
            "98  1.275093 -1.807427\n",
            "99  1.839627 -0.795114\n",
            "\n",
            "[100 rows x 2 columns]\n"
          ]
        }
      ]
    },
    {
      "cell_type": "code",
      "source": [
        "# plot the data unclustered\n",
        "sns.scatterplot(data = dataset_2d, x = dataset_2d.loc[:, 0], y = dataset_2d.loc[:, 1])"
      ],
      "metadata": {
        "colab": {
          "base_uri": "https://localhost:8080/",
          "height": 520
        },
        "id": "xU5NVLjNwMCC",
        "outputId": "f20ab3b8-39ce-490d-e8b5-14af853f9527"
      },
      "execution_count": 86,
      "outputs": [
        {
          "output_type": "execute_result",
          "data": {
            "text/plain": [
              "<Axes: xlabel='0', ylabel='1'>"
            ]
          },
          "metadata": {},
          "execution_count": 86
        },
        {
          "output_type": "display_data",
          "data": {
            "text/plain": [
              "<Figure size 800x550 with 1 Axes>"
            ],
            "image/png": "[encoded data removed]"
          },
          "metadata": {}
        }
      ]
    },
    {
      "cell_type": "code",
      "source": [
        "print(dataset_2d.head())"
      ],
      "metadata": {
        "colab": {
          "base_uri": "https://localhost:8080/"
        },
        "id": "er6yVciM6ulq",
        "outputId": "fb79d14a-1c44-486f-d238-d635ed80fa5f"
      },
      "execution_count": 87,
      "outputs": [
        {
          "output_type": "stream",
          "name": "stdout",
          "text": [
            "          0         1\n",
            "0  1.043663  1.483404\n",
            "1  1.734390  3.182709\n",
            "2  1.202952  1.305265\n",
            "3  3.352556  3.309276\n",
            "4  1.025740  2.248754\n"
          ]
        }
      ]
    },
    {
      "cell_type": "code",
      "source": [
        "import random\n",
        "\n",
        "# randomly initialize points and set their centroid to -1 (does not exist)\n",
        "def initialize_points(data, k, seed = 17):\n",
        "  length = data.shape[0]\n",
        "  random.seed = seed\n",
        "  coord_dim = len(data.iloc[0])\n",
        "\n",
        "  centroid = [0] * coord_dim # one single centroid\n",
        "  centroids_list = [] # has list of centroids\n",
        "\n",
        "  for i in range(k): # get k centroids\n",
        "    rand_index = random.randrange(length) # calculate a random index\n",
        "    datapoint = data.iloc[rand_index] # gets the datapoint\n",
        "\n",
        "    for j in range(coord_dim):\n",
        "      centroid[j] = float(datapoint[j])\n",
        "\n",
        "    # centroid[0] = float(datapoint[0])\n",
        "    # centroid[1] = float(datapoint[1])\n",
        "\n",
        "    centroids_list.append(centroid.copy()) # append to list\n",
        "\n",
        "    if centroids_list[i] == centroids_list[i - 1] and i > 0: # if we get the same init points\n",
        "      i -= 1\n",
        "      centroids_list.pop()\n",
        "      rand_index = random.randrange(length)\n",
        "      continue\n",
        "\n",
        "\n",
        "  # convert the dataset into an array of tuples where the first value of the\n",
        "  # tuple refers to the closest centroid and the second is the coordinate of the\n",
        "  # datapoint\n",
        "\n",
        "  datapoints_list = [] # declare new datapoint\n",
        "\n",
        "  for i in range(length): # loops through all the values in the dataset\n",
        "    datapoint = data.iloc[i] # fetch the dataset\n",
        "    coord = [float(datapoint[0]), float(datapoint[1])] # grab the coordinates\n",
        "    datapoints_list.append((-1, coord)) # append to list\n",
        "\n",
        "  return datapoints_list, centroids_list\n",
        "\n",
        "dl, cl = initialize_points(dataset_2d, 2)\n",
        "print(len(dl))\n",
        "print(cl)"
      ],
      "metadata": {
        "id": "ClFA4vbJxMTr",
        "colab": {
          "base_uri": "https://localhost:8080/"
        },
        "outputId": "5b02c7b5-c2ea-4251-a807-d695dd346b6f"
      },
      "execution_count": 89,
      "outputs": [
        {
          "output_type": "stream",
          "name": "stdout",
          "text": [
            "100\n",
            "[[-1.6796125, -1.9656696], [2.0879727, 1.9928549]]\n"
          ]
        }
      ]
    },
    {
      "cell_type": "code",
      "source": [
        "# calculate euclidean distance between two equal sized arrays\n",
        "def calculate_euclidean_distance(datapoint_1, datapoint_2):\n",
        "  summation = 0\n",
        "  n = len(datapoint_1)\n",
        "\n",
        "  for i in range(n): # calculate sum of the squares of the difference\n",
        "    diff = datapoint_1[i] - datapoint_2[i]\n",
        "    summation += math.pow(diff, 2)\n",
        "\n",
        "  return math.sqrt(summation)"
      ],
      "metadata": {
        "id": "6538Ei6F9yUA"
      },
      "execution_count": 90,
      "outputs": []
    },
    {
      "cell_type": "code",
      "source": [
        "import sys\n",
        "\n",
        "# gets the closest centroid for one datapoint\n",
        "def closest_centroid_to_datapoint(datapoint, centroids_list):\n",
        "  k_length = len(centroids_list)\n",
        "  centroid_changed = False\n",
        "\n",
        "  current_centroid = datapoint[0]\n",
        "  closest_centroid = -1\n",
        "  smallest_distance = sys.float_info.max\n",
        "\n",
        "  for i in range(k_length):\n",
        "    distance = calculate_euclidean_distance(datapoint[1], centroids_list[i])\n",
        "\n",
        "    if distance < smallest_distance: # updates the distance\n",
        "      smallest_distance = distance\n",
        "      closest_centroid = i\n",
        "\n",
        "  if closest_centroid != current_centroid: # check if there are any updates\n",
        "    centroid_changed = True\n",
        "\n",
        "\n",
        "  return (closest_centroid, datapoint[1]), centroid_changed"
      ],
      "metadata": {
        "id": "iQAC1AmkRfx_"
      },
      "execution_count": 91,
      "outputs": []
    },
    {
      "cell_type": "code",
      "source": [
        "# updates datapoint list with closest centroid\n",
        "def assign_centroids(datapoints_list, centroids_list):\n",
        "  n = len(datapoints_list) # the number of datapoints\n",
        "\n",
        "  for i in range(n):\n",
        "    datapoints_list[i], hasChanged = closest_centroid_to_datapoint(datapoints_list[i], centroids_list)\n",
        "\n",
        "  return datapoints_list, hasChanged"
      ],
      "metadata": {
        "id": "OFpRs2XBYr1q"
      },
      "execution_count": 92,
      "outputs": []
    },
    {
      "cell_type": "code",
      "source": [
        "# gets average coordinates\n",
        "def calculate_average(datapoints_list, centroid_id):\n",
        "  coordinate_dim = len(datapoints_list[1])\n",
        "  mean = [0] * coordinate_dim\n",
        "  size = 0\n",
        "\n",
        "  for datapoint in datapoints_list: # for each datapoint\n",
        "    coordinates = datapoint[1]\n",
        "\n",
        "    if datapoint[0] == centroid_id: # check cluster assignment\n",
        "      size += 1\n",
        "\n",
        "      for i in range(coordinate_dim): # coordinate value summation\n",
        "        mean[i] += coordinates[i]\n",
        "\n",
        "  for i in range(coordinate_dim): # dividing the summation by the size\n",
        "    mean[i] /= size\n",
        "\n",
        "  return mean\n",
        "\n"
      ],
      "metadata": {
        "colab": {
          "base_uri": "https://localhost:8080/"
        },
        "id": "YldRMRyoZrbF",
        "outputId": "0d007579-b2b2-4ee2-e687-494ff6fefda8"
      },
      "execution_count": 95,
      "outputs": [
        {
          "output_type": "stream",
          "name": "stdout",
          "text": [
            "[0.8536571010857142, -1.06178375]\n"
          ]
        }
      ]
    },
    {
      "cell_type": "code",
      "source": [
        "# updates the centroids\n",
        "def update_centroids(datapoints_list, centroids_list):\n",
        "  k_size = len(centroids_list) # number of centroids\n",
        "\n",
        "  for i in range(k_size):\n",
        "    centroids_list[i] = calculate_average(datapoints_list, i)\n",
        "\n",
        "  return centroids_list"
      ],
      "metadata": {
        "id": "o4IprBeMlSdD"
      },
      "execution_count": 96,
      "outputs": []
    },
    {
      "cell_type": "code",
      "source": [
        "# actually run k-means clustering\n",
        "def k_means(data, k, iteration_limit = 10, seed  = 17):\n",
        "\n",
        "  # randomly initialize\n",
        "  datapoints_list, centroids = initialize_points(data, k, seed)\n",
        "\n",
        "  # some temporary variables\n",
        "  centroid_changed = True\n",
        "  iteration = 0\n",
        "\n",
        "  # keep looping until no centroid has changed OR we hit the iteration limit\n",
        "  while(centroid_changed and iteration < iteration_limit):\n",
        "    datapoints_list, centroid_changed = assign_centroids(datapoints_list, centroids) # assign the points\n",
        "    centroids = update_centroids(datapoints_list, centroids) # update the centroids\n",
        "\n",
        "  return datapoints_list, centroids"
      ],
      "metadata": {
        "id": "ZCnyV9KeeezS"
      },
      "execution_count": 101,
      "outputs": []
    },
    {
      "cell_type": "code",
      "source": [
        "# plot the clustered data\n",
        "def plot_clustered_data(datapoints_list):\n",
        "  x_coord = []\n",
        "  y_coord = []"
      ],
      "metadata": {
        "id": "B-x4Naodm40Q"
      },
      "execution_count": null,
      "outputs": []
    },
    {
      "cell_type": "code",
      "source": [
        "# for k = 2\n",
        "clustered_data_k2, centroids_k2 = k_means(data = dataset_2d, k = 2, iteration_limit = 10, seed = 17)"
      ],
      "metadata": {
        "id": "dP17qxPCmakm"
      },
      "execution_count": 102,
      "outputs": []
    },
    {
      "cell_type": "markdown",
      "source": [
        "## **Bonus Points**"
      ],
      "metadata": {
        "id": "BYakmZ6LRLqU"
      }
    },
    {
      "cell_type": "code",
      "source": [],
      "metadata": {
        "id": "t2mXq3H3RNdL"
      },
      "execution_count": null,
      "outputs": []
    },
    {
      "cell_type": "markdown",
      "source": [
        "## **References**\n",
        "\n",
        "### **Documentation**\n",
        "\n",
        "https://seaborn.pydata.org/\n",
        "\n",
        "https://docs.python.org/3/\n",
        "\n",
        "\n",
        "### **Forum Posts**\n",
        "\n",
        "### **Websites**\n",
        "\n",
        "https://www.tutorialspoint.com/what-are-the-different-figure-styles-in-seaborn\n",
        "\n",
        "https://www.geeksforgeeks.org/how-to-read-text-files-with-pandas/\n",
        "\n",
        "https://note.nkmk.me/en/python-sys-float-info-max-min/\n",
        "\n",
        "https://www.geeksforgeeks.org/remove-last-element-from-list-in-python/\n",
        "\n",
        "\n",
        "\n"
      ],
      "metadata": {
        "id": "BvH-7wM8oNF6"
      }
    },
    {
      "cell_type": "code",
      "source": [],
      "metadata": {
        "id": "8zaNIus2yMu5"
      },
      "execution_count": null,
      "outputs": []
    }
  ]
}