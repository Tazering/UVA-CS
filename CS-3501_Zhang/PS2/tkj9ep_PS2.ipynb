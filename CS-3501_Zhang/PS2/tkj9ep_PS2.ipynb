{
  "nbformat": 4,
  "nbformat_minor": 0,
  "metadata": {
    "colab": {
      "provenance": [],
      "collapsed_sections": [
        "scE-fkbJRCPZ",
        "WMjyutNQRHpa",
        "BYakmZ6LRLqU"
      ]
    },
    "kernelspec": {
      "name": "python3",
      "display_name": "Python 3"
    },
    "language_info": {
      "name": "python"
    }
  },
  "cells": [
    {
      "cell_type": "markdown",
      "source": [
        "# ***CS 3501: PS2***"
      ],
      "metadata": {
        "id": "JoixuXRtQnAz"
      }
    },
    {
      "cell_type": "markdown",
      "source": [
        "## **1. Maximum Likelihood Estimation (MLE)**"
      ],
      "metadata": {
        "id": "-qE-VKeuQ9hP"
      }
    },
    {
      "cell_type": "markdown",
      "source": [
        "$$p(x;\\lambda) = 2 \\lambda x \\text{exp}(- \\lambda x^2)$$\n"
      ],
      "metadata": {
        "id": "ort4bPDmVbdl"
      }
    },
    {
      "cell_type": "markdown",
      "source": [
        "a)\n",
        "\n",
        "Step 1: Likelihood function for $p(x;\\lambda)$\n",
        "$$L( \\lambda ) = \\Pi(2\\lambda\\text{exp}(-\\lambda x^2))$$\n",
        "\n",
        "Step 2: Handle $\\Pi$\n",
        "$$L( \\lambda) = (2\\lambda)^n \\text{exp}(-\\lambda \\Sigma{x_i^2})$$\n",
        "\n",
        "Step 3: Take the natural log of both sides and simplify\n",
        "$$l(\\lambda) = \\text{ln}((2\\lambda)^n \\text{exp}(-\\lambda \\Sigma{x_i^2}))$$\n",
        "$$l(\\lambda) = \\text{ln}((2\\lambda)^n) + -\\lambda \\Sigma{x_i^2}$$\n",
        "$$l(\\lambda) = n\\text{ln}(2) + n\\text{ln}(\\lambda) - \\lambda \\Sigma{x_i^2}$$\n",
        "\n",
        "Step 4: Calculate the derivative\n",
        "$$\\frac{dl}{d \\lambda} = 0 + \\frac{n}{\\lambda} - \\Sigma{x_i^2}$$\n",
        "$$\\frac{dl}{d \\lambda} = \\frac{n}{\\lambda} - \\Sigma{x_i^2}$$\n",
        "\n",
        "Step 5: Solve when the derivative is equal to $0$\n",
        "$$0 = \\frac{n}{\\lambda} - \\Sigma{x_i^2}$$\n",
        "$$\\Sigma{x_i^2} = \\frac{n}{\\lambda}$$\n",
        "$$\\lambda = \\frac{n}{\\Sigma{x_i^2}}$$\n",
        "\n",
        "Therefore, $\\lambda = \\frac{n}{\\Sigma{x_i^2}}$."
      ],
      "metadata": {
        "id": "hgAEhNE2V0pw"
      }
    },
    {
      "cell_type": "markdown",
      "source": [
        "b)\n"
      ],
      "metadata": {
        "id": "5qgHtUksgGao"
      }
    },
    {
      "cell_type": "code",
      "source": [
        "import pandas as pd\n",
        "\n",
        "traffic_dataset = pd.read_csv(\"traffic.csv\")"
      ],
      "metadata": {
        "id": "RByDr0Xngq5u"
      },
      "execution_count": 1,
      "outputs": []
    },
    {
      "cell_type": "markdown",
      "source": [
        "c)"
      ],
      "metadata": {
        "id": "70kKTysqgJ_V"
      }
    },
    {
      "cell_type": "markdown",
      "source": [
        "## **2. Hypothesis Testing**"
      ],
      "metadata": {
        "id": "scE-fkbJRCPZ"
      }
    },
    {
      "cell_type": "code",
      "source": [],
      "metadata": {
        "id": "jbniP370RHIl"
      },
      "execution_count": null,
      "outputs": []
    },
    {
      "cell_type": "markdown",
      "source": [
        "## **3. K-means**"
      ],
      "metadata": {
        "id": "WMjyutNQRHpa"
      }
    },
    {
      "cell_type": "code",
      "source": [],
      "metadata": {
        "id": "ynh1kBZbRLRt"
      },
      "execution_count": null,
      "outputs": []
    },
    {
      "cell_type": "markdown",
      "source": [
        "## **Bonus Points**"
      ],
      "metadata": {
        "id": "BYakmZ6LRLqU"
      }
    },
    {
      "cell_type": "code",
      "source": [],
      "metadata": {
        "id": "t2mXq3H3RNdL"
      },
      "execution_count": null,
      "outputs": []
    }
  ]
}