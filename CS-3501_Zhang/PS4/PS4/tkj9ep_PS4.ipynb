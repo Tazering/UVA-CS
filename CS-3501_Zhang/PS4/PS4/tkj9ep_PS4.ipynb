{
  "nbformat": 4,
  "nbformat_minor": 0,
  "metadata": {
    "colab": {
      "provenance": []
    },
    "kernelspec": {
      "name": "python3",
      "display_name": "Python 3"
    },
    "language_info": {
      "name": "python"
    }
  },
  "cells": [
    {
      "cell_type": "markdown",
      "source": [
        "# ***PS4***"
      ],
      "metadata": {
        "id": "VuxJmntVVfJL"
      }
    },
    {
      "cell_type": "markdown",
      "source": [
        "## **Question 1**"
      ],
      "metadata": {
        "id": "xPyLXreXVjjO"
      }
    },
    {
      "cell_type": "code",
      "execution_count": 1,
      "metadata": {
        "colab": {
          "base_uri": "https://localhost:8080/",
          "height": 236
        },
        "id": "lTO7L1Z4VZat",
        "outputId": "a8431e29-aa68-459f-bc7a-474b710a97ec"
      },
      "outputs": [
        {
          "output_type": "execute_result",
          "data": {
            "text/plain": [
              "   0    1    2    3    4    5    6    7    8    9    ...  134  135  136  137  \\\n",
              "0  296  509  305  481  329  465  350  443  365  417  ...  136  369  141  407   \n",
              "1  284  511  299  488  321  471  335  449  348  426  ...  127  369  131  406   \n",
              "2  293  510  310  490  328  472  340  450  352  427  ...  126  375  130  410   \n",
              "3  310  506  323  483  345  466  359  443  372  419  ...  143  375  148  411   \n",
              "4  334  509  351  490  369  472  381  449  392  427  ...  160  377  165  412   \n",
              "\n",
              "   138  139  140  141  142  143  \n",
              "0  152  442  153  477  142  511  \n",
              "1  140  442  141  477  126  510  \n",
              "2  137  444  145  476  133  507  \n",
              "3  158  445  165  479  156  511  \n",
              "4  174  444  185  476  181  509  \n",
              "\n",
              "[5 rows x 144 columns]"
            ],
            "text/html": [
              "\n",
              "  <div id=\"df-1d3d560a-948e-4484-8459-ba2b3892dae3\" class=\"colab-df-container\">\n",
              "    <div>\n",
              "<style scoped>\n",
              "    .dataframe tbody tr th:only-of-type {\n",
              "        vertical-align: middle;\n",
              "    }\n",
              "\n",
              "    .dataframe tbody tr th {\n",
              "        vertical-align: top;\n",
              "    }\n",
              "\n",
              "    .dataframe thead th {\n",
              "        text-align: right;\n",
              "    }\n",
              "</style>\n",
              "<table border=\"1\" class=\"dataframe\">\n",
              "  <thead>\n",
              "    <tr style=\"text-align: right;\">\n",
              "      <th></th>\n",
              "      <th>0</th>\n",
              "      <th>1</th>\n",
              "      <th>2</th>\n",
              "      <th>3</th>\n",
              "      <th>4</th>\n",
              "      <th>5</th>\n",
              "      <th>6</th>\n",
              "      <th>7</th>\n",
              "      <th>8</th>\n",
              "      <th>9</th>\n",
              "      <th>...</th>\n",
              "      <th>134</th>\n",
              "      <th>135</th>\n",
              "      <th>136</th>\n",
              "      <th>137</th>\n",
              "      <th>138</th>\n",
              "      <th>139</th>\n",
              "      <th>140</th>\n",
              "      <th>141</th>\n",
              "      <th>142</th>\n",
              "      <th>143</th>\n",
              "    </tr>\n",
              "  </thead>\n",
              "  <tbody>\n",
              "    <tr>\n",
              "      <th>0</th>\n",
              "      <td>296</td>\n",
              "      <td>509</td>\n",
              "      <td>305</td>\n",
              "      <td>481</td>\n",
              "      <td>329</td>\n",
              "      <td>465</td>\n",
              "      <td>350</td>\n",
              "      <td>443</td>\n",
              "      <td>365</td>\n",
              "      <td>417</td>\n",
              "      <td>...</td>\n",
              "      <td>136</td>\n",
              "      <td>369</td>\n",
              "      <td>141</td>\n",
              "      <td>407</td>\n",
              "      <td>152</td>\n",
              "      <td>442</td>\n",
              "      <td>153</td>\n",
              "      <td>477</td>\n",
              "      <td>142</td>\n",
              "      <td>511</td>\n",
              "    </tr>\n",
              "    <tr>\n",
              "      <th>1</th>\n",
              "      <td>284</td>\n",
              "      <td>511</td>\n",
              "      <td>299</td>\n",
              "      <td>488</td>\n",
              "      <td>321</td>\n",
              "      <td>471</td>\n",
              "      <td>335</td>\n",
              "      <td>449</td>\n",
              "      <td>348</td>\n",
              "      <td>426</td>\n",
              "      <td>...</td>\n",
              "      <td>127</td>\n",
              "      <td>369</td>\n",
              "      <td>131</td>\n",
              "      <td>406</td>\n",
              "      <td>140</td>\n",
              "      <td>442</td>\n",
              "      <td>141</td>\n",
              "      <td>477</td>\n",
              "      <td>126</td>\n",
              "      <td>510</td>\n",
              "    </tr>\n",
              "    <tr>\n",
              "      <th>2</th>\n",
              "      <td>293</td>\n",
              "      <td>510</td>\n",
              "      <td>310</td>\n",
              "      <td>490</td>\n",
              "      <td>328</td>\n",
              "      <td>472</td>\n",
              "      <td>340</td>\n",
              "      <td>450</td>\n",
              "      <td>352</td>\n",
              "      <td>427</td>\n",
              "      <td>...</td>\n",
              "      <td>126</td>\n",
              "      <td>375</td>\n",
              "      <td>130</td>\n",
              "      <td>410</td>\n",
              "      <td>137</td>\n",
              "      <td>444</td>\n",
              "      <td>145</td>\n",
              "      <td>476</td>\n",
              "      <td>133</td>\n",
              "      <td>507</td>\n",
              "    </tr>\n",
              "    <tr>\n",
              "      <th>3</th>\n",
              "      <td>310</td>\n",
              "      <td>506</td>\n",
              "      <td>323</td>\n",
              "      <td>483</td>\n",
              "      <td>345</td>\n",
              "      <td>466</td>\n",
              "      <td>359</td>\n",
              "      <td>443</td>\n",
              "      <td>372</td>\n",
              "      <td>419</td>\n",
              "      <td>...</td>\n",
              "      <td>143</td>\n",
              "      <td>375</td>\n",
              "      <td>148</td>\n",
              "      <td>411</td>\n",
              "      <td>158</td>\n",
              "      <td>445</td>\n",
              "      <td>165</td>\n",
              "      <td>479</td>\n",
              "      <td>156</td>\n",
              "      <td>511</td>\n",
              "    </tr>\n",
              "    <tr>\n",
              "      <th>4</th>\n",
              "      <td>334</td>\n",
              "      <td>509</td>\n",
              "      <td>351</td>\n",
              "      <td>490</td>\n",
              "      <td>369</td>\n",
              "      <td>472</td>\n",
              "      <td>381</td>\n",
              "      <td>449</td>\n",
              "      <td>392</td>\n",
              "      <td>427</td>\n",
              "      <td>...</td>\n",
              "      <td>160</td>\n",
              "      <td>377</td>\n",
              "      <td>165</td>\n",
              "      <td>412</td>\n",
              "      <td>174</td>\n",
              "      <td>444</td>\n",
              "      <td>185</td>\n",
              "      <td>476</td>\n",
              "      <td>181</td>\n",
              "      <td>509</td>\n",
              "    </tr>\n",
              "  </tbody>\n",
              "</table>\n",
              "<p>5 rows × 144 columns</p>\n",
              "</div>\n",
              "    <div class=\"colab-df-buttons\">\n",
              "\n",
              "  <div class=\"colab-df-container\">\n",
              "    <button class=\"colab-df-convert\" onclick=\"convertToInteractive('df-1d3d560a-948e-4484-8459-ba2b3892dae3')\"\n",
              "            title=\"Convert this dataframe to an interactive table.\"\n",
              "            style=\"display:none;\">\n",
              "\n",
              "  <svg xmlns=\"http://www.w3.org/2000/svg\" height=\"24px\" viewBox=\"0 -960 960 960\">\n",
              "    <path d=\"M120-120v-720h720v720H120Zm60-500h600v-160H180v160Zm220 220h160v-160H400v160Zm0 220h160v-160H400v160ZM180-400h160v-160H180v160Zm440 0h160v-160H620v160ZM180-180h160v-160H180v160Zm440 0h160v-160H620v160Z\"/>\n",
              "  </svg>\n",
              "    </button>\n",
              "\n",
              "  <style>\n",
              "    .colab-df-container {\n",
              "      display:flex;\n",
              "      gap: 12px;\n",
              "    }\n",
              "\n",
              "    .colab-df-convert {\n",
              "      background-color: #E8F0FE;\n",
              "      border: none;\n",
              "      border-radius: 50%;\n",
              "      cursor: pointer;\n",
              "      display: none;\n",
              "      fill: #1967D2;\n",
              "      height: 32px;\n",
              "      padding: 0 0 0 0;\n",
              "      width: 32px;\n",
              "    }\n",
              "\n",
              "    .colab-df-convert:hover {\n",
              "      background-color: #E2EBFA;\n",
              "      box-shadow: 0px 1px 2px rgba(60, 64, 67, 0.3), 0px 1px 3px 1px rgba(60, 64, 67, 0.15);\n",
              "      fill: #174EA6;\n",
              "    }\n",
              "\n",
              "    .colab-df-buttons div {\n",
              "      margin-bottom: 4px;\n",
              "    }\n",
              "\n",
              "    [theme=dark] .colab-df-convert {\n",
              "      background-color: #3B4455;\n",
              "      fill: #D2E3FC;\n",
              "    }\n",
              "\n",
              "    [theme=dark] .colab-df-convert:hover {\n",
              "      background-color: #434B5C;\n",
              "      box-shadow: 0px 1px 3px 1px rgba(0, 0, 0, 0.15);\n",
              "      filter: drop-shadow(0px 1px 2px rgba(0, 0, 0, 0.3));\n",
              "      fill: #FFFFFF;\n",
              "    }\n",
              "  </style>\n",
              "\n",
              "    <script>\n",
              "      const buttonEl =\n",
              "        document.querySelector('#df-1d3d560a-948e-4484-8459-ba2b3892dae3 button.colab-df-convert');\n",
              "      buttonEl.style.display =\n",
              "        google.colab.kernel.accessAllowed ? 'block' : 'none';\n",
              "\n",
              "      async function convertToInteractive(key) {\n",
              "        const element = document.querySelector('#df-1d3d560a-948e-4484-8459-ba2b3892dae3');\n",
              "        const dataTable =\n",
              "          await google.colab.kernel.invokeFunction('convertToInteractive',\n",
              "                                                    [key], {});\n",
              "        if (!dataTable) return;\n",
              "\n",
              "        const docLinkHtml = 'Like what you see? Visit the ' +\n",
              "          '<a target=\"_blank\" href=https://colab.research.google.com/notebooks/data_table.ipynb>data table notebook</a>'\n",
              "          + ' to learn more about interactive tables.';\n",
              "        element.innerHTML = '';\n",
              "        dataTable['output_type'] = 'display_data';\n",
              "        await google.colab.output.renderOutput(dataTable, element);\n",
              "        const docLink = document.createElement('div');\n",
              "        docLink.innerHTML = docLinkHtml;\n",
              "        element.appendChild(docLink);\n",
              "      }\n",
              "    </script>\n",
              "  </div>\n",
              "\n",
              "\n",
              "<div id=\"df-5b63d9d5-cf7e-4033-b1aa-4931af4f53b4\">\n",
              "  <button class=\"colab-df-quickchart\" onclick=\"quickchart('df-5b63d9d5-cf7e-4033-b1aa-4931af4f53b4')\"\n",
              "            title=\"Suggest charts\"\n",
              "            style=\"display:none;\">\n",
              "\n",
              "<svg xmlns=\"http://www.w3.org/2000/svg\" height=\"24px\"viewBox=\"0 0 24 24\"\n",
              "     width=\"24px\">\n",
              "    <g>\n",
              "        <path d=\"M19 3H5c-1.1 0-2 .9-2 2v14c0 1.1.9 2 2 2h14c1.1 0 2-.9 2-2V5c0-1.1-.9-2-2-2zM9 17H7v-7h2v7zm4 0h-2V7h2v10zm4 0h-2v-4h2v4z\"/>\n",
              "    </g>\n",
              "</svg>\n",
              "  </button>\n",
              "\n",
              "<style>\n",
              "  .colab-df-quickchart {\n",
              "      --bg-color: #E8F0FE;\n",
              "      --fill-color: #1967D2;\n",
              "      --hover-bg-color: #E2EBFA;\n",
              "      --hover-fill-color: #174EA6;\n",
              "      --disabled-fill-color: #AAA;\n",
              "      --disabled-bg-color: #DDD;\n",
              "  }\n",
              "\n",
              "  [theme=dark] .colab-df-quickchart {\n",
              "      --bg-color: #3B4455;\n",
              "      --fill-color: #D2E3FC;\n",
              "      --hover-bg-color: #434B5C;\n",
              "      --hover-fill-color: #FFFFFF;\n",
              "      --disabled-bg-color: #3B4455;\n",
              "      --disabled-fill-color: #666;\n",
              "  }\n",
              "\n",
              "  .colab-df-quickchart {\n",
              "    background-color: var(--bg-color);\n",
              "    border: none;\n",
              "    border-radius: 50%;\n",
              "    cursor: pointer;\n",
              "    display: none;\n",
              "    fill: var(--fill-color);\n",
              "    height: 32px;\n",
              "    padding: 0;\n",
              "    width: 32px;\n",
              "  }\n",
              "\n",
              "  .colab-df-quickchart:hover {\n",
              "    background-color: var(--hover-bg-color);\n",
              "    box-shadow: 0 1px 2px rgba(60, 64, 67, 0.3), 0 1px 3px 1px rgba(60, 64, 67, 0.15);\n",
              "    fill: var(--button-hover-fill-color);\n",
              "  }\n",
              "\n",
              "  .colab-df-quickchart-complete:disabled,\n",
              "  .colab-df-quickchart-complete:disabled:hover {\n",
              "    background-color: var(--disabled-bg-color);\n",
              "    fill: var(--disabled-fill-color);\n",
              "    box-shadow: none;\n",
              "  }\n",
              "\n",
              "  .colab-df-spinner {\n",
              "    border: 2px solid var(--fill-color);\n",
              "    border-color: transparent;\n",
              "    border-bottom-color: var(--fill-color);\n",
              "    animation:\n",
              "      spin 1s steps(1) infinite;\n",
              "  }\n",
              "\n",
              "  @keyframes spin {\n",
              "    0% {\n",
              "      border-color: transparent;\n",
              "      border-bottom-color: var(--fill-color);\n",
              "      border-left-color: var(--fill-color);\n",
              "    }\n",
              "    20% {\n",
              "      border-color: transparent;\n",
              "      border-left-color: var(--fill-color);\n",
              "      border-top-color: var(--fill-color);\n",
              "    }\n",
              "    30% {\n",
              "      border-color: transparent;\n",
              "      border-left-color: var(--fill-color);\n",
              "      border-top-color: var(--fill-color);\n",
              "      border-right-color: var(--fill-color);\n",
              "    }\n",
              "    40% {\n",
              "      border-color: transparent;\n",
              "      border-right-color: var(--fill-color);\n",
              "      border-top-color: var(--fill-color);\n",
              "    }\n",
              "    60% {\n",
              "      border-color: transparent;\n",
              "      border-right-color: var(--fill-color);\n",
              "    }\n",
              "    80% {\n",
              "      border-color: transparent;\n",
              "      border-right-color: var(--fill-color);\n",
              "      border-bottom-color: var(--fill-color);\n",
              "    }\n",
              "    90% {\n",
              "      border-color: transparent;\n",
              "      border-bottom-color: var(--fill-color);\n",
              "    }\n",
              "  }\n",
              "</style>\n",
              "\n",
              "  <script>\n",
              "    async function quickchart(key) {\n",
              "      const quickchartButtonEl =\n",
              "        document.querySelector('#' + key + ' button');\n",
              "      quickchartButtonEl.disabled = true;  // To prevent multiple clicks.\n",
              "      quickchartButtonEl.classList.add('colab-df-spinner');\n",
              "      try {\n",
              "        const charts = await google.colab.kernel.invokeFunction(\n",
              "            'suggestCharts', [key], {});\n",
              "      } catch (error) {\n",
              "        console.error('Error during call to suggestCharts:', error);\n",
              "      }\n",
              "      quickchartButtonEl.classList.remove('colab-df-spinner');\n",
              "      quickchartButtonEl.classList.add('colab-df-quickchart-complete');\n",
              "    }\n",
              "    (() => {\n",
              "      let quickchartButtonEl =\n",
              "        document.querySelector('#df-5b63d9d5-cf7e-4033-b1aa-4931af4f53b4 button');\n",
              "      quickchartButtonEl.style.display =\n",
              "        google.colab.kernel.accessAllowed ? 'block' : 'none';\n",
              "    })();\n",
              "  </script>\n",
              "</div>\n",
              "\n",
              "    </div>\n",
              "  </div>\n"
            ],
            "application/vnd.google.colaboratory.intrinsic+json": {
              "type": "dataframe",
              "variable_name": "hand_data"
            }
          },
          "metadata": {},
          "execution_count": 1
        }
      ],
      "source": [
        "# import necessary libraries\n",
        "import pandas as pd\n",
        "import numpy as np\n",
        "\n",
        "hand_data_path = \"./all-hands.dat\" # constant for the path of the data\n",
        "\n",
        "# load the data\n",
        "hand_data = pd.read_csv(hand_data_path, header = None)\n",
        "hand_data.head()"
      ]
    },
    {
      "cell_type": "markdown",
      "source": [
        "### **(a)**"
      ],
      "metadata": {
        "id": "8DkuxbLIWC-4"
      }
    },
    {
      "cell_type": "code",
      "source": [
        "\"\"\"\n",
        "This function calculates the mean of each column\n",
        "and separates them into two numpy arrays where one\n",
        "correlates with the x-axis and the other with the\n",
        "y-axis.\n",
        "@data = the data to feed into the function\n",
        "\n",
        "\"\"\"\n",
        "def calculate_means(data):\n",
        "  m = data.shape[1] # number of \"examples\"\n",
        "  n = data.shape[0] # number of datapoints\n",
        "\n",
        "  # creates 72 x 1 np.arrays that stores the means\n",
        "  x_axis_np = np.ones(shape = ((int)(m/2), 1))\n",
        "  y_axis_np = np.ones(shape = ((int)(m/2), 1))\n",
        "  index_to_add = 0 # keep track of the index\n",
        "\n",
        "  # loop through all the \"examples\"\n",
        "  for col in range(m):\n",
        "    column = data.loc[:, col]\n",
        "    sum = 0\n",
        "\n",
        "    # loops through all the points\n",
        "    for row in range(n):\n",
        "      sum += data.loc[row, col]\n",
        "\n",
        "    # take the average and place in correct array\n",
        "    avg = sum / n\n",
        "    if col % 2 == 0: # if the column is even then put in x[index]\n",
        "      x_axis_np[index_to_add] = avg\n",
        "    else:\n",
        "      y_axis_np[index_to_add] = avg\n",
        "      index_to_add += 1 # increment index_to_add since everytime there is an odd index, both x and y arrays have filled at the same index location\n",
        "\n",
        "  return x_axis_np, y_axis_np\n",
        "\n",
        "x_axis_np, y_axis_np = calculate_means(hand_data)"
      ],
      "metadata": {
        "id": "M6OAoFMZWqv2"
      },
      "execution_count": 2,
      "outputs": []
    },
    {
      "cell_type": "code",
      "source": [
        "import matplotlib.pyplot as plt\n",
        "import matplotlib.axes as ax\n",
        "\n",
        "plt.plot(x_axis_np, y_axis_np)"
      ],
      "metadata": {
        "colab": {
          "base_uri": "https://localhost:8080/",
          "height": 447
        },
        "id": "NvIE_T0w-r89",
        "outputId": "0e6513d4-6456-493c-afbf-9c709fecd148"
      },
      "execution_count": 3,
      "outputs": [
        {
          "output_type": "execute_result",
          "data": {
            "text/plain": [
              "[<matplotlib.lines.Line2D at 0x790384ae0970>]"
            ]
          },
          "metadata": {},
          "execution_count": 3
        },
        {
          "output_type": "display_data",
          "data": {
            "text/plain": [
              "<Figure size 640x480 with 1 Axes>"
            ],
            "image/png": "[encoded data removed]"
          },
          "metadata": {}
        }
      ]
    },
    {
      "cell_type": "code",
      "source": [
        "print(x_axis_np)"
      ],
      "metadata": {
        "colab": {
          "base_uri": "https://localhost:8080/"
        },
        "id": "J96V-1uwaFrH",
        "outputId": "036f432f-2152-49ee-ca54-3adca4f56feb"
      },
      "execution_count": 4,
      "outputs": [
        {
          "output_type": "stream",
          "name": "stdout",
          "text": [
            "[[298.88888889]\n",
            " [313.94444444]\n",
            " [333.33333333]\n",
            " [348.16666667]\n",
            " [361.5       ]\n",
            " [376.44444444]\n",
            " [392.55555556]\n",
            " [399.        ]\n",
            " [410.05555556]\n",
            " [423.16666667]\n",
            " [424.38888889]\n",
            " [429.94444444]\n",
            " [424.16666667]\n",
            " [402.        ]\n",
            " [388.38888889]\n",
            " [379.72222222]\n",
            " [374.11111111]\n",
            " [363.72222222]\n",
            " [347.16666667]\n",
            " [336.22222222]\n",
            " [332.66666667]\n",
            " [338.55555556]\n",
            " [345.33333333]\n",
            " [349.94444444]\n",
            " [334.77777778]\n",
            " [312.33333333]\n",
            " [307.55555556]\n",
            " [303.22222222]\n",
            " [294.72222222]\n",
            " [290.27777778]\n",
            " [275.83333333]\n",
            " [269.88888889]\n",
            " [272.66666667]\n",
            " [275.        ]\n",
            " [277.55555556]\n",
            " [278.61111111]\n",
            " [260.77777778]\n",
            " [239.27777778]\n",
            " [237.38888889]\n",
            " [234.        ]\n",
            " [225.22222222]\n",
            " [225.77777778]\n",
            " [219.83333333]\n",
            " [207.44444444]\n",
            " [202.05555556]\n",
            " [200.83333333]\n",
            " [201.77777778]\n",
            " [200.94444444]\n",
            " [184.88888889]\n",
            " [163.44444444]\n",
            " [162.5       ]\n",
            " [162.33333333]\n",
            " [159.83333333]\n",
            " [166.22222222]\n",
            " [166.05555556]\n",
            " [151.27777778]\n",
            " [142.33333333]\n",
            " [132.94444444]\n",
            " [127.33333333]\n",
            " [121.5       ]\n",
            " [104.22222222]\n",
            " [ 92.38888889]\n",
            " [ 97.61111111]\n",
            " [105.66666667]\n",
            " [117.22222222]\n",
            " [124.5       ]\n",
            " [129.61111111]\n",
            " [132.77777778]\n",
            " [135.77777778]\n",
            " [143.72222222]\n",
            " [151.72222222]\n",
            " [142.44444444]]\n"
          ]
        }
      ]
    },
    {
      "cell_type": "markdown",
      "source": [
        "### **(b)**"
      ],
      "metadata": {
        "id": "9bblic4TPESm"
      }
    },
    {
      "cell_type": "code",
      "source": [
        "\"\"\"\n",
        "This function calculates the covariance of\n",
        "two columns and returns the value.\n",
        "@X = the first vector (pd.series)\n",
        "@Y = the second vector (pd.series)\n",
        "\"\"\"\n",
        "def calculate_covariance(X, Y):\n",
        "  n = len(X) # get the length of a vector\n",
        "\n",
        "  sum = 0 # sum\n",
        "  X_mean = np.mean(X) # gets the mean\n",
        "  Y_mean = np.mean(Y)\n",
        "\n",
        "  # loop over all elements in the vectors\n",
        "  for i in range(n):\n",
        "    sum += (X[i] - X_mean) * (Y[i] - Y_mean)\n",
        "\n",
        "  return sum / (n - 1) # divide by n - 1\n",
        "\n",
        "# print(calculate_covariance(hand_data.loc[:, 0], hand_data.loc[:, 0])) # testing purpose"
      ],
      "metadata": {
        "id": "CKwGwpQaPIRX"
      },
      "execution_count": 5,
      "outputs": []
    },
    {
      "cell_type": "code",
      "source": [
        "\"\"\"\n",
        "This function calculates the covariance matrix\n",
        "of a particular dataset .\n",
        "@data = the dataset you want to compute the covariance\n",
        "        matrix with\n",
        "\"\"\"\n",
        "def calculate_covariance_matrix(data):\n",
        "  n = data.shape[1] # grabs number of features\n",
        "  cov_matrix = np.ones(shape = (n, n)) # initializes a covariance matrix\n",
        "  total_variance = 0\n",
        "\n",
        "  # loop over each features with each other\n",
        "  for i in range(n): # outer loop\n",
        "    for j in range(n): # inner loop\n",
        "      cov_value = calculate_covariance(data.loc[:, i], data.loc[:, j])\n",
        "      cov_matrix[i][j] = cov_value\n",
        "      total_variance += cov_value\n",
        "\n",
        "  eigenvalues, eigenvectors = np.linalg.eigh(cov_matrix)\n",
        "  total_variance = sum(eigenvalues)\n",
        "\n",
        "  return cov_matrix, total_variance\n",
        "\n",
        "\n",
        "covariance_matrix, total_variance = calculate_covariance_matrix(hand_data)\n",
        "print(\"The total variance is:\", total_variance)"
      ],
      "metadata": {
        "colab": {
          "base_uri": "https://localhost:8080/"
        },
        "id": "R3iaihGKczaU",
        "outputId": "1bce9024-9af9-4cf6-c0bb-7f4588a0c81c"
      },
      "execution_count": 16,
      "outputs": [
        {
          "output_type": "stream",
          "name": "stdout",
          "text": [
            "The total variance is: 48685.06862745098\n"
          ]
        }
      ]
    },
    {
      "cell_type": "markdown",
      "source": [
        "### **(c)**"
      ],
      "metadata": {
        "id": "hfucYYsUgRrt"
      }
    },
    {
      "cell_type": "code",
      "source": [
        "print(\"The covariance between x1 and x2 coordinates is\", covariance_matrix[0][2])"
      ],
      "metadata": {
        "colab": {
          "base_uri": "https://localhost:8080/"
        },
        "id": "V10pBLMif9pN",
        "outputId": "3adc97c7-a70f-4e60-cc7f-8168e32c65aa"
      },
      "execution_count": 7,
      "outputs": [
        {
          "output_type": "stream",
          "name": "stdout",
          "text": [
            "The covariance between x1 and x2 coordinates is 533.1111111111112\n"
          ]
        }
      ]
    },
    {
      "cell_type": "code",
      "source": [
        "\"\"\"\n",
        "This function calculates the correlation between two vectors.\n",
        "@X = the first vector\n",
        "@Y = the second vector\n",
        "\"\"\"\n",
        "def calculate_correlation(X, Y):\n",
        "  return np.dot(X, Y) / (np.linalg.norm(X) * np.linalg.norm(Y))\n",
        "\n",
        "x1_x2_corr = calculate_correlation(hand_data.loc[:, 0], hand_data.loc[:, 2])\n",
        "print(\"The correlation between x1 and x2 is\", x1_x2_corr)"
      ],
      "metadata": {
        "colab": {
          "base_uri": "https://localhost:8080/"
        },
        "id": "d6m_Z51VhCNA",
        "outputId": "ad83428d-d8ab-495e-9a53-aecbe90cf30f"
      },
      "execution_count": 8,
      "outputs": [
        {
          "output_type": "stream",
          "name": "stdout",
          "text": [
            "The correlation between x1 and x2 is 0.9999507626010683\n"
          ]
        }
      ]
    },
    {
      "cell_type": "code",
      "source": [
        "# testing purposes\n",
        "# test_data = pd.concat([hand_data.loc[:, 0], hand_data.loc[:, 2]], axis = 1)\n",
        "# print(test_data.corr())"
      ],
      "metadata": {
        "id": "slfqwa25i6w-"
      },
      "execution_count": 9,
      "outputs": []
    },
    {
      "cell_type": "markdown",
      "source": [
        "The correlation comes out to such a high value for $x1$ and $x2$ because of how close they are in the cartesian plane. Because of their proximity, this seems to imply that the two variables have some a strong relationship with each other."
      ],
      "metadata": {
        "id": "qG0g6wbygknL"
      }
    },
    {
      "cell_type": "markdown",
      "source": [
        "### **(d)**"
      ],
      "metadata": {
        "id": "esSGCi8Jlraa"
      }
    },
    {
      "cell_type": "code",
      "source": [
        "# eigenvalues and eigenvectors for pca\n",
        "def pca(data):\n",
        "  cov_matrix, _ = calculate_covariance_matrix(data)\n",
        "  eigenvalues, eigenvectors = np.linalg.eigh(cov_matrix)\n",
        "  return eigenvalues, eigenvectors\n",
        "\n",
        "eigenvalues, eigenvectors = pca(hand_data)\n",
        "print(eigenvalues, \"\\n\")\n",
        "print(eigenvectors)"
      ],
      "metadata": {
        "colab": {
          "base_uri": "https://localhost:8080/"
        },
        "id": "AwPnGvjFltv6",
        "outputId": "5799a1cd-8c5b-405d-b86f-18834b1daa92"
      },
      "execution_count": 19,
      "outputs": [
        {
          "output_type": "stream",
          "name": "stdout",
          "text": [
            "[-5.94610436e-12 -4.77878874e-12 -4.15340386e-12 -3.31790644e-12\n",
            " -3.18622970e-12 -2.66947514e-12 -2.13301935e-12 -2.09402010e-12\n",
            " -1.87634378e-12 -1.78238594e-12 -1.74987949e-12 -1.64637289e-12\n",
            " -1.50062012e-12 -1.47111603e-12 -1.31505393e-12 -1.24653775e-12\n",
            " -1.12836991e-12 -1.11492129e-12 -1.01146385e-12 -9.13709001e-13\n",
            " -9.09093060e-13 -8.84038110e-13 -7.32566058e-13 -7.05531045e-13\n",
            " -6.71534795e-13 -6.61848830e-13 -6.51344608e-13 -5.26713998e-13\n",
            " -5.19852341e-13 -5.06069372e-13 -4.47442683e-13 -4.45339798e-13\n",
            " -3.85151176e-13 -3.65779198e-13 -3.56035898e-13 -3.04352621e-13\n",
            " -3.03136650e-13 -3.00157363e-13 -2.93777495e-13 -2.74675467e-13\n",
            " -2.41193196e-13 -2.33550296e-13 -2.22792023e-13 -2.10485342e-13\n",
            " -1.91360409e-13 -1.78684349e-13 -1.66527083e-13 -1.57164462e-13\n",
            " -1.36122167e-13 -1.34852858e-13 -1.32026710e-13 -1.13377561e-13\n",
            " -1.04836976e-13 -1.00359260e-13 -1.00313390e-13 -8.25414581e-14\n",
            " -8.18167485e-14 -6.86139740e-14 -5.26415191e-14 -5.06485981e-14\n",
            " -4.85225943e-14 -1.77541175e-14 -5.37640511e-15 -1.35451826e-15\n",
            "  3.00112328e-15  6.01279919e-15  6.18785147e-15  1.61840772e-14\n",
            "  2.19296046e-14  3.46627736e-14  4.11389119e-14  4.20182124e-14\n",
            "  7.56138293e-14  8.01888216e-14  8.14087977e-14  9.60693962e-14\n",
            "  1.04601026e-13  1.14388711e-13  1.22010176e-13  1.28475726e-13\n",
            "  1.29577703e-13  1.31248180e-13  1.47337818e-13  1.53134361e-13\n",
            "  1.83228833e-13  1.92734361e-13  2.04743993e-13  2.13865395e-13\n",
            "  2.20298712e-13  2.51748377e-13  2.57312239e-13  2.78581721e-13\n",
            "  2.92510220e-13  3.28567980e-13  3.38439646e-13  3.53151697e-13\n",
            "  3.75255941e-13  3.77933259e-13  4.90913962e-13  5.09805228e-13\n",
            "  5.33008319e-13  5.70786405e-13  6.21209855e-13  6.56823446e-13\n",
            "  6.82458687e-13  7.10844763e-13  7.92051690e-13  8.28566790e-13\n",
            "  8.50772347e-13  9.53483165e-13  9.57706503e-13  1.09056598e-12\n",
            "  1.32989007e-12  1.46910007e-12  1.53399883e-12  1.53458977e-12\n",
            "  1.67880919e-12  1.98225750e-12  2.07040277e-12  2.22414933e-12\n",
            "  2.79875712e-12  3.24765217e-12  3.85084941e-12  4.48340086e-12\n",
            "  4.57559652e-12  5.72666391e-12  6.34599470e-12  4.46881460e+00\n",
            "  1.34194947e+01  1.68098325e+01  1.93841199e+01  2.69462925e+01\n",
            "  3.10821871e+01  4.86970106e+01  8.46911053e+01  1.33545028e+02\n",
            "  2.16684389e+02  4.10802350e+02  1.38331857e+03  2.58819413e+03\n",
            "  4.82042945e+03  5.77157111e+03  8.09351354e+03  2.50215112e+04] \n",
            "\n",
            "[[ 0.00000000e+00  0.00000000e+00  0.00000000e+00 ... -1.13039657e-01\n",
            "   1.52227417e-02 -1.30919967e-01]\n",
            " [-1.54990755e-01  2.01937059e-01  5.07945128e-02 ... -2.46238541e-02\n",
            "  -2.51789274e-02  3.81100414e-03]\n",
            " [ 6.80973792e-02  1.83133506e-01  4.12671402e-01 ... -1.17053620e-01\n",
            "  -3.01057581e-03 -1.27875381e-01]\n",
            " ...\n",
            " [-1.15968568e-02 -3.16086160e-02  3.52464512e-02 ... -4.27911655e-02\n",
            "  -5.70217564e-02 -1.99715697e-04]\n",
            " [-1.22364461e-01 -2.06053594e-01 -3.04576722e-01 ... -1.07297789e-01\n",
            "   3.14259705e-02 -1.45205206e-01]\n",
            " [ 2.17584128e-02 -5.95440663e-03 -3.63145960e-02 ... -3.27733057e-02\n",
            "  -5.31874110e-02 -1.18822245e-03]]\n"
          ]
        }
      ]
    },
    {
      "cell_type": "markdown",
      "source": [
        "### **(e)**"
      ],
      "metadata": {
        "id": "qfgZnatYnssX"
      }
    },
    {
      "cell_type": "code",
      "source": [
        "\"\"\"\n",
        "This function calculates the proportion of variance.\n",
        "@lambda_val = eigenvalues associated with covariance matrix decomposition\n",
        "\"\"\"\n",
        "def proportion_of_variances(lambda_val):\n",
        "  total = sum(lambda_val) # gets the sum\n",
        "  n = len(lambda_val) # length of lambda value\n",
        "  prop_of_var = [0] * n # stores a list\n",
        "\n",
        "  # loops through all lambda values\n",
        "  for i in range(n):\n",
        "    prop_of_var[n - 1 - i] = lambda_val[i]/total\n",
        "\n",
        "  return prop_of_var\n",
        "\n",
        "proportion_of_variance = proportion_of_variances(eigenvalues)\n",
        "print(proportion_of_variance)\n"
      ],
      "metadata": {
        "colab": {
          "base_uri": "https://localhost:8080/"
        },
        "id": "v8cMokrvnvvv",
        "outputId": "f68570d8-9494-4fcf-879a-9c226163b822"
      },
      "execution_count": 11,
      "outputs": [
        {
          "output_type": "stream",
          "name": "stdout",
          "text": [
            "[0.5139463065694261, 0.1662422128560453, 0.1185491007899576, 0.09901248136046609, 0.05316196935846104, 0.02841361038649107, 0.008437953596745235, 0.004450736023973565, 0.0027430387116735367, 0.0017395704208413622, 0.0010002452894401586, 0.0006384336709668961, 0.0005534816582930662, 0.0003981532821953453, 0.00034527695913031065, 0.00027563881638943135, 9.179024950377033e-05, 1.3034786389111161e-16, 1.1762669891715157e-16, 9.398356934415041e-17, 9.208985386600644e-17, 7.90971341856854e-17, 6.67073552618957e-17, 5.748697080985284e-17, 4.568442433395182e-17, 4.2526442499081517e-17, 4.071592290972059e-17, 3.4483040446731403e-17, 3.1520747873119067e-17, 3.1508609776901764e-17, 3.017557775408226e-17, 2.7316179329329357e-17, 2.2400419988034357e-17, 1.967146253141181e-17, 1.958471440133536e-17, 1.7475015880350195e-17, 1.7018909771833107e-17, 1.6268883097198146e-17, 1.4600878323895668e-17, 1.4017823247088214e-17, 1.349127083378547e-17, 1.2759761306627703e-17, 1.172405464415087e-17, 1.0948086019053234e-17, 1.0471490387856954e-17, 1.0083460401271499e-17, 7.76281659842723e-18, 7.707824009124077e-18, 7.253798889413372e-18, 6.951610731267516e-18, 6.7488449533096706e-18, 6.00821213015321e-18, 5.722118275134608e-18, 5.285239319164636e-18, 5.170956595453592e-18, 4.524974861062946e-18, 4.392833384014579e-18, 4.205478161496333e-18, 3.958798185574071e-18, 3.763552946603354e-18, 3.14540710488319e-18, 3.026345087325603e-18, 2.695861050183671e-18, 2.661549152237653e-18, 2.6389143438153e-18, 2.5061107996023217e-18, 2.3495645368753136e-18, 2.148523753277207e-18, 1.9732825472653197e-18, 1.6721512356416705e-18, 1.6470927103057817e-18, 1.5531215516674497e-18, 8.630615821979031e-19, 8.450005938900983e-19, 7.119795567885687e-19, 4.504379928314213e-19, 3.3242383392433835e-19, 1.2709957368544675e-19, 1.2350396861252844e-19, 6.164360788955665e-20, -2.78220468300862e-20, -1.1043232074232053e-19, -3.6467274174931875e-19, -9.966627492826656e-19, -1.0403312455588191e-18, -1.0812661983848623e-18, -1.4093432728559537e-18, -1.6805306178762851e-18, -1.6954162833720838e-18, -2.0604549340135944e-18, -2.061397118456363e-18, -2.153370207279976e-18, -2.328795347599348e-18, -2.7118521984826794e-18, -2.769901764906402e-18, -2.795973600775843e-18, -3.2281860964016794e-18, -3.4204960089702765e-18, -3.6702084277069836e-18, -3.930576958004495e-18, -4.323406501460587e-18, -4.576187920610744e-18, -4.7971647743791824e-18, -4.954151300918303e-18, -5.6418831222223275e-18, -6.034242176985488e-18, -6.1652858132182755e-18, -6.226480903691753e-18, -6.251457158813882e-18, -7.313040889748619e-18, -7.513170028461564e-18, -7.911073900603604e-18, -9.14735893712508e-18, -9.190552568233305e-18, -1.0394755225894631e-17, -1.0677859879358803e-17, -1.0818799542209817e-17, -1.3378734521894838e-17, -1.3594493117137537e-17, -1.379344455431398e-17, -1.4491733605760587e-17, -1.5047037601166357e-17, -1.8158300590479043e-17, -1.8672933730993948e-17, -1.8767745979019118e-17, -2.077564801701431e-17, -2.2900682364047502e-17, -2.3176919420012463e-17, -2.5604107911972907e-17, -2.701144247531528e-17, -3.0216985805401724e-17, -3.082300509805573e-17, -3.3816793072369997e-17, -3.594283704827991e-17, -3.661052533610853e-17, -3.854043615852293e-17, -4.301154665043814e-17, -4.381259825098524e-17, -5.483149596657659e-17, -6.544572679737149e-17, -6.815039047571966e-17, -8.531165666210509e-17, -9.815717372457713e-17, -1.221340450287861e-16]\n"
          ]
        }
      ]
    },
    {
      "cell_type": "code",
      "source": [
        "plt.plot(proportion_of_variance)\n",
        "plt.xlabel(\"Principle Components\")\n",
        "plt.ylabel(\"Proportion of Variance\")\n",
        "plt.xlim(0, 20)\n",
        "print(len(proportion_of_variance))"
      ],
      "metadata": {
        "colab": {
          "base_uri": "https://localhost:8080/",
          "height": 466
        },
        "id": "TDu8TBMqr__Y",
        "outputId": "60f8378a-de56-496e-b906-164309798e78"
      },
      "execution_count": 12,
      "outputs": [
        {
          "output_type": "stream",
          "name": "stdout",
          "text": [
            "144\n"
          ]
        },
        {
          "output_type": "display_data",
          "data": {
            "text/plain": [
              "<Figure size 640x480 with 1 Axes>"
            ],
            "image/png": "[encoded data removed]"
          },
          "metadata": {}
        }
      ]
    },
    {
      "cell_type": "code",
      "source": [
        "for i in range(len(proportion_of_variance)): print(i + 1, \"with value\", proportion_of_variance[i])"
      ],
      "metadata": {
        "colab": {
          "base_uri": "https://localhost:8080/"
        },
        "id": "tkihnr3j3Zxo",
        "outputId": "f9b93dcc-0467-4f49-eb4e-51eb80ef65f9"
      },
      "execution_count": 20,
      "outputs": [
        {
          "output_type": "stream",
          "name": "stdout",
          "text": [
            "1 with value 0.5139463065694261\n",
            "2 with value 0.1662422128560453\n",
            "3 with value 0.1185491007899576\n",
            "4 with value 0.09901248136046609\n",
            "5 with value 0.05316196935846104\n",
            "6 with value 0.02841361038649107\n",
            "7 with value 0.008437953596745235\n",
            "8 with value 0.004450736023973565\n",
            "9 with value 0.0027430387116735367\n",
            "10 with value 0.0017395704208413622\n",
            "11 with value 0.0010002452894401586\n",
            "12 with value 0.0006384336709668961\n",
            "13 with value 0.0005534816582930662\n",
            "14 with value 0.0003981532821953453\n",
            "15 with value 0.00034527695913031065\n",
            "16 with value 0.00027563881638943135\n",
            "17 with value 9.179024950377033e-05\n",
            "18 with value 1.3034786389111161e-16\n",
            "19 with value 1.1762669891715157e-16\n",
            "20 with value 9.398356934415041e-17\n",
            "21 with value 9.208985386600644e-17\n",
            "22 with value 7.90971341856854e-17\n",
            "23 with value 6.67073552618957e-17\n",
            "24 with value 5.748697080985284e-17\n",
            "25 with value 4.568442433395182e-17\n",
            "26 with value 4.2526442499081517e-17\n",
            "27 with value 4.071592290972059e-17\n",
            "28 with value 3.4483040446731403e-17\n",
            "29 with value 3.1520747873119067e-17\n",
            "30 with value 3.1508609776901764e-17\n",
            "31 with value 3.017557775408226e-17\n",
            "32 with value 2.7316179329329357e-17\n",
            "33 with value 2.2400419988034357e-17\n",
            "34 with value 1.967146253141181e-17\n",
            "35 with value 1.958471440133536e-17\n",
            "36 with value 1.7475015880350195e-17\n",
            "37 with value 1.7018909771833107e-17\n",
            "38 with value 1.6268883097198146e-17\n",
            "39 with value 1.4600878323895668e-17\n",
            "40 with value 1.4017823247088214e-17\n",
            "41 with value 1.349127083378547e-17\n",
            "42 with value 1.2759761306627703e-17\n",
            "43 with value 1.172405464415087e-17\n",
            "44 with value 1.0948086019053234e-17\n",
            "45 with value 1.0471490387856954e-17\n",
            "46 with value 1.0083460401271499e-17\n",
            "47 with value 7.76281659842723e-18\n",
            "48 with value 7.707824009124077e-18\n",
            "49 with value 7.253798889413372e-18\n",
            "50 with value 6.951610731267516e-18\n",
            "51 with value 6.7488449533096706e-18\n",
            "52 with value 6.00821213015321e-18\n",
            "53 with value 5.722118275134608e-18\n",
            "54 with value 5.285239319164636e-18\n",
            "55 with value 5.170956595453592e-18\n",
            "56 with value 4.524974861062946e-18\n",
            "57 with value 4.392833384014579e-18\n",
            "58 with value 4.205478161496333e-18\n",
            "59 with value 3.958798185574071e-18\n",
            "60 with value 3.763552946603354e-18\n",
            "61 with value 3.14540710488319e-18\n",
            "62 with value 3.026345087325603e-18\n",
            "63 with value 2.695861050183671e-18\n",
            "64 with value 2.661549152237653e-18\n",
            "65 with value 2.6389143438153e-18\n",
            "66 with value 2.5061107996023217e-18\n",
            "67 with value 2.3495645368753136e-18\n",
            "68 with value 2.148523753277207e-18\n",
            "69 with value 1.9732825472653197e-18\n",
            "70 with value 1.6721512356416705e-18\n",
            "71 with value 1.6470927103057817e-18\n",
            "72 with value 1.5531215516674497e-18\n",
            "73 with value 8.630615821979031e-19\n",
            "74 with value 8.450005938900983e-19\n",
            "75 with value 7.119795567885687e-19\n",
            "76 with value 4.504379928314213e-19\n",
            "77 with value 3.3242383392433835e-19\n",
            "78 with value 1.2709957368544675e-19\n",
            "79 with value 1.2350396861252844e-19\n",
            "80 with value 6.164360788955665e-20\n",
            "81 with value -2.78220468300862e-20\n",
            "82 with value -1.1043232074232053e-19\n",
            "83 with value -3.6467274174931875e-19\n",
            "84 with value -9.966627492826656e-19\n",
            "85 with value -1.0403312455588191e-18\n",
            "86 with value -1.0812661983848623e-18\n",
            "87 with value -1.4093432728559537e-18\n",
            "88 with value -1.6805306178762851e-18\n",
            "89 with value -1.6954162833720838e-18\n",
            "90 with value -2.0604549340135944e-18\n",
            "91 with value -2.061397118456363e-18\n",
            "92 with value -2.153370207279976e-18\n",
            "93 with value -2.328795347599348e-18\n",
            "94 with value -2.7118521984826794e-18\n",
            "95 with value -2.769901764906402e-18\n",
            "96 with value -2.795973600775843e-18\n",
            "97 with value -3.2281860964016794e-18\n",
            "98 with value -3.4204960089702765e-18\n",
            "99 with value -3.6702084277069836e-18\n",
            "100 with value -3.930576958004495e-18\n",
            "101 with value -4.323406501460587e-18\n",
            "102 with value -4.576187920610744e-18\n",
            "103 with value -4.7971647743791824e-18\n",
            "104 with value -4.954151300918303e-18\n",
            "105 with value -5.6418831222223275e-18\n",
            "106 with value -6.034242176985488e-18\n",
            "107 with value -6.1652858132182755e-18\n",
            "108 with value -6.226480903691753e-18\n",
            "109 with value -6.251457158813882e-18\n",
            "110 with value -7.313040889748619e-18\n",
            "111 with value -7.513170028461564e-18\n",
            "112 with value -7.911073900603604e-18\n",
            "113 with value -9.14735893712508e-18\n",
            "114 with value -9.190552568233305e-18\n",
            "115 with value -1.0394755225894631e-17\n",
            "116 with value -1.0677859879358803e-17\n",
            "117 with value -1.0818799542209817e-17\n",
            "118 with value -1.3378734521894838e-17\n",
            "119 with value -1.3594493117137537e-17\n",
            "120 with value -1.379344455431398e-17\n",
            "121 with value -1.4491733605760587e-17\n",
            "122 with value -1.5047037601166357e-17\n",
            "123 with value -1.8158300590479043e-17\n",
            "124 with value -1.8672933730993948e-17\n",
            "125 with value -1.8767745979019118e-17\n",
            "126 with value -2.077564801701431e-17\n",
            "127 with value -2.2900682364047502e-17\n",
            "128 with value -2.3176919420012463e-17\n",
            "129 with value -2.5604107911972907e-17\n",
            "130 with value -2.701144247531528e-17\n",
            "131 with value -3.0216985805401724e-17\n",
            "132 with value -3.082300509805573e-17\n",
            "133 with value -3.3816793072369997e-17\n",
            "134 with value -3.594283704827991e-17\n",
            "135 with value -3.661052533610853e-17\n",
            "136 with value -3.854043615852293e-17\n",
            "137 with value -4.301154665043814e-17\n",
            "138 with value -4.381259825098524e-17\n",
            "139 with value -5.483149596657659e-17\n",
            "140 with value -6.544572679737149e-17\n",
            "141 with value -6.815039047571966e-17\n",
            "142 with value -8.531165666210509e-17\n",
            "143 with value -9.815717372457713e-17\n",
            "144 with value -1.221340450287861e-16\n"
          ]
        }
      ]
    },
    {
      "cell_type": "markdown",
      "source": [
        "It seems as if all $144$ values are technically not $0$; however, most of are pretty close to it. I would argue that the threshold for an eigenvalue to be $0$ would be anything less than $1e^{-6}$. Therefore, I would argue that $17$ values are not nonzero. This implies that we do not need all the dimensions of our data to achieve high accuracy."
      ],
      "metadata": {
        "id": "vk5Of-cRuPF-"
      }
    },
    {
      "cell_type": "code",
      "source": [
        "# testing purposes\n",
        "# test = hand_data.loc[:, 0]\n",
        "# test2 = pd.concat([test, test], axis = 1)\n",
        "\n",
        "# print(np.cov(hand_data.T))\n",
        "# print(np.cov(hand_data.T).shape)"
      ],
      "metadata": {
        "id": "BuOPy4VMZDZ-"
      },
      "execution_count": 13,
      "outputs": []
    },
    {
      "cell_type": "markdown",
      "source": [
        "## **Resources**\n",
        "\n",
        "https://numpy.org/\n",
        "\n",
        "https://seaborn.pydata.org/\n",
        "\n",
        "https://matplotlib.org/"
      ],
      "metadata": {
        "id": "J7JiDEI2XJmr"
      }
    },
    {
      "cell_type": "code",
      "source": [],
      "metadata": {
        "id": "TEx6i0vSsQr_"
      },
      "execution_count": 13,
      "outputs": []
    }
  ]
}