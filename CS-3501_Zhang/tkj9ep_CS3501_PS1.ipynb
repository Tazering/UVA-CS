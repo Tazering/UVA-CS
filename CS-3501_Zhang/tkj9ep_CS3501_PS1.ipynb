{
  "nbformat": 4,
  "nbformat_minor": 0,
  "metadata": {
    "colab": {
      "provenance": []
    },
    "kernelspec": {
      "name": "python3",
      "display_name": "Python 3"
    },
    "language_info": {
      "name": "python"
    }
  },
  "cells": [
    {
      "cell_type": "markdown",
      "source": [
        "# ***CS 3501 - PS 1***"
      ],
      "metadata": {
        "id": "5Om5dAFe440B"
      }
    },
    {
      "cell_type": "markdown",
      "source": [
        "## **Problem 1**\n",
        "\n",
        "$M =$ UVA men win\n",
        "\n",
        "$W =$ UVA women win\n",
        "\n",
        "$P(M) = .6$\n",
        "\n",
        "$P(W) = .6$\n",
        "\n",
        "$P(M^C \\cap W) \\cup P(M \\cap W^C) \\cup (P(M) \\cap P(W)) = .75$\n",
        "\n",
        "(a) $P(M \\cup W)$ means the probability that the men or the women win their basketball game. $P(M \\cup W) = .75$ because the $P(M^C \\cap W) \\cup P(M \\cap W^C) \\cup (P(M) \\cap P(W))$ is the definition of a union of $M$ and $W$.\n",
        "\n",
        "(b) Use rule of addition.\n",
        "\n",
        "$$P(M \\cup W) = P(M) + P(W) - P(M \\cap W)$$\n",
        "\n",
        "$$P(M \\cap W) = P(M) + P(W) - P(M \\cup W)$$\n",
        "\n",
        "$$P(M \\cap W) = .6 + .6 - .75$$\n",
        "\n",
        "Answer: $P(M \\cap W) = .45$\n",
        "\n",
        "(c) Use definition of conditional probability.\n",
        "\n",
        "$P(M | W)$ means the probability that the men's team will win given that the women's team will win. $$P(M | W) = \\frac{P(M \\cap W)}{P(W)} = \\frac{.45}{.6} = .75$$\n",
        "\n",
        "$P(M | W) = .75$\n",
        "\n",
        "(d) There is no independence because $P(M | W)  \\not{=} P(M) * P(W)$.\n",
        "\n",
        "The probability for UVA to win only $1$ game is denoted as $P(M \\cap W^C) \\cup P(M^C \\cap W)$.\n",
        "\n",
        "Use rule of addition.\n",
        "\n",
        "Note that the conditions are mutually exclusive because they cannot happen at the same time, that is $P(M \\cap W^C)$ and $P(M^C \\cap W)$ cannot be true at the same time since men's cannot win and lose at the same time. Therefore, $(P(M \\cap W^C) \\cap P(M^C \\cap W)) = 0$.\n",
        "\n",
        "$$P(\\text{UVA wins only one game}) = P(M \\cap W^C) + P(M^C \\cap W)$$\n",
        "$$P(\\text{UVA wins only one game}) = P(M) * P(W^C) + P(M^C) * P(W)$$\n",
        "$$P(\\text{UVA wins only one game}) = .6 * .4 + .4 * .6 = .48$$\n",
        "\n",
        "$P(\\text{UVA wins only one game}) = .48$\n",
        "\n",
        "(e) The probability that men will lose given that the women will lose can be denoted as $P(M^C | W^C)$.\n",
        "\n",
        "$$P(M^C | W^C) = \\frac{P(M^C \\cap W^C)}{P(W^C)}$$\n",
        "\n",
        "Use DeMorgan's Law\n",
        "\n",
        "$$P(M^C | W^C) = \\frac{1 - P(A \\cup B)}{P(W^C)}$$\n",
        "$$P(M^C | W^C) = \\frac{1  - .75}{.4} = .625$$\n",
        "\n",
        "$P(M^C | W^C) = .625$"
      ],
      "metadata": {
        "id": "P-2FZfVo5DuO"
      }
    },
    {
      "cell_type": "markdown",
      "source": [
        "## **Problem 2**\n",
        "\n",
        "number of socks = $8$\n",
        "\n",
        "each equally likely to get picked\n",
        "\n",
        "There are four possible outcomes to get two socks that match: black and black, white and white, red and red, and blue and blue.\n",
        "\n",
        "$P(blue \\cap blue) = \\frac{2}{8} * \\frac{1}{7}$ to get matching blue socks\n",
        "\n",
        "Since there are four possible matches and all matches are equally likely, $P(\\text{matching pair}) = 4 * P(blue \\cap blue)$.\n",
        "\n",
        "$$P(\\text{matching pair}) = 4 * (\\frac{2}{8} * \\frac{1}{7}) = .143$$\n",
        "\n",
        "$P(\\text{matching pair}) = .143$"
      ],
      "metadata": {
        "id": "6LbAlgYCTnvm"
      }
    },
    {
      "cell_type": "markdown",
      "source": [
        "## **Problem 3**\n",
        "\n",
        "$L =$ has lung cancer\n",
        "\n",
        "$S =$ is a smoker\n",
        "\n",
        "$P(L) = .0013$\n",
        "\n",
        "$P(S | L) = .9$\n",
        "\n",
        "$P(S | L^C) = .169$\n",
        "\n",
        "(a)\n",
        "\n",
        "(b)\n",
        "\n",
        "(c)\n"
      ],
      "metadata": {
        "id": "2_bFIeb6Y_tb"
      }
    },
    {
      "cell_type": "code",
      "execution_count": null,
      "metadata": {
        "id": "9pTo6R2o4A0I"
      },
      "outputs": [],
      "source": []
    }
  ]
}