{
  "nbformat": 4,
  "nbformat_minor": 0,
  "metadata": {
    "colab": {
      "provenance": []
    },
    "kernelspec": {
      "name": "python3",
      "display_name": "Python 3"
    },
    "language_info": {
      "name": "python"
    }
  },
  "cells": [
    {
      "cell_type": "markdown",
      "source": [
        "# ***CS 3501 - PS 1***"
      ],
      "metadata": {
        "id": "5Om5dAFe440B"
      }
    },
    {
      "cell_type": "markdown",
      "source": [
        "## **Problem 1**\n",
        "\n",
        "$M =$ UVA men win\n",
        "\n",
        "$W =$ UVA women win\n",
        "\n",
        "$P(M) = .6$\n",
        "\n",
        "$P(W) = .6$\n",
        "\n",
        "$P(M^C \\cap W) \\cup P(M \\cap W^C) \\cup (P(M) \\cap P(W)) = .75$\n",
        "\n",
        "a) $P(M \\cup W)$ means the probability that the men or the women win their basketball game. $P(M \\cup W) = .75$ because the $P(M^C \\cap W) \\cup P(M \\cap W^C) \\cup (P(M) \\cap P(W))$ is the definition of a union of $M$ and $W$.\n",
        "\n",
        "b) $$P(M \\cup W) = P(M) + P(W) - P(M \\cap W)$$\n",
        "\n",
        "$$P(M \\cap W) = P(M) + P(W) - P(M \\cup W)$$\n",
        "\n",
        "$$P(M \\cap W) = .6 + .6 - .75$$\n",
        "\n",
        "Answer: $P(M \\cap W) = .45$\n",
        "\n",
        "c)\n",
        "\n",
        "d)\n",
        "\n",
        "e)"
      ],
      "metadata": {
        "id": "P-2FZfVo5DuO"
      }
    },
    {
      "cell_type": "code",
      "execution_count": null,
      "metadata": {
        "id": "9pTo6R2o4A0I"
      },
      "outputs": [],
      "source": []
    }
  ]
}