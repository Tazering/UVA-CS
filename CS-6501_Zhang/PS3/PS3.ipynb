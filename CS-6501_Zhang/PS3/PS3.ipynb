{
  "nbformat": 4,
  "nbformat_minor": 0,
  "metadata": {
    "colab": {
      "provenance": []
    },
    "kernelspec": {
      "name": "python3",
      "display_name": "Python 3"
    },
    "language_info": {
      "name": "python"
    }
  },
  "cells": [
    {
      "cell_type": "markdown",
      "source": [
        "# ***PS3***"
      ],
      "metadata": {
        "id": "njjti26bk405"
      }
    },
    {
      "cell_type": "code",
      "source": [
        "# import libraries\n",
        "import numpy as np\n",
        "import pandas as pd\n",
        "import matplotlib.pyplot as plt\n",
        "from sklearn.decomposition import PCA\n",
        "import random as rand\n",
        "from PIL import Image\n",
        "from scipy.ndimage import rotate\n",
        "import math"
      ],
      "metadata": {
        "id": "iy3Sxvq_tXYy"
      },
      "execution_count": 1,
      "outputs": []
    },
    {
      "cell_type": "code",
      "source": [
        "# grab the data\n",
        "filepaths = {\n",
        "    \"x_train\": \"./trainX.txt\",\n",
        "    \"y_train\": \"./trainY.txt\",\n",
        "    \"x_test\": \"./testX.txt\",\n",
        "    \"y_test\": \"./testY.txt\"\n",
        "}\n",
        "x_train = pd.read_csv(filepaths[\"x_train\"])\n",
        "y_train = pd.read_csv(filepaths[\"y_train\"])\n",
        "x_test = pd.read_csv(filepaths[\"x_test\"])\n",
        "y_test = pd.read_csv(filepaths[\"y_test\"])\n",
        "\n",
        "print(x_train.shape)"
      ],
      "metadata": {
        "id": "ZPJZUq29teao",
        "colab": {
          "base_uri": "https://localhost:8080/"
        },
        "outputId": "dcc47bed-a379-4282-c44b-806a9fa65d12"
      },
      "execution_count": 3,
      "outputs": [
        {
          "output_type": "stream",
          "name": "stdout",
          "text": [
            "(470, 784)\n"
          ]
        }
      ]
    },
    {
      "cell_type": "code",
      "source": [
        "test = x_train.iloc[300, :].to_numpy()\n",
        "test2 = test.reshape(28, 28)\n",
        "print(test.shape)\n",
        "print(test2.shape)\n",
        "plt.imshow(test2)"
      ],
      "metadata": {
        "colab": {
          "base_uri": "https://localhost:8080/",
          "height": 484
        },
        "id": "6L-u0rGdKGyz",
        "outputId": "7fc690c0-ef3b-4f33-c917-521d402964da"
      },
      "execution_count": 4,
      "outputs": [
        {
          "output_type": "stream",
          "name": "stdout",
          "text": [
            "(784,)\n",
            "(28, 28)\n"
          ]
        },
        {
          "output_type": "execute_result",
          "data": {
            "text/plain": [
              "<matplotlib.image.AxesImage at 0x7af29cc8ca90>"
            ]
          },
          "metadata": {},
          "execution_count": 4
        },
        {
          "output_type": "display_data",
          "data": {
            "text/plain": [
              "<Figure size 640x480 with 1 Axes>"
            ],
            "image/png": "[encoded data removed]"
          },
          "metadata": {}
        }
      ]
    },
    {
      "cell_type": "markdown",
      "source": [
        "## 1) **Bayesian Logistic Regression for Image Classification**"
      ],
      "metadata": {
        "id": "CHeA2Bu1kji-"
      }
    },
    {
      "cell_type": "code",
      "execution_count": 70,
      "metadata": {
        "id": "0b6ILUfRkivf"
      },
      "outputs": [],
      "source": [
        "# create bayesian logistic regression class object\n",
        "class BayesianLogisticRegression:\n",
        "\n",
        "  # member variables\n",
        "  sigma = 1\n",
        "\n",
        "  # constructor\n",
        "  def __init__(self, sigma = 1):\n",
        "    self.sigma = sigma\n",
        "    self.beta = []\n",
        "\n",
        "  # fitting\n",
        "  def fit(self, X, Y, params = {\"epsilon\": .1, \"learning_rate\": .0001}, X_test = [], Y_test = []):\n",
        "\n",
        "    # add bias to X data\n",
        "    X_bias = np.hstack((np.ones(shape = (X.shape[0], 1)), X))\n",
        "    X_bias_shape = X_bias.shape\n",
        "    loss = []\n",
        "\n",
        "    # randomly initialize beta\n",
        "    self.beta = np.random.normal(0, self.sigma, size = (X_bias_shape[1], 1))\n",
        "\n",
        "    likelihood_grad_norm = 100\n",
        "\n",
        "    # calculate the gradient\n",
        "    while likelihood_grad_norm > params[\"epsilon\"]:\n",
        "      lin_comb = np.exp(-X_bias @ self.beta) # n x 1\n",
        "\n",
        "      grad = np.sum(((1 - Y) - (lin_comb/ (1 + lin_comb))) * X_bias, axis = 0)\n",
        "      regularization = self.beta/(self.sigma ** 2)\n",
        "\n",
        "      likelihood_grad = grad[:, np.newaxis] + regularization\n",
        "\n",
        "      self.beta -= params[\"learning_rate\"] * likelihood_grad\n",
        "\n",
        "      likelihood_grad_norm = np.linalg.norm(likelihood_grad)\n",
        "\n",
        "      y_pred = self.predict(X_test)\n",
        "      loss.append(self.loss(y_pred, Y_test))\n",
        "\n",
        "    return loss\n",
        "\n",
        "\n",
        "  # loss function\n",
        "  def loss(self, y_pred, y_true): # order does matter for classes\n",
        "    # calculate loss\n",
        "    m = y_pred.shape[0]\n",
        "\n",
        "    num_correct = np.sum(abs(y_pred - y_true))\n",
        "\n",
        "    return num_correct / m\n",
        "\n",
        "  # prediction\n",
        "  def predict(self, X):\n",
        "    X_bias = np.hstack((np.ones(shape = (X.shape[0], 1)), X))\n",
        "    X_bias_shape = X_bias.shape\n",
        "\n",
        "    pred = 1 / (1 + np.exp(-X_bias @ self.beta))\n",
        "    results = []\n",
        "\n",
        "    for idx in range(pred.shape[0]):\n",
        "      if pred[idx] > (1-pred[idx]):\n",
        "        results.append(1)\n",
        "      else:\n",
        "        results.append(0)\n",
        "    return np.array(results)[:, np.newaxis]\n"
      ]
    },
    {
      "cell_type": "markdown",
      "source": [
        "### d)"
      ],
      "metadata": {
        "id": "c5POmj_qgWea"
      }
    },
    {
      "cell_type": "code",
      "source": [
        "# extract only 1's and 0's\n",
        "def extract_certain_values(X, Y, values):\n",
        "  X = X.to_numpy()\n",
        "  Y = Y.to_numpy()\n",
        "\n",
        "  X_output = []\n",
        "  Y_output = []\n",
        "\n",
        "  for idx in range(X.shape[0]):\n",
        "    if Y[idx] in values:\n",
        "      X_output.append(X[idx, :])\n",
        "      Y_output.append(Y[idx])\n",
        "\n",
        "  return np.array(X_output), np.array(Y_output)"
      ],
      "metadata": {
        "id": "cy0LZ-CBapZk"
      },
      "execution_count": 71,
      "outputs": []
    },
    {
      "cell_type": "code",
      "source": [
        "x_output, y_output = extract_certain_values(x_train, y_train, values = [0, 1])\n",
        "x_test_output, y_test_output = extract_certain_values(x_test, y_test, values = [0, 1])"
      ],
      "metadata": {
        "id": "QP32LhTobVBa"
      },
      "execution_count": 72,
      "outputs": []
    },
    {
      "cell_type": "markdown",
      "source": [
        "### e)"
      ],
      "metadata": {
        "id": "SZd9L_ryg7mH"
      }
    },
    {
      "cell_type": "code",
      "source": [
        "bayesian_model = BayesianLogisticRegression(sigma = 1)\n",
        "loss = bayesian_model.fit(X = x_output, Y = y_output, X_test = x_test_output, Y_test = y_test_output, params = {\"epsilon\": .01, \"learning_rate\": .001})\n",
        "\n",
        "plt.plot(loss)\n",
        "y_pred = bayesian_model.predict(x_test_output)"
      ],
      "metadata": {
        "colab": {
          "base_uri": "https://localhost:8080/",
          "height": 430
        },
        "id": "H5f0UhYjD2df",
        "outputId": "9880716c-00a8-4c94-aea5-027a5746f23f"
      },
      "execution_count": 73,
      "outputs": [
        {
          "output_type": "display_data",
          "data": {
            "text/plain": [
              "<Figure size 640x480 with 1 Axes>"
            ],
            "image/png": "[encoded data removed]"
          },
          "metadata": {}
        }
      ]
    },
    {
      "cell_type": "code",
      "source": [
        "error_rate = bayesian_model.loss(y_pred = y_pred, y_true = y_test_output)\n",
        "print(f\"The error rate: {error_rate}\")"
      ],
      "metadata": {
        "colab": {
          "base_uri": "https://localhost:8080/"
        },
        "id": "ajAyS0_1g-1K",
        "outputId": "47569b66-9f8e-473d-9d82-9d4c35fd684e"
      },
      "execution_count": 74,
      "outputs": [
        {
          "output_type": "stream",
          "name": "stdout",
          "text": [
            "The error rate: 0.0\n"
          ]
        }
      ]
    },
    {
      "cell_type": "markdown",
      "source": [
        "### f)"
      ],
      "metadata": {
        "id": "chsLavijhPxM"
      }
    },
    {
      "cell_type": "code",
      "source": [
        "bayesian_model_6_8 = BayesianLogisticRegression(sigma = .1)\n",
        "x_train_6_8, y_train_6_8 = extract_certain_values(x_train, y_train, values = [6, 8])\n",
        "x_test_6_8, y_test_6_8 = extract_certain_values(x_test, y_test, values = [6, 8])"
      ],
      "metadata": {
        "id": "8hCMqvXxhO1Y"
      },
      "execution_count": 75,
      "outputs": []
    },
    {
      "cell_type": "code",
      "source": [
        "params = {\n",
        "    \"epsilon\": .01,\n",
        "    \"learning_rate\": .001\n",
        "}\n",
        "\n",
        "y_train_6_8[y_train_6_8 == 6] = 0\n",
        "y_train_6_8[y_train_6_8 == 8] = 1\n",
        "y_test_6_8[y_test_6_8 == 6] = 0\n",
        "y_test_6_8[y_test_6_8 == 8] = 1\n",
        "\n",
        "loss = bayesian_model_6_8.fit(X = x_train_6_8, Y = y_train_6_8, X_test = x_test_6_8, Y_test = y_test_6_8,\n",
        "                              params = params)\n",
        "y_pred = bayesian_model_6_8.predict(x_test_6_8)\n",
        "error_rate = bayesian_model_6_8.loss(y_pred = y_pred, y_true = y_test_6_8)\n",
        "plt.plot(loss)"
      ],
      "metadata": {
        "colab": {
          "base_uri": "https://localhost:8080/",
          "height": 448
        },
        "id": "sqlA4KYKh5rK",
        "outputId": "c19691d5-e7f4-4a40-dad7-67dc892fd14a"
      },
      "execution_count": 78,
      "outputs": [
        {
          "output_type": "execute_result",
          "data": {
            "text/plain": [
              "[<matplotlib.lines.Line2D at 0x7af2936e3df0>]"
            ]
          },
          "metadata": {},
          "execution_count": 78
        },
        {
          "output_type": "display_data",
          "data": {
            "text/plain": [
              "<Figure size 640x480 with 1 Axes>"
            ],
            "image/png": "[encoded data removed]"
          },
          "metadata": {}
        }
      ]
    },
    {
      "cell_type": "code",
      "source": [
        "print(f\"The Error Rate: {error_rate}\")"
      ],
      "metadata": {
        "colab": {
          "base_uri": "https://localhost:8080/"
        },
        "id": "Q3G1I2rs6YUX",
        "outputId": "498812af-592b-41c5-9f48-9cc994cc2ac1"
      },
      "execution_count": 79,
      "outputs": [
        {
          "output_type": "stream",
          "name": "stdout",
          "text": [
            "The Error Rate: 0.017857142857142856\n"
          ]
        }
      ]
    },
    {
      "cell_type": "markdown",
      "source": [
        "## 2) **PCA**"
      ],
      "metadata": {
        "id": "O-O4dFtGmn-i"
      }
    },
    {
      "cell_type": "code",
      "source": [
        "# pca projection function for a given number of components\n",
        "def pca_projection(dataset_x, components):\n",
        "  pca = PCA(n_components = components)\n",
        "\n",
        "  return pca.fit_transform(X = dataset_x)\n",
        "\n",
        "# resulting projections\n",
        "pca_projections_dict = {\n",
        "    \"10_pc\": pca_projection(x_train, 10),\n",
        "    \"20_pc\": pca_projection(x_train, 20),\n",
        "    \"30_pc\": pca_projection(x_train, 30)\n",
        "}\n",
        "\n"
      ],
      "metadata": {
        "id": "CuzesYG7msLX"
      },
      "execution_count": 77,
      "outputs": []
    },
    {
      "cell_type": "markdown",
      "source": [
        "## 3) **Augmentation**"
      ],
      "metadata": {
        "id": "znGNkIQumszG"
      }
    },
    {
      "cell_type": "code",
      "source": [
        "# function that augments the image\n",
        "param = {\n",
        "    \"degree_min\": -15,\n",
        "    \"degree_max\": 15,\n",
        "    \"translate_min\": -5,\n",
        "    \"translate_max\": 5\n",
        "}\n",
        "\n",
        "\n",
        "# function that augments the image\n",
        "def augment_image(images, labels, param):\n",
        "  random_degree = rand.randrange(param[\"degree_min\"], param[\"degree_max\"] + 1)\n",
        "  translation_x = rand.randrange(param[\"translate_min\"], param[\"translate_max\"] + 1)\n",
        "  translation_y = rand.randrange(param[\"translate_min\"], param[\"translate_max\"] + 1)\n",
        "\n",
        "  dataframe_shape = images.shape\n",
        "  images_copy = images.copy()\n",
        "  labels_copy = labels.copy()\n",
        "\n",
        "  # loop through each image and augment it\n",
        "  for idx in range(dataframe_shape[0]):\n",
        "    # rotate and then translate\n",
        "    img_np_array = images.iloc[idx, :].to_numpy().reshape(28, 28)\n",
        "    rotated_img = rotate(img_np_array, random_degree)\n",
        "    translate_img = np.roll(img_np_array, translation_x, axis = 1)\n",
        "    transformed_img = np.roll(translate_img, translation_y, axis = 0)\n",
        "\n",
        "    images_copy = images_copy._append(pd.Series(transformed_img.reshape(-1)))\n",
        "\n",
        "\n",
        "# testing\n",
        "  # print(random_degree)\n",
        "  # plt.imshow(rotate(images.iloc[300, :].to_numpy().reshape(28, 28), 0))\n",
        "  # plt.imshow(np.roll(images.iloc[300, :].to_numpy().reshape(28, 28), 5, axis = 0))\n",
        "\n",
        "\n",
        "augment_image(x_train, y_train, param)\n"
      ],
      "metadata": {
        "id": "Ho7LSBJpmwmy",
        "colab": {
          "base_uri": "https://localhost:8080/",
          "height": 342
        },
        "outputId": "620d036c-6a07-4e5e-baaf-1d7d7ff2965c"
      },
      "execution_count": null,
      "outputs": [
        {
          "output_type": "error",
          "ename": "TypeError",
          "evalue": "Can only append a Series if ignore_index=True or if the Series has a name",
          "traceback": [
            "\u001b[0;31m---------------------------------------------------------------------------\u001b[0m",
            "\u001b[0;31mTypeError\u001b[0m                                 Traceback (most recent call last)",
            "\u001b[0;32m<ipython-input-10-da043340cd7e>\u001b[0m in \u001b[0;36m<cell line: 37>\u001b[0;34m()\u001b[0m\n\u001b[1;32m     35\u001b[0m \u001b[0;34m\u001b[0m\u001b[0m\n\u001b[1;32m     36\u001b[0m \u001b[0;34m\u001b[0m\u001b[0m\n\u001b[0;32m---> 37\u001b[0;31m \u001b[0maugment_image\u001b[0m\u001b[0;34m(\u001b[0m\u001b[0mx_train\u001b[0m\u001b[0;34m,\u001b[0m \u001b[0my_train\u001b[0m\u001b[0;34m,\u001b[0m \u001b[0mparam\u001b[0m\u001b[0;34m)\u001b[0m\u001b[0;34m\u001b[0m\u001b[0;34m\u001b[0m\u001b[0m\n\u001b[0m",
            "\u001b[0;32m<ipython-input-10-da043340cd7e>\u001b[0m in \u001b[0;36maugment_image\u001b[0;34m(images, labels, param)\u001b[0m\n\u001b[1;32m     26\u001b[0m     \u001b[0mtransformed_img\u001b[0m \u001b[0;34m=\u001b[0m \u001b[0mnp\u001b[0m\u001b[0;34m.\u001b[0m\u001b[0mroll\u001b[0m\u001b[0;34m(\u001b[0m\u001b[0mtranslate_img\u001b[0m\u001b[0;34m,\u001b[0m \u001b[0mtranslation_y\u001b[0m\u001b[0;34m,\u001b[0m \u001b[0maxis\u001b[0m \u001b[0;34m=\u001b[0m \u001b[0;36m0\u001b[0m\u001b[0;34m)\u001b[0m\u001b[0;34m\u001b[0m\u001b[0;34m\u001b[0m\u001b[0m\n\u001b[1;32m     27\u001b[0m \u001b[0;34m\u001b[0m\u001b[0m\n\u001b[0;32m---> 28\u001b[0;31m     \u001b[0mimages_copy\u001b[0m \u001b[0;34m=\u001b[0m \u001b[0mimages_copy\u001b[0m\u001b[0;34m.\u001b[0m\u001b[0m_append\u001b[0m\u001b[0;34m(\u001b[0m\u001b[0mpd\u001b[0m\u001b[0;34m.\u001b[0m\u001b[0mSeries\u001b[0m\u001b[0;34m(\u001b[0m\u001b[0mtransformed_img\u001b[0m\u001b[0;34m.\u001b[0m\u001b[0mreshape\u001b[0m\u001b[0;34m(\u001b[0m\u001b[0;34m-\u001b[0m\u001b[0;36m1\u001b[0m\u001b[0;34m)\u001b[0m\u001b[0;34m)\u001b[0m\u001b[0;34m)\u001b[0m\u001b[0;34m\u001b[0m\u001b[0;34m\u001b[0m\u001b[0m\n\u001b[0m\u001b[1;32m     29\u001b[0m \u001b[0;34m\u001b[0m\u001b[0m\n\u001b[1;32m     30\u001b[0m \u001b[0;34m\u001b[0m\u001b[0m\n",
            "\u001b[0;32m/usr/local/lib/python3.10/dist-packages/pandas/core/frame.py\u001b[0m in \u001b[0;36m_append\u001b[0;34m(self, other, ignore_index, verify_integrity, sort)\u001b[0m\n\u001b[1;32m  10538\u001b[0m                 \u001b[0mother\u001b[0m \u001b[0;34m=\u001b[0m \u001b[0mSeries\u001b[0m\u001b[0;34m(\u001b[0m\u001b[0mother\u001b[0m\u001b[0;34m)\u001b[0m\u001b[0;34m\u001b[0m\u001b[0;34m\u001b[0m\u001b[0m\n\u001b[1;32m  10539\u001b[0m             \u001b[0;32mif\u001b[0m \u001b[0mother\u001b[0m\u001b[0;34m.\u001b[0m\u001b[0mname\u001b[0m \u001b[0;32mis\u001b[0m \u001b[0;32mNone\u001b[0m \u001b[0;32mand\u001b[0m \u001b[0;32mnot\u001b[0m \u001b[0mignore_index\u001b[0m\u001b[0;34m:\u001b[0m\u001b[0;34m\u001b[0m\u001b[0;34m\u001b[0m\u001b[0m\n\u001b[0;32m> 10540\u001b[0;31m                 raise TypeError(\n\u001b[0m\u001b[1;32m  10541\u001b[0m                     \u001b[0;34m\"Can only append a Series if ignore_index=True \"\u001b[0m\u001b[0;34m\u001b[0m\u001b[0;34m\u001b[0m\u001b[0m\n\u001b[1;32m  10542\u001b[0m                     \u001b[0;34m\"or if the Series has a name\"\u001b[0m\u001b[0;34m\u001b[0m\u001b[0;34m\u001b[0m\u001b[0m\n",
            "\u001b[0;31mTypeError\u001b[0m: Can only append a Series if ignore_index=True or if the Series has a name"
          ]
        }
      ]
    },
    {
      "cell_type": "markdown",
      "source": [
        "## **Sources**\n",
        "scikit-learn.org\n",
        "\n",
        "https://stackoverflow.com/questions/53171057/numpy-matrix-rotation-for-any-degrees\n",
        "\n",
        "https://docs.scipy.org/doc/scipy/reference/generated/scipy.ndimage.rotate.html\n",
        "\n",
        "https://pandas.pydata.org/docs/reference/api/pandas.DataFrame.copy.html\n",
        "\n",
        "\n"
      ],
      "metadata": {
        "id": "Ljf2Kxxrux-b"
      }
    },
    {
      "cell_type": "code",
      "source": [],
      "metadata": {
        "id": "avn0KoG7LJvc"
      },
      "execution_count": null,
      "outputs": []
    }
  ]
}