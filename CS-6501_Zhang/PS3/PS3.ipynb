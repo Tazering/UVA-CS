{
  "nbformat": 4,
  "nbformat_minor": 0,
  "metadata": {
    "colab": {
      "provenance": []
    },
    "kernelspec": {
      "name": "python3",
      "display_name": "Python 3"
    },
    "language_info": {
      "name": "python"
    }
  },
  "cells": [
    {
      "cell_type": "markdown",
      "source": [
        "# ***PS3***"
      ],
      "metadata": {
        "id": "njjti26bk405"
      }
    },
    {
      "cell_type": "code",
      "source": [
        "# import libraries\n",
        "import numpy as np\n",
        "import pandas as pd\n",
        "import matplotlib.pyplot as plt\n",
        "from sklearn.decomposition import PCA\n",
        "import random as rand\n",
        "from PIL import Image\n",
        "from scipy.ndimage import rotate\n",
        "import math\n",
        "import time"
      ],
      "metadata": {
        "id": "iy3Sxvq_tXYy"
      },
      "execution_count": 30,
      "outputs": []
    },
    {
      "cell_type": "code",
      "source": [
        "# grab the data\n",
        "filepaths = {\n",
        "    \"x_train\": \"./trainX.txt\",\n",
        "    \"y_train\": \"./trainY.txt\",\n",
        "    \"x_test\": \"./testX.txt\",\n",
        "    \"y_test\": \"./testY.txt\"\n",
        "}\n",
        "x_train = pd.read_csv(filepaths[\"x_train\"])\n",
        "y_train = pd.read_csv(filepaths[\"y_train\"])\n",
        "x_test = pd.read_csv(filepaths[\"x_test\"])\n",
        "y_test = pd.read_csv(filepaths[\"y_test\"])\n",
        "\n",
        "print(x_train.shape)"
      ],
      "metadata": {
        "id": "ZPJZUq29teao",
        "colab": {
          "base_uri": "https://localhost:8080/"
        },
        "outputId": "cdb39197-dae6-4258-f24a-053b111cba25"
      },
      "execution_count": 2,
      "outputs": [
        {
          "output_type": "stream",
          "name": "stdout",
          "text": [
            "(470, 784)\n"
          ]
        }
      ]
    },
    {
      "cell_type": "code",
      "source": [
        "test = x_train.iloc[300, :].to_numpy()\n",
        "test2 = test.reshape(28, 28)\n",
        "print(test.shape)\n",
        "print(test2.shape)\n",
        "plt.imshow(test2)"
      ],
      "metadata": {
        "colab": {
          "base_uri": "https://localhost:8080/",
          "height": 502
        },
        "id": "6L-u0rGdKGyz",
        "outputId": "a15b355b-0baf-4230-cfd7-dfc7afc3a57a"
      },
      "execution_count": 3,
      "outputs": [
        {
          "output_type": "stream",
          "name": "stdout",
          "text": [
            "(784,)\n",
            "(28, 28)\n"
          ]
        },
        {
          "output_type": "execute_result",
          "data": {
            "text/plain": [
              "<matplotlib.image.AxesImage at 0x7ce0a67f3f70>"
            ]
          },
          "metadata": {},
          "execution_count": 3
        },
        {
          "output_type": "display_data",
          "data": {
            "text/plain": [
              "<Figure size 640x480 with 1 Axes>"
            ],
            "image/png": "[encoded data removed]"
          },
          "metadata": {}
        }
      ]
    },
    {
      "cell_type": "markdown",
      "source": [
        "## 1) **Bayesian Logistic Regression for Image Classification**"
      ],
      "metadata": {
        "id": "CHeA2Bu1kji-"
      }
    },
    {
      "cell_type": "code",
      "execution_count": 76,
      "metadata": {
        "id": "0b6ILUfRkivf"
      },
      "outputs": [],
      "source": [
        "# create bayesian logistic regression class object\n",
        "class BayesianLogisticRegression:\n",
        "\n",
        "  # member variables\n",
        "  sigma = 1\n",
        "\n",
        "  # constructor\n",
        "  def __init__(self, sigma = 1):\n",
        "    self.sigma = sigma\n",
        "    self.beta = []\n",
        "\n",
        "  # fitting\n",
        "  def fit(self, X, Y, params = {\"epsilon\": .1, \"learning_rate\": .0001}, X_test = [], Y_test = []):\n",
        "\n",
        "    # add bias to X data\n",
        "    X_bias = np.hstack((np.ones(shape = (X.shape[0], 1)), X))\n",
        "    X_bias_shape = X_bias.shape\n",
        "    loss = []\n",
        "\n",
        "    # randomly initialize beta\n",
        "    self.beta = np.random.normal(0, self.sigma, size = (X_bias_shape[1], 1))\n",
        "\n",
        "    likelihood_grad_norm = 100\n",
        "\n",
        "    # calculate the gradient\n",
        "    while likelihood_grad_norm > params[\"epsilon\"]:\n",
        "      lin_comb = np.exp(-X_bias @ self.beta) # n x 1\n",
        "\n",
        "      grad = np.sum(((1 - Y) - (lin_comb/ (1 + lin_comb))) * X_bias, axis = 0)\n",
        "      regularization = self.beta/(self.sigma ** 2)\n",
        "\n",
        "      likelihood_grad = grad[:, np.newaxis] + regularization\n",
        "\n",
        "      self.beta -= params[\"learning_rate\"] * likelihood_grad\n",
        "\n",
        "      likelihood_grad_norm = np.linalg.norm(likelihood_grad)\n",
        "\n",
        "      y_pred = self.predict(X_test)\n",
        "      loss.append(self.loss(y_pred, Y_test))\n",
        "\n",
        "    return loss\n",
        "\n",
        "\n",
        "  # loss function\n",
        "  def loss(self, y_pred, y_true): # order does matter for classes\n",
        "    # calculate loss\n",
        "    m = y_pred.shape[0]\n",
        "\n",
        "    num_correct = np.sum(abs(y_pred - y_true))\n",
        "\n",
        "    return num_correct / m\n",
        "\n",
        "  # prediction\n",
        "  def predict(self, X):\n",
        "    X_bias = np.hstack((np.ones(shape = (X.shape[0], 1)), X))\n",
        "    X_bias_shape = X_bias.shape\n",
        "\n",
        "    pred = 1 / (1 + np.exp(-X_bias @ self.beta))\n",
        "    results = []\n",
        "\n",
        "    for idx in range(pred.shape[0]):\n",
        "      if pred[idx] > (1-pred[idx]):\n",
        "        results.append(1)\n",
        "      else:\n",
        "        results.append(0)\n",
        "    return np.array(results)[:, np.newaxis]\n"
      ]
    },
    {
      "cell_type": "markdown",
      "source": [
        "### d)"
      ],
      "metadata": {
        "id": "c5POmj_qgWea"
      }
    },
    {
      "cell_type": "code",
      "source": [
        "# extract only 1's and 0's\n",
        "def extract_certain_values(X, Y, values):\n",
        "  X = X.to_numpy()\n",
        "  Y = Y.to_numpy()\n",
        "\n",
        "  X_output = []\n",
        "  Y_output = []\n",
        "\n",
        "  for idx in range(X.shape[0]):\n",
        "    if Y[idx] in values:\n",
        "      X_output.append(X[idx, :])\n",
        "      Y_output.append(Y[idx])\n",
        "\n",
        "  return np.array(X_output), np.array(Y_output)"
      ],
      "metadata": {
        "id": "cy0LZ-CBapZk"
      },
      "execution_count": 77,
      "outputs": []
    },
    {
      "cell_type": "code",
      "source": [
        "x_train_0_1, y_train_0_1 = extract_certain_values(x_train, y_train, values = [0, 1])\n",
        "x_test_0_1, y_test_0_1 = extract_certain_values(x_test, y_test, values = [0, 1])"
      ],
      "metadata": {
        "id": "QP32LhTobVBa"
      },
      "execution_count": 78,
      "outputs": []
    },
    {
      "cell_type": "markdown",
      "source": [
        "### e)"
      ],
      "metadata": {
        "id": "SZd9L_ryg7mH"
      }
    },
    {
      "cell_type": "code",
      "source": [
        "bayesian_model = BayesianLogisticRegression(sigma = 1)\n",
        "params = {\"epsilon\": .01, \"learning_rate\": .001}\n",
        "loss = bayesian_model.fit(X = x_train_0_1, Y = y_train_0_1, X_test = x_test_0_1, Y_test = y_test_0_1, params = params)\n",
        "\n",
        "plt.plot(loss)\n",
        "y_pred = bayesian_model.predict(x_test_0_1)"
      ],
      "metadata": {
        "colab": {
          "base_uri": "https://localhost:8080/",
          "height": 450
        },
        "id": "H5f0UhYjD2df",
        "outputId": "33d99f92-d392-4b21-f1e4-6d7a56aad31e"
      },
      "execution_count": 79,
      "outputs": [
        {
          "output_type": "display_data",
          "data": {
            "text/plain": [
              "<Figure size 640x480 with 1 Axes>"
            ],
            "image/png": "[encoded data removed]"
          },
          "metadata": {}
        }
      ]
    },
    {
      "cell_type": "code",
      "source": [
        "error_rate = bayesian_model.loss(y_pred = y_pred, y_true = y_test_0_1)\n",
        "print(f\"The error rate: {error_rate}\")"
      ],
      "metadata": {
        "colab": {
          "base_uri": "https://localhost:8080/"
        },
        "id": "ajAyS0_1g-1K",
        "outputId": "c2dcdc16-6d13-4c61-ca7a-5fa098a953d1"
      },
      "execution_count": 16,
      "outputs": [
        {
          "output_type": "stream",
          "name": "stdout",
          "text": [
            "The error rate: 0.0\n"
          ]
        }
      ]
    },
    {
      "cell_type": "markdown",
      "source": [
        "### f)"
      ],
      "metadata": {
        "id": "chsLavijhPxM"
      }
    },
    {
      "cell_type": "code",
      "source": [
        "bayesian_model_6_8 = BayesianLogisticRegression(sigma = .1)\n",
        "x_train_6_8, y_train_6_8 = extract_certain_values(x_train, y_train, values = [6, 8])\n",
        "x_test_6_8, y_test_6_8 = extract_certain_values(x_test, y_test, values = [6, 8])"
      ],
      "metadata": {
        "id": "8hCMqvXxhO1Y"
      },
      "execution_count": 17,
      "outputs": []
    },
    {
      "cell_type": "code",
      "source": [
        "params = {\n",
        "    \"epsilon\": .01,\n",
        "    \"learning_rate\": .001\n",
        "}\n",
        "\n",
        "y_train_6_8[y_train_6_8 == 6] = 0\n",
        "y_train_6_8[y_train_6_8 == 8] = 1\n",
        "y_test_6_8[y_test_6_8 == 6] = 0\n",
        "y_test_6_8[y_test_6_8 == 8] = 1\n",
        "\n",
        "loss = bayesian_model_6_8.fit(X = x_train_6_8, Y = y_train_6_8, X_test = x_test_6_8, Y_test = y_test_6_8,\n",
        "                              params = params)\n",
        "y_pred = bayesian_model_6_8.predict(x_test_6_8)\n",
        "error_rate = bayesian_model_6_8.loss(y_pred = y_pred, y_true = y_test_6_8)\n",
        "plt.plot(loss)"
      ],
      "metadata": {
        "colab": {
          "base_uri": "https://localhost:8080/",
          "height": 467
        },
        "id": "sqlA4KYKh5rK",
        "outputId": "82c1a103-d66b-4acd-c203-b06f5a5c484b"
      },
      "execution_count": 18,
      "outputs": [
        {
          "output_type": "execute_result",
          "data": {
            "text/plain": [
              "[<matplotlib.lines.Line2D at 0x7ce0a5dd4f10>]"
            ]
          },
          "metadata": {},
          "execution_count": 18
        },
        {
          "output_type": "display_data",
          "data": {
            "text/plain": [
              "<Figure size 640x480 with 1 Axes>"
            ],
            "image/png": "[encoded data removed]"
          },
          "metadata": {}
        }
      ]
    },
    {
      "cell_type": "code",
      "source": [
        "print(f\"The Error Rate: {error_rate}\")"
      ],
      "metadata": {
        "colab": {
          "base_uri": "https://localhost:8080/"
        },
        "id": "Q3G1I2rs6YUX",
        "outputId": "dc75fa13-a721-4b17-9d0d-7ff31c51b8bc"
      },
      "execution_count": 19,
      "outputs": [
        {
          "output_type": "stream",
          "name": "stdout",
          "text": [
            "The Error Rate: 0.017857142857142856\n"
          ]
        }
      ]
    },
    {
      "cell_type": "markdown",
      "source": [
        "## 2) **PCA**"
      ],
      "metadata": {
        "id": "O-O4dFtGmn-i"
      }
    },
    {
      "cell_type": "code",
      "source": [
        "# pca projection function for a given number of components\n",
        "def pca_projection(dataset_x, components):\n",
        "  pca = PCA(n_components = components)\n",
        "\n",
        "  return pca.fit_transform(X = dataset_x)\n",
        "\n",
        "# resulting projections\n",
        "pca_projections_dict = {\n",
        "    \"10_pc_train\": pca_projection(x_train_0_1, 10),\n",
        "    \"20_pc_train\": pca_projection(x_train_0_1, 20),\n",
        "    \"30_pc_train\": pca_projection(x_train_0_1, 30),\n",
        "    \"10_pc_test\": pca_projection(x_test_0_1, 10),\n",
        "    \"20_pc_test\": pca_projection(x_test_0_1, 20),\n",
        "    \"30_pc_test\": pca_projection(x_test_0_1, 30)\n",
        "}\n",
        "\n",
        "params = {\"epsilon\": .01, \"learning_rate\": .001, \"sigma\": 1}\n",
        "\n",
        "bayesian_network_PCA = BayesianLogisticRegression(sigma = params[\"sigma\"])"
      ],
      "metadata": {
        "id": "CuzesYG7msLX"
      },
      "execution_count": 27,
      "outputs": []
    },
    {
      "cell_type": "code",
      "source": [
        "# run with with pca\n",
        "pca_run_results = []\n",
        "for pc in [\"10_pc_\", \"20_pc_\", \"30_pc_\"]:\n",
        "  start = time.time()\n",
        "  bayesian_network_PCA = BayesianLogisticRegression(sigma = params[\"sigma\"])\n",
        "  loss = bayesian_network_PCA.fit(X = pca_projections_dict[pc + \"train\"],\n",
        "                                   Y = y_train_0_1,\n",
        "                                   X_test = pca_projections_dict[pc + \"test\"],\n",
        "                                   Y_test = y_test_0_1,\n",
        "                                   params = params)\n",
        "  end = time.time()\n",
        "\n",
        "  pca_run_results.append((loss[-1], end - start))\n",
        "\n",
        "print(f\"10 PC:\\n\\tAccuracy: {1 - pca_run_results[0][0]}\\n\\tElapsed Time: {pca_run_results[0][1]}s\")\n",
        "print(f\"20 PC:\\n\\tAccuracy: {1 - pca_run_results[1][0]}\\n\\tElapsed Time: {pca_run_results[1][1]}s\")\n",
        "print(f\"30 PC:\\n\\tAccuracy: {1 - pca_run_results[2][0]}\\n\\tElapsed Time: {pca_run_results[2][1]}s\")"
      ],
      "metadata": {
        "colab": {
          "base_uri": "https://localhost:8080/"
        },
        "id": "nbjrqFSnV5aK",
        "outputId": "5d77a225-bb0c-4ae0-b414-ecc92e54c8cc"
      },
      "execution_count": 37,
      "outputs": [
        {
          "output_type": "stream",
          "name": "stdout",
          "text": [
            "10 PC:\n",
            "\tAccuracy: 0.9912280701754386\n",
            "\tElapsed Time: 3.161742687225342s\n",
            "20 PC:\n",
            "\tAccuracy: 0.9912280701754386\n",
            "\tElapsed Time: 1.9795033931732178s\n",
            "30 PC:\n",
            "\tAccuracy: 0.9912280701754386\n",
            "\tElapsed Time: 2.2426066398620605s\n"
          ]
        }
      ]
    },
    {
      "cell_type": "markdown",
      "source": [
        "## 3) **Augmentation**"
      ],
      "metadata": {
        "id": "znGNkIQumszG"
      }
    },
    {
      "cell_type": "code",
      "source": [
        "# function that augments the image\n",
        "param = {\n",
        "    \"degree_min\": -15,\n",
        "    \"degree_max\": 15,\n",
        "    \"translate_min\": -5,\n",
        "    \"translate_max\": 5,\n",
        "    \"multiplier\": 3\n",
        "}\n",
        "\n",
        "\n",
        "# function that augments the image\n",
        "def augment_image(images, labels, param):\n",
        "  # generate random values\n",
        "  random_degree = rand.randrange(param[\"degree_min\"], param[\"degree_max\"] + 1)\n",
        "  translation_x = rand.randrange(param[\"translate_min\"], param[\"translate_max\"] + 1)\n",
        "  translation_y = rand.randrange(param[\"translate_min\"], param[\"translate_max\"] + 1)\n",
        "\n",
        "  images_shape = images.shape\n",
        "  images_copy = images.copy()\n",
        "  labels_copy = labels.copy()\n",
        "  # loop through each image and augment it\n",
        "\n",
        "  for multiplier_value in range(param[\"multiplier\"] - 1):\n",
        "    for idx in range(images_shape[0]):\n",
        "      # rotate and then translate\n",
        "      img_np_array = images[idx, :].reshape(28, 28)\n",
        "      rotated_img = rotate(img_np_array, random_degree)\n",
        "      translate_img = np.roll(img_np_array, translation_x, axis = 1)\n",
        "      transformed_img = np.roll(translate_img, translation_y, axis = 0)\n",
        "\n",
        "      images_copy = np.append(images_copy, transformed_img.reshape(1, -1), axis = 0)\n",
        "      labels_copy = np.append(labels_copy, labels[idx])\n",
        "\n",
        "  return images_copy, labels_copy[:, np.newaxis]"
      ],
      "metadata": {
        "id": "Ho7LSBJpmwmy"
      },
      "execution_count": 83,
      "outputs": []
    },
    {
      "cell_type": "code",
      "source": [
        "for multiplier_val in [3, 5]:\n",
        "  # set the parameters for the augmentation\n",
        "  param = {\n",
        "    \"degree_min\": -15,\n",
        "    \"degree_max\": 15,\n",
        "    \"translate_min\": -5,\n",
        "    \"translate_max\": 5,\n",
        "    \"multiplier\": multiplier_val\n",
        "  }\n",
        "\n",
        "  # for the model\n",
        "  params = {\"epsilon\": .01, \"learning_rate\": .001, \"sigma\": 1}\n",
        "\n",
        "  augmented_x_train_6_8, augmented_y_train_6_8 = augment_image(x_train_6_8, y_train_6_8, param)\n",
        "\n",
        "  # print(y_train_6_8.shape)\n",
        "\n",
        "  bayesian_network = BayesianLogisticRegression(sigma = 1)\n",
        "  loss = bayesian_network.fit(X = augmented_x_train_6_8, Y = augmented_y_train_6_8, params = params, X_test = x_test_6_8, Y_test = y_test_6_8)\n",
        "\n",
        "  print(f\"Accuracy for {multiplier_val} times: {1 - loss[-1]}\")\n"
      ],
      "metadata": {
        "colab": {
          "base_uri": "https://localhost:8080/"
        },
        "id": "zF8JGQiEeYc7",
        "outputId": "0e6e6d1b-f632-41ce-c9f4-9adc7eec15dd"
      },
      "execution_count": 84,
      "outputs": [
        {
          "output_type": "stream",
          "name": "stdout",
          "text": [
            "Accuracy for 3 times: 0.9821428571428571\n",
            "Accuracy for 5 times: 0.9821428571428571\n"
          ]
        }
      ]
    },
    {
      "cell_type": "markdown",
      "source": [
        "## **Sources**\n",
        "scikit-learn.org\n",
        "\n",
        "https://stackoverflow.com/questions/53171057/numpy-matrix-rotation-for-any-degrees\n",
        "\n",
        "https://docs.scipy.org/doc/scipy/reference/generated/scipy.ndimage.rotate.html\n",
        "\n",
        "https://pandas.pydata.org/docs/reference/api/pandas.DataFrame.copy.html\n",
        "\n",
        "\n"
      ],
      "metadata": {
        "id": "Ljf2Kxxrux-b"
      }
    },
    {
      "cell_type": "code",
      "source": [],
      "metadata": {
        "id": "avn0KoG7LJvc"
      },
      "execution_count": null,
      "outputs": []
    }
  ]
}