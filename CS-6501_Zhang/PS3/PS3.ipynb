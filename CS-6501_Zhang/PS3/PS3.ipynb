{
  "nbformat": 4,
  "nbformat_minor": 0,
  "metadata": {
    "colab": {
      "provenance": []
    },
    "kernelspec": {
      "name": "python3",
      "display_name": "Python 3"
    },
    "language_info": {
      "name": "python"
    }
  },
  "cells": [
    {
      "cell_type": "markdown",
      "source": [
        "# ***PS3***"
      ],
      "metadata": {
        "id": "njjti26bk405"
      }
    },
    {
      "cell_type": "code",
      "source": [
        "# import libraries\n",
        "import numpy as np\n",
        "import pandas as pd\n",
        "import matplotlib.pyplot as plt\n",
        "from sklearn.decomposition import PCA\n",
        "import random as rand\n",
        "from PIL import Image\n",
        "from scipy.ndimage import rotate"
      ],
      "metadata": {
        "id": "iy3Sxvq_tXYy"
      },
      "execution_count": 23,
      "outputs": []
    },
    {
      "cell_type": "code",
      "source": [
        "# grab the data\n",
        "filepaths = {\n",
        "    \"x_train\": \"./trainX.txt\",\n",
        "    \"y_train\": \"./trainY.txt\",\n",
        "    \"x_test\": \"./testX.txt\",\n",
        "    \"y_test\": \"./testY.txt\"\n",
        "}\n",
        "x_train = pd.read_csv(filepaths[\"x_train\"])\n",
        "y_train = pd.read_csv(filepaths[\"y_train\"])\n",
        "x_test = pd.read_csv(filepaths[\"x_test\"])\n",
        "y_test = pd.read_csv(filepaths[\"y_test\"])\n",
        "\n",
        "print(x_train.shape)"
      ],
      "metadata": {
        "id": "ZPJZUq29teao",
        "colab": {
          "base_uri": "https://localhost:8080/"
        },
        "outputId": "70a3222f-763f-4d19-cbb0-97b15a5b1cd1"
      },
      "execution_count": 13,
      "outputs": [
        {
          "output_type": "stream",
          "name": "stdout",
          "text": [
            "(470, 784)\n"
          ]
        }
      ]
    },
    {
      "cell_type": "code",
      "source": [
        "test = x_train.iloc[300, :].to_numpy()\n",
        "test2 = test.reshape(28, 28)\n",
        "print(test2.shape)\n",
        "plt.imshow(test2)"
      ],
      "metadata": {
        "colab": {
          "base_uri": "https://localhost:8080/",
          "height": 485
        },
        "id": "6L-u0rGdKGyz",
        "outputId": "16db11af-d456-4aaf-a4ee-80daf2363879"
      },
      "execution_count": 22,
      "outputs": [
        {
          "output_type": "stream",
          "name": "stdout",
          "text": [
            "(28, 28)\n"
          ]
        },
        {
          "output_type": "execute_result",
          "data": {
            "text/plain": [
              "<matplotlib.image.AxesImage at 0x7a39c92d72b0>"
            ]
          },
          "metadata": {},
          "execution_count": 22
        },
        {
          "output_type": "display_data",
          "data": {
            "text/plain": [
              "<Figure size 640x480 with 1 Axes>"
            ],
            "image/png": "[encoded data removed]"
          },
          "metadata": {}
        }
      ]
    },
    {
      "cell_type": "markdown",
      "source": [
        "## 1) **Bayesian Logistic Regression for Image Classification**"
      ],
      "metadata": {
        "id": "CHeA2Bu1kji-"
      }
    },
    {
      "cell_type": "code",
      "execution_count": null,
      "metadata": {
        "id": "0b6ILUfRkivf"
      },
      "outputs": [],
      "source": []
    },
    {
      "cell_type": "markdown",
      "source": [
        "## 2) **PCA**"
      ],
      "metadata": {
        "id": "O-O4dFtGmn-i"
      }
    },
    {
      "cell_type": "code",
      "source": [
        "# pca projection function for a given number of components\n",
        "def pca_projection(dataset_x, components):\n",
        "  pca = PCA(n_components = components)\n",
        "\n",
        "  return pca.fit_transform(X = dataset_x)\n",
        "\n",
        "# resulting projections\n",
        "pca_projections_dict = {\n",
        "    \"10_pc\": pca_projection(x_train, 10),\n",
        "    \"20_pc\": pca_projection(x_train, 20),\n",
        "    \"30_pc\": pca_projection(x_train, 30)\n",
        "}"
      ],
      "metadata": {
        "id": "CuzesYG7msLX"
      },
      "execution_count": 6,
      "outputs": []
    },
    {
      "cell_type": "markdown",
      "source": [
        "## 3) **Augmentation**"
      ],
      "metadata": {
        "id": "znGNkIQumszG"
      }
    },
    {
      "cell_type": "code",
      "source": [
        "# function that augments the image\n",
        "param = {\n",
        "    \"degree_min\": -15,\n",
        "    \"degree_max\": 15,\n",
        "    \"translate_min\": -5,\n",
        "    \"translate_max\": 5\n",
        "}\n",
        "\n",
        "\n",
        "def augment_image(images, param):\n",
        "  random_degree = rand.randrange(param[\"degree_min\"], param[\"degree_max\"] + 1)\n",
        "  translation_x = rand.randrange(param[\"translate_min\"], param[\"translate_max\"] + 1)\n",
        "  translation_y = rand.randrange(param[\"translate_min\"], param[\"translate_max\"] + 1)\n",
        "\n",
        "\n",
        "\n",
        "  print(random_degree)\n",
        "  plt.imshow(rotate(images.iloc[300, :].to_numpy().reshape(28, 28), 0))\n",
        "\n",
        "\n",
        "augment_image(x_train, param)\n"
      ],
      "metadata": {
        "id": "Ho7LSBJpmwmy",
        "colab": {
          "base_uri": "https://localhost:8080/",
          "height": 467
        },
        "outputId": "a43bde1b-e3b8-42b0-dafa-754b9b0a8605"
      },
      "execution_count": 30,
      "outputs": [
        {
          "output_type": "stream",
          "name": "stdout",
          "text": [
            "-12\n"
          ]
        },
        {
          "output_type": "display_data",
          "data": {
            "text/plain": [
              "<Figure size 640x480 with 1 Axes>"
            ],
            "image/png": "[encoded data removed]"
          },
          "metadata": {}
        }
      ]
    },
    {
      "cell_type": "markdown",
      "source": [
        "## **Sources**\n",
        "scikit-learn.org\n",
        "\n",
        "https://stackoverflow.com/questions/53171057/numpy-matrix-rotation-for-any-degrees\n",
        "\n",
        "https://docs.scipy.org/doc/scipy/reference/generated/scipy.ndimage.rotate.html\n",
        "\n"
      ],
      "metadata": {
        "id": "Ljf2Kxxrux-b"
      }
    },
    {
      "cell_type": "code",
      "source": [],
      "metadata": {
        "id": "avn0KoG7LJvc"
      },
      "execution_count": null,
      "outputs": []
    }
  ]
}