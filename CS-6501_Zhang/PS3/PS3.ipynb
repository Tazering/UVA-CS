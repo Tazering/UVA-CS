{
  "nbformat": 4,
  "nbformat_minor": 0,
  "metadata": {
    "colab": {
      "provenance": []
    },
    "kernelspec": {
      "name": "python3",
      "display_name": "Python 3"
    },
    "language_info": {
      "name": "python"
    }
  },
  "cells": [
    {
      "cell_type": "markdown",
      "source": [
        "# ***PS3***"
      ],
      "metadata": {
        "id": "njjti26bk405"
      }
    },
    {
      "cell_type": "code",
      "source": [
        "# import libraries\n",
        "import numpy as np\n",
        "import pandas as pd\n",
        "import matplotlib.pyplot as plt\n",
        "from sklearn.decomposition import PCA\n",
        "import random as rand\n",
        "from PIL import Image\n",
        "from scipy.ndimage import rotate\n",
        "import math"
      ],
      "metadata": {
        "id": "iy3Sxvq_tXYy"
      },
      "execution_count": 1,
      "outputs": []
    },
    {
      "cell_type": "code",
      "source": [
        "# grab the data\n",
        "filepaths = {\n",
        "    \"x_train\": \"./trainX.txt\",\n",
        "    \"y_train\": \"./trainY.txt\",\n",
        "    \"x_test\": \"./testX.txt\",\n",
        "    \"y_test\": \"./testY.txt\"\n",
        "}\n",
        "x_train = pd.read_csv(filepaths[\"x_train\"])\n",
        "y_train = pd.read_csv(filepaths[\"y_train\"])\n",
        "x_test = pd.read_csv(filepaths[\"x_test\"])\n",
        "y_test = pd.read_csv(filepaths[\"y_test\"])\n",
        "\n",
        "print(x_train.shape)"
      ],
      "metadata": {
        "id": "ZPJZUq29teao",
        "colab": {
          "base_uri": "https://localhost:8080/"
        },
        "outputId": "48d5c87f-c772-4108-c2a7-0fee73d96d2d"
      },
      "execution_count": 100,
      "outputs": [
        {
          "output_type": "stream",
          "name": "stdout",
          "text": [
            "(470, 784)\n"
          ]
        }
      ]
    },
    {
      "cell_type": "code",
      "source": [
        "test = x_train.iloc[300, :].to_numpy()\n",
        "test2 = test.reshape(28, 28)\n",
        "print(test.shape)\n",
        "print(test2.shape)\n",
        "plt.imshow(test2)"
      ],
      "metadata": {
        "colab": {
          "base_uri": "https://localhost:8080/",
          "height": 502
        },
        "id": "6L-u0rGdKGyz",
        "outputId": "9f61ec59-21ea-4a13-904f-9f7c559fe79e"
      },
      "execution_count": 3,
      "outputs": [
        {
          "output_type": "stream",
          "name": "stdout",
          "text": [
            "(784,)\n",
            "(28, 28)\n"
          ]
        },
        {
          "output_type": "execute_result",
          "data": {
            "text/plain": [
              "<matplotlib.image.AxesImage at 0x7cfbd5dfada0>"
            ]
          },
          "metadata": {},
          "execution_count": 3
        },
        {
          "output_type": "display_data",
          "data": {
            "text/plain": [
              "<Figure size 640x480 with 1 Axes>"
            ],
            "image/png": "[encoded data removed]"
          },
          "metadata": {}
        }
      ]
    },
    {
      "cell_type": "markdown",
      "source": [
        "## 1) **Bayesian Logistic Regression for Image Classification**"
      ],
      "metadata": {
        "id": "CHeA2Bu1kji-"
      }
    },
    {
      "cell_type": "code",
      "source": [
        "def vec_broadcast_to_mat_rows(vec, mat):\n",
        "  return (vec - np.ones(shape = vec.shape)) * mat\n",
        "\n",
        "vec = np.array([1,2,3])\n",
        "mat = np.arange(9).reshape((3,3))\n",
        "print(mat)\n",
        "print(vec_broadcast_to_mat_rows(vec, mat))"
      ],
      "metadata": {
        "colab": {
          "base_uri": "https://localhost:8080/"
        },
        "id": "5fsLUNK3Y_eJ",
        "outputId": "c4fe519e-8f91-4cfd-c758-c53b6c3392d5"
      },
      "execution_count": 211,
      "outputs": [
        {
          "output_type": "stream",
          "name": "stdout",
          "text": [
            "[[0 1 2]\n",
            " [3 4 5]\n",
            " [6 7 8]]\n",
            "[[ 0.  1.  4.]\n",
            " [ 0.  4. 10.]\n",
            " [ 0.  7. 16.]]\n"
          ]
        }
      ]
    },
    {
      "cell_type": "code",
      "execution_count": 204,
      "metadata": {
        "id": "0b6ILUfRkivf"
      },
      "outputs": [],
      "source": [
        "# create bayesian logistic regression class object\n",
        "class BayesianLogisticRegression:\n",
        "\n",
        "  # member variables\n",
        "  sigma = 1\n",
        "\n",
        "  # constructor\n",
        "  def __init__(self, sigma = 1):\n",
        "    self.sigma = sigma\n",
        "    self.beta = []\n",
        "\n",
        "  # fitting\n",
        "  def fit(self, X, Y, params = {\"epsilon\": .001, \"learning_rate\": .00001}, X_test = [], Y_test = []):\n",
        "    # add bias to X data\n",
        "    X_bias = np.hstack((np.ones(shape = (X.shape[0], 1)), X))\n",
        "    X_bias_shape = X_bias.shape\n",
        "    loss = []\n",
        "\n",
        "    # randomly initialize beta\n",
        "    self.beta = np.random.normal(0, self.sigma, size = (X_bias_shape[1], 1))\n",
        "\n",
        "    likelihood_grad_norm = 100\n",
        "\n",
        "    # calculate the gradient\n",
        "    # while likelihood_grad_norm > params[\"epsilon\"]:\n",
        "    for i in range(200):\n",
        "      lin_comb = np.exp(-X_bias @ self.beta) # n x 1\n",
        "\n",
        "      grad = np.sum(((Y - np.ones(shape = Y.shape)) * X_bias) + ((lin_comb/(1 + lin_comb)) * X_bias), axis = 0)\n",
        "      grad = np.reshape(grad, (-1, 1))\n",
        "\n",
        "      regularizer = self.beta/self.sigma**2\n",
        "      result = np.add(grad, regularizer)\n",
        "\n",
        "      self.beta -= params[\"learning_rate\"] * result\n",
        "      likelihood_grad_norm = np.linalg.norm(grad)\n",
        "      # print(likelihood_grad_norm)\n",
        "\n",
        "      #testing\n",
        "      y_pred = self.predict(X_test)\n",
        "      loss.append(self.loss(y_pred, Y_test))\n",
        "\n",
        "\n",
        "    return loss\n",
        "\n",
        "\n",
        "  # loss function\n",
        "  def loss(self, y_pred, y_true):\n",
        "\n",
        "    # calculate loss\n",
        "    m = y_pred.shape[0]\n",
        "    num_correct = m - np.sum(abs(y_pred - y_true))\n",
        "\n",
        "    return num_correct / m\n",
        "\n",
        "  # prediction\n",
        "  def predict(self, X):\n",
        "    X_bias = np.hstack((np.ones(shape = (X.shape[0], 1)), X))\n",
        "    X_bias_shape = X_bias.shape\n",
        "\n",
        "    pred = 1 / (1 + np.exp(-X_bias @ self.beta))\n",
        "    results = []\n",
        "\n",
        "    for idx in range(pred.shape[0]):\n",
        "      if pred[idx] > (1-pred[idx]):\n",
        "        results.append(0)\n",
        "      else:\n",
        "        results.append(1)\n",
        "    return np.array(results).reshape(-1, 1)\n"
      ]
    },
    {
      "cell_type": "code",
      "source": [
        "# extract only 1's and 0's\n",
        "def extract_certain_values(X, Y, values):\n",
        "  X = X.to_numpy()\n",
        "  Y = Y.to_numpy()\n",
        "\n",
        "  X_output = []\n",
        "  Y_output = []\n",
        "\n",
        "  for idx in range(X.shape[0]):\n",
        "    if Y[idx] in values:\n",
        "      X_output.append(X[idx, :])\n",
        "      Y_output.append(Y[idx])\n",
        "\n",
        "  return np.array(X_output), np.array(Y_output)"
      ],
      "metadata": {
        "id": "cy0LZ-CBapZk"
      },
      "execution_count": 186,
      "outputs": []
    },
    {
      "cell_type": "code",
      "source": [
        "x_output, y_output = extract_certain_values(x_train, y_train, values = [0, 1])\n",
        "x_test_output, y_test_output = extract_certain_values(x_test, y_test, values = [0, 1])"
      ],
      "metadata": {
        "id": "QP32LhTobVBa"
      },
      "execution_count": 187,
      "outputs": []
    },
    {
      "cell_type": "code",
      "source": [
        "bayesian_model = BayesianLogisticRegression(sigma = 1)\n",
        "\n",
        "loss = bayesian_model.fit(X = x_output, Y = y_output, X_test = x_test_output, Y_test = y_test_output, params = {\"epsilon\": .001, \"learning_rate\": .01})\n",
        "\n",
        "plt.plot(loss)\n",
        "y_pred = bayesian_model.predict(x_test_output)\n",
        "# print(y_test_output)\n",
        "# print(y_pred)\n",
        "print(bayesian_model.loss(y_pred, y_test_output))"
      ],
      "metadata": {
        "colab": {
          "base_uri": "https://localhost:8080/",
          "height": 537
        },
        "id": "H5f0UhYjD2df",
        "outputId": "50be18c9-5a1b-470b-a56d-10815ba4f10c"
      },
      "execution_count": 209,
      "outputs": [
        {
          "output_type": "stream",
          "name": "stderr",
          "text": [
            "<ipython-input-204-991a2db6aca3>:27: RuntimeWarning: overflow encountered in exp\n",
            "  lin_comb = np.exp(-X_bias @ self.beta) # n x 1\n",
            "<ipython-input-204-991a2db6aca3>:29: RuntimeWarning: invalid value encountered in divide\n",
            "  grad = np.sum(((Y - np.ones(shape = Y.shape)) * X_bias) + ((lin_comb/(1 + lin_comb)) * X_bias), axis = 0)\n"
          ]
        },
        {
          "output_type": "stream",
          "name": "stdout",
          "text": [
            "0.5\n"
          ]
        },
        {
          "output_type": "display_data",
          "data": {
            "text/plain": [
              "<Figure size 640x480 with 1 Axes>"
            ],
            "image/png": "[encoded data removed]"
          },
          "metadata": {}
        }
      ]
    },
    {
      "cell_type": "markdown",
      "source": [
        "## 2) **PCA**"
      ],
      "metadata": {
        "id": "O-O4dFtGmn-i"
      }
    },
    {
      "cell_type": "code",
      "source": [
        "# pca projection function for a given number of components\n",
        "def pca_projection(dataset_x, components):\n",
        "  pca = PCA(n_components = components)\n",
        "\n",
        "  return pca.fit_transform(X = dataset_x)\n",
        "\n",
        "# resulting projections\n",
        "pca_projections_dict = {\n",
        "    \"10_pc\": pca_projection(x_train, 10),\n",
        "    \"20_pc\": pca_projection(x_train, 20),\n",
        "    \"30_pc\": pca_projection(x_train, 30)\n",
        "}"
      ],
      "metadata": {
        "id": "CuzesYG7msLX"
      },
      "execution_count": null,
      "outputs": []
    },
    {
      "cell_type": "markdown",
      "source": [
        "## 3) **Augmentation**"
      ],
      "metadata": {
        "id": "znGNkIQumszG"
      }
    },
    {
      "cell_type": "code",
      "source": [
        "# function that augments the image\n",
        "param = {\n",
        "    \"degree_min\": -15,\n",
        "    \"degree_max\": 15,\n",
        "    \"translate_min\": -5,\n",
        "    \"translate_max\": 5\n",
        "}\n",
        "\n",
        "\n",
        "# function that augments the image\n",
        "def augment_image(images, labels, param):\n",
        "  random_degree = rand.randrange(param[\"degree_min\"], param[\"degree_max\"] + 1)\n",
        "  translation_x = rand.randrange(param[\"translate_min\"], param[\"translate_max\"] + 1)\n",
        "  translation_y = rand.randrange(param[\"translate_min\"], param[\"translate_max\"] + 1)\n",
        "\n",
        "  dataframe_shape = images.shape\n",
        "  images_copy = images.copy()\n",
        "  labels_copy = labels.copy()\n",
        "\n",
        "  # loop through each image and augment it\n",
        "  for idx in range(dataframe_shape[0]):\n",
        "    # rotate and then translate\n",
        "    img_np_array = images.iloc[idx, :].to_numpy().reshape(28, 28)\n",
        "    rotated_img = rotate(img_np_array, random_degree)\n",
        "    translate_img = np.roll(img_np_array, translation_x, axis = 1)\n",
        "    transformed_img = np.roll(translate_img, translation_y, axis = 0)\n",
        "\n",
        "    images_copy = images_copy._append(pd.Series(transformed_img.reshape(-1)))\n",
        "\n",
        "\n",
        "# testing\n",
        "  # print(random_degree)\n",
        "  # plt.imshow(rotate(images.iloc[300, :].to_numpy().reshape(28, 28), 0))\n",
        "  # plt.imshow(np.roll(images.iloc[300, :].to_numpy().reshape(28, 28), 5, axis = 0))\n",
        "\n",
        "\n",
        "augment_image(x_train, y_train, param)\n"
      ],
      "metadata": {
        "id": "Ho7LSBJpmwmy"
      },
      "execution_count": null,
      "outputs": []
    },
    {
      "cell_type": "markdown",
      "source": [
        "## **Sources**\n",
        "scikit-learn.org\n",
        "\n",
        "https://stackoverflow.com/questions/53171057/numpy-matrix-rotation-for-any-degrees\n",
        "\n",
        "https://docs.scipy.org/doc/scipy/reference/generated/scipy.ndimage.rotate.html\n",
        "\n",
        "https://pandas.pydata.org/docs/reference/api/pandas.DataFrame.copy.html\n",
        "\n",
        "\n"
      ],
      "metadata": {
        "id": "Ljf2Kxxrux-b"
      }
    },
    {
      "cell_type": "code",
      "source": [],
      "metadata": {
        "id": "avn0KoG7LJvc"
      },
      "execution_count": null,
      "outputs": []
    }
  ]
}