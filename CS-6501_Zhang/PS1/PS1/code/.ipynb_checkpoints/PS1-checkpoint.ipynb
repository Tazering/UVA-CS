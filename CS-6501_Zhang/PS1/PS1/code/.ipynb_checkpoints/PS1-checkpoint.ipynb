{
 "cells": [
  {
   "cell_type": "markdown",
   "metadata": {},
   "source": [
    "### Import Libraries"
   ]
  },
  {
   "cell_type": "code",
   "execution_count": 1,
   "metadata": {},
   "outputs": [],
   "source": [
    "import numpy as np\n",
    "import cv2\n",
    "import matplotlib.pyplot as plt\n",
    "from skimage.color import rgb2hsv, rgb2gray, rgb2yuv"
   ]
  },
  {
   "cell_type": "markdown",
   "metadata": {},
   "source": [
    "### Forward and Backward Difference"
   ]
  },
  {
   "cell_type": "code",
   "execution_count": 2,
   "metadata": {},
   "outputs": [
    {
     "ename": "AttributeError",
     "evalue": "'NoneType' object has no attribute 'ndim'",
     "output_type": "error",
     "traceback": [
      "\u001b[1;31m---------------------------------------------------------------------------\u001b[0m",
      "\u001b[1;31mAttributeError\u001b[0m                            Traceback (most recent call last)",
      "\u001b[1;32m~\\AppData\\Local\\Temp/ipykernel_11868/2305733260.py\u001b[0m in \u001b[0;36m<module>\u001b[1;34m\u001b[0m\n\u001b[0;32m     17\u001b[0m \u001b[1;31m## replace with your own image\u001b[0m\u001b[1;33m\u001b[0m\u001b[1;33m\u001b[0m\u001b[0m\n\u001b[0;32m     18\u001b[0m \u001b[0mimg\u001b[0m \u001b[1;33m=\u001b[0m \u001b[0mcv2\u001b[0m\u001b[1;33m.\u001b[0m\u001b[0mimread\u001b[0m\u001b[1;33m(\u001b[0m\u001b[1;34m'cameraman.png'\u001b[0m\u001b[1;33m)\u001b[0m\u001b[1;33m\u001b[0m\u001b[1;33m\u001b[0m\u001b[0m\n\u001b[1;32m---> 19\u001b[1;33m \u001b[0mimg_gray\u001b[0m \u001b[1;33m=\u001b[0m \u001b[0mrgb2gray\u001b[0m\u001b[1;33m(\u001b[0m\u001b[0mimg\u001b[0m\u001b[1;33m)\u001b[0m\u001b[1;33m\u001b[0m\u001b[1;33m\u001b[0m\u001b[0m\n\u001b[0m\u001b[0;32m     20\u001b[0m \u001b[1;33m\u001b[0m\u001b[0m\n\u001b[0;32m     21\u001b[0m \u001b[1;33m\u001b[0m\u001b[0m\n",
      "\u001b[1;32m~\\anaconda3\\lib\\site-packages\\skimage\\color\\colorconv.py\u001b[0m in \u001b[0;36mrgb2gray\u001b[1;34m(rgb)\u001b[0m\n\u001b[0;32m    767\u001b[0m     \"\"\"\n\u001b[0;32m    768\u001b[0m \u001b[1;33m\u001b[0m\u001b[0m\n\u001b[1;32m--> 769\u001b[1;33m     \u001b[1;32mif\u001b[0m \u001b[0mrgb\u001b[0m\u001b[1;33m.\u001b[0m\u001b[0mndim\u001b[0m \u001b[1;33m==\u001b[0m \u001b[1;36m2\u001b[0m\u001b[1;33m:\u001b[0m\u001b[1;33m\u001b[0m\u001b[1;33m\u001b[0m\u001b[0m\n\u001b[0m\u001b[0;32m    770\u001b[0m         warn('The behavior of rgb2gray will change in scikit-image 0.19. '\n\u001b[0;32m    771\u001b[0m              \u001b[1;34m'Currently, rgb2gray allows 2D grayscale image to be passed '\u001b[0m\u001b[1;33m\u001b[0m\u001b[1;33m\u001b[0m\u001b[0m\n",
      "\u001b[1;31mAttributeError\u001b[0m: 'NoneType' object has no attribute 'ndim'"
     ]
    }
   ],
   "source": [
    "einstein_image_path = \"./einstein.jpg\"\n",
    "\n",
    "def forward_difference(image):\n",
    "    rows, cols = image.shape\n",
    "    d = np.zeros((rows,cols))\n",
    "    d[:,1:cols-1] = image[:,1:cols-1] - image[:,0:cols-2];\n",
    "    d[:,0] = image[:,0] - image[:,cols-1];\n",
    "    return d\n",
    "\n",
    "\n",
    "def backward_difference(image):\n",
    "    rows, cols = image.shape\n",
    "    d = np.zeros((rows,cols))\n",
    "    d[1:rows-1, :] = image[1:rows-1, :] - image[0:rows-2, :];\n",
    "    d[0,:] = image[0,:] - image[rows-1,:];\n",
    "    return d\n",
    "\n",
    "\n",
    "## replace with your own image\n",
    "img = cv2.imread('cameraman.png')\n",
    "img_gray = rgb2gray(img)\n",
    "\n",
    "\n",
    "## plot the image\n",
    "plt.figure()\n",
    "plt.title('Input Image')\n",
    "plt.imshow(img_gray, cmap='gray')\n",
    "\n",
    "\n",
    "## calculate forward difference and plot\n",
    "forward_diff_img = forward_difference(img_gray)\n",
    "plt.figure()\n",
    "plt.title('Forward Difference')\n",
    "plt.imshow(forward_diff_img, cmap='gray')\n",
    "\n",
    "\n",
    "## calculate backward difference and plot\n",
    "backward_diff_img = backward_difference(img_gray)\n",
    "plt.figure()\n",
    "plt.title('Backward Difference')\n",
    "plt.imshow(backward_diff_img, cmap='gray')"
   ]
  },
  {
   "cell_type": "code",
   "execution_count": null,
   "metadata": {},
   "outputs": [],
   "source": []
  }
 ],
 "metadata": {
  "kernelspec": {
   "display_name": "Python 3 (ipykernel)",
   "language": "python",
   "name": "python3"
  },
  "language_info": {
   "codemirror_mode": {
    "name": "ipython",
    "version": 3
   },
   "file_extension": ".py",
   "mimetype": "text/x-python",
   "name": "python",
   "nbconvert_exporter": "python",
   "pygments_lexer": "ipython3",
   "version": "3.9.7"
  },
  "vscode": {
   "interpreter": {
    "hash": "be34f5713e2c3e8bbe5459cb525c363d5d0e9d2516a1d564e6eb718dc5040654"
   }
  }
 },
 "nbformat": 4,
 "nbformat_minor": 2
}
